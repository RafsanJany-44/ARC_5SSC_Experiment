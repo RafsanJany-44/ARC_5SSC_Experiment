{
  "cells": [
    {
      "cell_type": "markdown",
      "metadata": {
        "id": "view-in-github",
        "colab_type": "text"
      },
      "source": [
        "<a href=\"https://colab.research.google.com/github/RafsanJany-44/ARC_5SSC_Experiment/blob/main/SleepStage_EEG_EXperiment.ipynb\" target=\"_parent\"><img src=\"https://colab.research.google.com/assets/colab-badge.svg\" alt=\"Open In Colab\"/></a>"
      ]
    },
    {
      "cell_type": "markdown",
      "metadata": {
        "id": "SEsFaHeE2Pss"
      },
      "source": [
        "###Function"
      ]
    },
    {
      "cell_type": "code",
      "execution_count": null,
      "metadata": {
        "id": "9kW4Aq41M67a"
      },
      "outputs": [],
      "source": [
        "!pip install imbalanced-learn\n",
        "!pip install ipywidgets\n"
      ]
    },
    {
      "cell_type": "code",
      "execution_count": 2,
      "metadata": {
        "id": "S6X6XwSVM67b"
      },
      "outputs": [],
      "source": [
        "from imblearn.over_sampling import SMOTE\n",
        "import ipywidgets as widgets\n",
        "from sklearn.preprocessing import StandardScaler\n",
        "from sklearn.preprocessing import MinMaxScaler\n",
        "import numpy as np\n",
        "import pandas as pd"
      ]
    },
    {
      "cell_type": "code",
      "execution_count": 3,
      "metadata": {
        "id": "ESoueLt11P_w"
      },
      "outputs": [],
      "source": [
        "def ddataset_balance(X_temp, y_temp):\n",
        "  smote = SMOTE()\n",
        "  X_temp, y_temp= smote.fit_resample(X_temp, y_temp)\n",
        "  return pd.concat([pd.DataFrame(X_temp), pd.DataFrame(y_temp)], axis=1)\n",
        "\n",
        "def Xy_balance(X_temp, y_temp):\n",
        "  smote = SMOTE()\n",
        "  return smote.fit_resample(X_temp, y_temp)\n",
        "\n",
        "def Search_Null(dataset):\n",
        "  dic={}\n",
        "  for col in list(dataset.columns):\n",
        "    rows = []\n",
        "    flage = 0\n",
        "    for row in range(dataset.shape[0]):\n",
        "      if str(dataset[col][row]) == \"nan\":\n",
        "        rows.append(row)\n",
        "        flage = 1\n",
        "    if flage ==1:\n",
        "      dic[col] = rows\n",
        "  \n",
        "  return dic\n",
        "\n",
        "\n",
        "def models_check_box(models):\n",
        "  from IPython.display import display\n",
        "  new_keys=[]\n",
        "  for i in models:\n",
        "    i=widgets.Checkbox(\n",
        "      value=False,\n",
        "      description=str(i),\n",
        "      disabled=False,\n",
        "      indent=False\n",
        "      )\n",
        "    display(i)\n",
        "    new_keys.append(i)\n",
        "  return new_keys\n",
        "\n",
        "\n",
        "def StandardScaleData(data):\n",
        "  scaler = StandardScaler()\n",
        "  scaler.fit(data)\n",
        "  return  scaler.transform(data)\n",
        "\n",
        "\n",
        "def MinMaxScaleData(data):\n",
        "  scaler = MinMaxScaler()\n",
        "  scaler.fit(data)\n",
        "  return scaler.transform(data)"
      ]
    },
    {
      "cell_type": "markdown",
      "metadata": {
        "id": "A1B_8Nsw9-1Q"
      },
      "source": [
        "#Starting"
      ]
    },
    {
      "cell_type": "code",
      "execution_count": 63,
      "metadata": {
        "colab": {
          "base_uri": "https://localhost:8080/"
        },
        "id": "Om8npCtFM67e",
        "outputId": "a4a8aa2a-3562-4f71-d3b3-3e8e78ce5ac5"
      },
      "outputs": [
        {
          "output_type": "stream",
          "name": "stdout",
          "text": [
            "(108920, 52)\n",
            "(108450, 52)\n"
          ]
        }
      ],
      "source": [
        "dataset = pd.read_csv(\"https://raw.githubusercontent.com/RafsanJany-44/Reopen_5_stage_sleep_classifiacation/main/EEG_HMC_FeatureExtraction_2023.01.19.csv\")\n",
        "print(dataset.shape)\n",
        "dataset.dropna(axis = 0,how='any', inplace = True)\n",
        "dataset = dataset.reset_index(drop = True)\n",
        "\"\"\"df.to_csv(\"New_EEG_NullValueRemoved_HMC.csv\",index = False)\n",
        "dataset = pd.read_csv(\"New_EEG_NullValueRemoved_HMC.csv\")\"\"\"\n",
        "target = \"Sleep Stage\"\n",
        "result = {}\n",
        "print(dataset.shape)"
      ]
    },
    {
      "cell_type": "code",
      "source": [
        "dataset.head()"
      ],
      "metadata": {
        "colab": {
          "base_uri": "https://localhost:8080/",
          "height": 317
        },
        "id": "_PZkq1_2eIK4",
        "outputId": "69be50ed-90ad-4860-becf-43113ffb3041"
      },
      "execution_count": 64,
      "outputs": [
        {
          "output_type": "execute_result",
          "data": {
            "text/plain": [
              "  Subject Sleep Stage  Epoch  MeanP_Alpha_F4  MeanP_Beta_F4  MeanP_Theta_F4  \\\n",
              "0   SN002           W      0         0.00051        0.00071         0.00121   \n",
              "1   SN002           W      1         0.00040        0.00051         0.00062   \n",
              "2   SN002           W      2         0.00036        0.00047         0.00059   \n",
              "3   SN002           W      3         0.00035        0.00047         0.00043   \n",
              "4   SN002           W      4         0.00033        0.00043         0.00053   \n",
              "\n",
              "   MeanP_Delta_F4  MeanP_Gamma_F4  MeanP_Alpha_C4  MeanP_Beta_C4  ...  DAR_C4  \\\n",
              "0         0.01070        0.000240         0.00041        0.00067  ...    8.61   \n",
              "1         0.00539        0.000120         0.00038        0.00052  ...    6.26   \n",
              "2         0.00967        0.000100         0.00036        0.00049  ...    8.67   \n",
              "3         0.00228        0.000110         0.00036        0.00053  ...    4.00   \n",
              "4         0.00436        0.000094         0.00031        0.00043  ...    4.81   \n",
              "\n",
              "   DAR_O2  DAR_G  DTR_F4  DTR_O2  DTABR_F4  DTABR_C4  DTABR_O2  DTABR_G  \\\n",
              "0   25.00  18.20    8.85   18.60      9.77      3.83      8.67     7.42   \n",
              "1   30.10  16.60    8.69   28.90      6.60      3.16     12.30     7.34   \n",
              "2   10.50  15.30   16.40    9.58     12.40      4.19      4.62     7.06   \n",
              "3    3.64   4.72    5.30    3.64      3.30      2.07      1.90     2.42   \n",
              "4    7.61   8.54    8.23    7.29      6.43      2.53      3.49     4.15   \n",
              "\n",
              "       P_G  \n",
              "0  0.00918  \n",
              "1  0.00636  \n",
              "2  0.00628  \n",
              "3  0.00278  \n",
              "4  0.00369  \n",
              "\n",
              "[5 rows x 52 columns]"
            ],
            "text/html": [
              "\n",
              "  <div id=\"df-754aed25-2c3f-436f-863f-bdb9a2669950\">\n",
              "    <div class=\"colab-df-container\">\n",
              "      <div>\n",
              "<style scoped>\n",
              "    .dataframe tbody tr th:only-of-type {\n",
              "        vertical-align: middle;\n",
              "    }\n",
              "\n",
              "    .dataframe tbody tr th {\n",
              "        vertical-align: top;\n",
              "    }\n",
              "\n",
              "    .dataframe thead th {\n",
              "        text-align: right;\n",
              "    }\n",
              "</style>\n",
              "<table border=\"1\" class=\"dataframe\">\n",
              "  <thead>\n",
              "    <tr style=\"text-align: right;\">\n",
              "      <th></th>\n",
              "      <th>Subject</th>\n",
              "      <th>Sleep Stage</th>\n",
              "      <th>Epoch</th>\n",
              "      <th>MeanP_Alpha_F4</th>\n",
              "      <th>MeanP_Beta_F4</th>\n",
              "      <th>MeanP_Theta_F4</th>\n",
              "      <th>MeanP_Delta_F4</th>\n",
              "      <th>MeanP_Gamma_F4</th>\n",
              "      <th>MeanP_Alpha_C4</th>\n",
              "      <th>MeanP_Beta_C4</th>\n",
              "      <th>...</th>\n",
              "      <th>DAR_C4</th>\n",
              "      <th>DAR_O2</th>\n",
              "      <th>DAR_G</th>\n",
              "      <th>DTR_F4</th>\n",
              "      <th>DTR_O2</th>\n",
              "      <th>DTABR_F4</th>\n",
              "      <th>DTABR_C4</th>\n",
              "      <th>DTABR_O2</th>\n",
              "      <th>DTABR_G</th>\n",
              "      <th>P_G</th>\n",
              "    </tr>\n",
              "  </thead>\n",
              "  <tbody>\n",
              "    <tr>\n",
              "      <th>0</th>\n",
              "      <td>SN002</td>\n",
              "      <td>W</td>\n",
              "      <td>0</td>\n",
              "      <td>0.00051</td>\n",
              "      <td>0.00071</td>\n",
              "      <td>0.00121</td>\n",
              "      <td>0.01070</td>\n",
              "      <td>0.000240</td>\n",
              "      <td>0.00041</td>\n",
              "      <td>0.00067</td>\n",
              "      <td>...</td>\n",
              "      <td>8.61</td>\n",
              "      <td>25.00</td>\n",
              "      <td>18.20</td>\n",
              "      <td>8.85</td>\n",
              "      <td>18.60</td>\n",
              "      <td>9.77</td>\n",
              "      <td>3.83</td>\n",
              "      <td>8.67</td>\n",
              "      <td>7.42</td>\n",
              "      <td>0.00918</td>\n",
              "    </tr>\n",
              "    <tr>\n",
              "      <th>1</th>\n",
              "      <td>SN002</td>\n",
              "      <td>W</td>\n",
              "      <td>1</td>\n",
              "      <td>0.00040</td>\n",
              "      <td>0.00051</td>\n",
              "      <td>0.00062</td>\n",
              "      <td>0.00539</td>\n",
              "      <td>0.000120</td>\n",
              "      <td>0.00038</td>\n",
              "      <td>0.00052</td>\n",
              "      <td>...</td>\n",
              "      <td>6.26</td>\n",
              "      <td>30.10</td>\n",
              "      <td>16.60</td>\n",
              "      <td>8.69</td>\n",
              "      <td>28.90</td>\n",
              "      <td>6.60</td>\n",
              "      <td>3.16</td>\n",
              "      <td>12.30</td>\n",
              "      <td>7.34</td>\n",
              "      <td>0.00636</td>\n",
              "    </tr>\n",
              "    <tr>\n",
              "      <th>2</th>\n",
              "      <td>SN002</td>\n",
              "      <td>W</td>\n",
              "      <td>2</td>\n",
              "      <td>0.00036</td>\n",
              "      <td>0.00047</td>\n",
              "      <td>0.00059</td>\n",
              "      <td>0.00967</td>\n",
              "      <td>0.000100</td>\n",
              "      <td>0.00036</td>\n",
              "      <td>0.00049</td>\n",
              "      <td>...</td>\n",
              "      <td>8.67</td>\n",
              "      <td>10.50</td>\n",
              "      <td>15.30</td>\n",
              "      <td>16.40</td>\n",
              "      <td>9.58</td>\n",
              "      <td>12.40</td>\n",
              "      <td>4.19</td>\n",
              "      <td>4.62</td>\n",
              "      <td>7.06</td>\n",
              "      <td>0.00628</td>\n",
              "    </tr>\n",
              "    <tr>\n",
              "      <th>3</th>\n",
              "      <td>SN002</td>\n",
              "      <td>W</td>\n",
              "      <td>3</td>\n",
              "      <td>0.00035</td>\n",
              "      <td>0.00047</td>\n",
              "      <td>0.00043</td>\n",
              "      <td>0.00228</td>\n",
              "      <td>0.000110</td>\n",
              "      <td>0.00036</td>\n",
              "      <td>0.00053</td>\n",
              "      <td>...</td>\n",
              "      <td>4.00</td>\n",
              "      <td>3.64</td>\n",
              "      <td>4.72</td>\n",
              "      <td>5.30</td>\n",
              "      <td>3.64</td>\n",
              "      <td>3.30</td>\n",
              "      <td>2.07</td>\n",
              "      <td>1.90</td>\n",
              "      <td>2.42</td>\n",
              "      <td>0.00278</td>\n",
              "    </tr>\n",
              "    <tr>\n",
              "      <th>4</th>\n",
              "      <td>SN002</td>\n",
              "      <td>W</td>\n",
              "      <td>4</td>\n",
              "      <td>0.00033</td>\n",
              "      <td>0.00043</td>\n",
              "      <td>0.00053</td>\n",
              "      <td>0.00436</td>\n",
              "      <td>0.000094</td>\n",
              "      <td>0.00031</td>\n",
              "      <td>0.00043</td>\n",
              "      <td>...</td>\n",
              "      <td>4.81</td>\n",
              "      <td>7.61</td>\n",
              "      <td>8.54</td>\n",
              "      <td>8.23</td>\n",
              "      <td>7.29</td>\n",
              "      <td>6.43</td>\n",
              "      <td>2.53</td>\n",
              "      <td>3.49</td>\n",
              "      <td>4.15</td>\n",
              "      <td>0.00369</td>\n",
              "    </tr>\n",
              "  </tbody>\n",
              "</table>\n",
              "<p>5 rows × 52 columns</p>\n",
              "</div>\n",
              "      <button class=\"colab-df-convert\" onclick=\"convertToInteractive('df-754aed25-2c3f-436f-863f-bdb9a2669950')\"\n",
              "              title=\"Convert this dataframe to an interactive table.\"\n",
              "              style=\"display:none;\">\n",
              "        \n",
              "  <svg xmlns=\"http://www.w3.org/2000/svg\" height=\"24px\"viewBox=\"0 0 24 24\"\n",
              "       width=\"24px\">\n",
              "    <path d=\"M0 0h24v24H0V0z\" fill=\"none\"/>\n",
              "    <path d=\"M18.56 5.44l.94 2.06.94-2.06 2.06-.94-2.06-.94-.94-2.06-.94 2.06-2.06.94zm-11 1L8.5 8.5l.94-2.06 2.06-.94-2.06-.94L8.5 2.5l-.94 2.06-2.06.94zm10 10l.94 2.06.94-2.06 2.06-.94-2.06-.94-.94-2.06-.94 2.06-2.06.94z\"/><path d=\"M17.41 7.96l-1.37-1.37c-.4-.4-.92-.59-1.43-.59-.52 0-1.04.2-1.43.59L10.3 9.45l-7.72 7.72c-.78.78-.78 2.05 0 2.83L4 21.41c.39.39.9.59 1.41.59.51 0 1.02-.2 1.41-.59l7.78-7.78 2.81-2.81c.8-.78.8-2.07 0-2.86zM5.41 20L4 18.59l7.72-7.72 1.47 1.35L5.41 20z\"/>\n",
              "  </svg>\n",
              "      </button>\n",
              "      \n",
              "  <style>\n",
              "    .colab-df-container {\n",
              "      display:flex;\n",
              "      flex-wrap:wrap;\n",
              "      gap: 12px;\n",
              "    }\n",
              "\n",
              "    .colab-df-convert {\n",
              "      background-color: #E8F0FE;\n",
              "      border: none;\n",
              "      border-radius: 50%;\n",
              "      cursor: pointer;\n",
              "      display: none;\n",
              "      fill: #1967D2;\n",
              "      height: 32px;\n",
              "      padding: 0 0 0 0;\n",
              "      width: 32px;\n",
              "    }\n",
              "\n",
              "    .colab-df-convert:hover {\n",
              "      background-color: #E2EBFA;\n",
              "      box-shadow: 0px 1px 2px rgba(60, 64, 67, 0.3), 0px 1px 3px 1px rgba(60, 64, 67, 0.15);\n",
              "      fill: #174EA6;\n",
              "    }\n",
              "\n",
              "    [theme=dark] .colab-df-convert {\n",
              "      background-color: #3B4455;\n",
              "      fill: #D2E3FC;\n",
              "    }\n",
              "\n",
              "    [theme=dark] .colab-df-convert:hover {\n",
              "      background-color: #434B5C;\n",
              "      box-shadow: 0px 1px 3px 1px rgba(0, 0, 0, 0.15);\n",
              "      filter: drop-shadow(0px 1px 2px rgba(0, 0, 0, 0.3));\n",
              "      fill: #FFFFFF;\n",
              "    }\n",
              "  </style>\n",
              "\n",
              "      <script>\n",
              "        const buttonEl =\n",
              "          document.querySelector('#df-754aed25-2c3f-436f-863f-bdb9a2669950 button.colab-df-convert');\n",
              "        buttonEl.style.display =\n",
              "          google.colab.kernel.accessAllowed ? 'block' : 'none';\n",
              "\n",
              "        async function convertToInteractive(key) {\n",
              "          const element = document.querySelector('#df-754aed25-2c3f-436f-863f-bdb9a2669950');\n",
              "          const dataTable =\n",
              "            await google.colab.kernel.invokeFunction('convertToInteractive',\n",
              "                                                     [key], {});\n",
              "          if (!dataTable) return;\n",
              "\n",
              "          const docLinkHtml = 'Like what you see? Visit the ' +\n",
              "            '<a target=\"_blank\" href=https://colab.research.google.com/notebooks/data_table.ipynb>data table notebook</a>'\n",
              "            + ' to learn more about interactive tables.';\n",
              "          element.innerHTML = '';\n",
              "          dataTable['output_type'] = 'display_data';\n",
              "          await google.colab.output.renderOutput(dataTable, element);\n",
              "          const docLink = document.createElement('div');\n",
              "          docLink.innerHTML = docLinkHtml;\n",
              "          element.appendChild(docLink);\n",
              "        }\n",
              "      </script>\n",
              "    </div>\n",
              "  </div>\n",
              "  "
            ]
          },
          "metadata": {},
          "execution_count": 64
        }
      ]
    },
    {
      "cell_type": "markdown",
      "metadata": {
        "id": "yKnKlzthM67f"
      },
      "source": [
        "###Enocoding"
      ]
    },
    {
      "cell_type": "code",
      "execution_count": 65,
      "metadata": {
        "id": "Ljyj9yuIf-tX"
      },
      "outputs": [],
      "source": [
        "from sklearn.preprocessing import LabelEncoder\n",
        "encoder=LabelEncoder()\n",
        "dataset[target]=encoder.fit_transform(dataset[target])"
      ]
    },
    {
      "cell_type": "markdown",
      "metadata": {
        "id": "TXMKr8bi2JnW"
      },
      "source": [
        "###Spliting into X and y"
      ]
    },
    {
      "cell_type": "code",
      "execution_count": 66,
      "metadata": {
        "colab": {
          "base_uri": "https://localhost:8080/",
          "height": 456
        },
        "id": "tIf-rcIB11o1",
        "outputId": "5e011595-b103-4ff3-e066-adbb1a97dfb3"
      },
      "outputs": [
        {
          "output_type": "execute_result",
          "data": {
            "text/plain": [
              "   MeanP_Alpha_F4  MeanP_Beta_F4  MeanP_Theta_F4  MeanP_Delta_F4  \\\n",
              "0         0.00051        0.00071         0.00121         0.01070   \n",
              "1         0.00040        0.00051         0.00062         0.00539   \n",
              "2         0.00036        0.00047         0.00059         0.00967   \n",
              "3         0.00035        0.00047         0.00043         0.00228   \n",
              "4         0.00033        0.00043         0.00053         0.00436   \n",
              "5         0.00036        0.00043         0.00038         0.00194   \n",
              "6         0.00034        0.00047         0.00041         0.00159   \n",
              "7         0.00035        0.00048         0.00040         0.00128   \n",
              "8         0.00035        0.00042         0.00052         0.00134   \n",
              "9         0.00050        0.00053         0.00077         0.00290   \n",
              "\n",
              "   MeanP_Gamma_F4  MeanP_Alpha_C4  MeanP_Beta_C4  MeanP_Theta_C4  \\\n",
              "0        0.000240         0.00041        0.00067         0.00061   \n",
              "1        0.000120         0.00038        0.00052         0.00046   \n",
              "2        0.000100         0.00036        0.00049         0.00044   \n",
              "3        0.000110         0.00036        0.00053         0.00040   \n",
              "4        0.000094         0.00031        0.00043         0.00038   \n",
              "5        0.000085         0.00039        0.00048         0.00041   \n",
              "6        0.000100         0.00038        0.00054         0.00048   \n",
              "7        0.000094         0.00041        0.00064         0.00051   \n",
              "8        0.000094         0.00043        0.00047         0.00078   \n",
              "9        0.000087         0.00067        0.00073         0.00139   \n",
              "\n",
              "   MeanP_Delta_C4  MeanP_Gamma_C4  ...  DAR_C4  DAR_O2  DAR_G  DTR_F4  DTR_O2  \\\n",
              "0         0.00353        0.000210  ...    8.61   25.00  18.20    8.85   18.60   \n",
              "1         0.00238        0.000100  ...    6.26   30.10  16.60    8.69   28.90   \n",
              "2         0.00312        0.000087  ...    8.67   10.50  15.30   16.40    9.58   \n",
              "3         0.00144        0.000110  ...    4.00    3.64   4.72    5.30    3.64   \n",
              "4         0.00149        0.000081  ...    4.81    7.61   8.54    8.23    7.29   \n",
              "5         0.00100        0.000081  ...    2.56    2.44   3.47    5.11    2.64   \n",
              "6         0.00138        0.000100  ...    3.63    4.87   4.39    3.88    4.48   \n",
              "7         0.00134        0.000110  ...    3.27    3.04   3.32    3.20    2.59   \n",
              "8         0.00156        0.000087  ...    3.63    3.08   3.51    2.58    2.14   \n",
              "9         0.00549        0.000095  ...    8.19    4.81   6.27    3.77    2.77   \n",
              "\n",
              "   DTABR_F4  DTABR_C4  DTABR_O2  DTABR_G      P_G  \n",
              "0      9.77      3.83      8.67     7.42  0.00918  \n",
              "1      6.60      3.16     12.30     7.34  0.00636  \n",
              "2     12.40      4.19      4.62     7.06  0.00628  \n",
              "3      3.30      2.07      1.90     2.42  0.00278  \n",
              "4      6.43      2.53      3.49     4.15  0.00369  \n",
              "5      2.94      1.62      1.52     2.02  0.00238  \n",
              "6      2.47      2.02      2.40     2.30  0.00260  \n",
              "7      2.02      1.76      1.76     1.85  0.00240  \n",
              "8      2.42      2.60      2.02     2.34  0.00260  \n",
              "9      3.56      4.91      2.95     3.81  0.00520  \n",
              "\n",
              "[10 rows x 49 columns]"
            ],
            "text/html": [
              "\n",
              "  <div id=\"df-08322419-6c6d-40ba-b659-41a4ad7cb0a2\">\n",
              "    <div class=\"colab-df-container\">\n",
              "      <div>\n",
              "<style scoped>\n",
              "    .dataframe tbody tr th:only-of-type {\n",
              "        vertical-align: middle;\n",
              "    }\n",
              "\n",
              "    .dataframe tbody tr th {\n",
              "        vertical-align: top;\n",
              "    }\n",
              "\n",
              "    .dataframe thead th {\n",
              "        text-align: right;\n",
              "    }\n",
              "</style>\n",
              "<table border=\"1\" class=\"dataframe\">\n",
              "  <thead>\n",
              "    <tr style=\"text-align: right;\">\n",
              "      <th></th>\n",
              "      <th>MeanP_Alpha_F4</th>\n",
              "      <th>MeanP_Beta_F4</th>\n",
              "      <th>MeanP_Theta_F4</th>\n",
              "      <th>MeanP_Delta_F4</th>\n",
              "      <th>MeanP_Gamma_F4</th>\n",
              "      <th>MeanP_Alpha_C4</th>\n",
              "      <th>MeanP_Beta_C4</th>\n",
              "      <th>MeanP_Theta_C4</th>\n",
              "      <th>MeanP_Delta_C4</th>\n",
              "      <th>MeanP_Gamma_C4</th>\n",
              "      <th>...</th>\n",
              "      <th>DAR_C4</th>\n",
              "      <th>DAR_O2</th>\n",
              "      <th>DAR_G</th>\n",
              "      <th>DTR_F4</th>\n",
              "      <th>DTR_O2</th>\n",
              "      <th>DTABR_F4</th>\n",
              "      <th>DTABR_C4</th>\n",
              "      <th>DTABR_O2</th>\n",
              "      <th>DTABR_G</th>\n",
              "      <th>P_G</th>\n",
              "    </tr>\n",
              "  </thead>\n",
              "  <tbody>\n",
              "    <tr>\n",
              "      <th>0</th>\n",
              "      <td>0.00051</td>\n",
              "      <td>0.00071</td>\n",
              "      <td>0.00121</td>\n",
              "      <td>0.01070</td>\n",
              "      <td>0.000240</td>\n",
              "      <td>0.00041</td>\n",
              "      <td>0.00067</td>\n",
              "      <td>0.00061</td>\n",
              "      <td>0.00353</td>\n",
              "      <td>0.000210</td>\n",
              "      <td>...</td>\n",
              "      <td>8.61</td>\n",
              "      <td>25.00</td>\n",
              "      <td>18.20</td>\n",
              "      <td>8.85</td>\n",
              "      <td>18.60</td>\n",
              "      <td>9.77</td>\n",
              "      <td>3.83</td>\n",
              "      <td>8.67</td>\n",
              "      <td>7.42</td>\n",
              "      <td>0.00918</td>\n",
              "    </tr>\n",
              "    <tr>\n",
              "      <th>1</th>\n",
              "      <td>0.00040</td>\n",
              "      <td>0.00051</td>\n",
              "      <td>0.00062</td>\n",
              "      <td>0.00539</td>\n",
              "      <td>0.000120</td>\n",
              "      <td>0.00038</td>\n",
              "      <td>0.00052</td>\n",
              "      <td>0.00046</td>\n",
              "      <td>0.00238</td>\n",
              "      <td>0.000100</td>\n",
              "      <td>...</td>\n",
              "      <td>6.26</td>\n",
              "      <td>30.10</td>\n",
              "      <td>16.60</td>\n",
              "      <td>8.69</td>\n",
              "      <td>28.90</td>\n",
              "      <td>6.60</td>\n",
              "      <td>3.16</td>\n",
              "      <td>12.30</td>\n",
              "      <td>7.34</td>\n",
              "      <td>0.00636</td>\n",
              "    </tr>\n",
              "    <tr>\n",
              "      <th>2</th>\n",
              "      <td>0.00036</td>\n",
              "      <td>0.00047</td>\n",
              "      <td>0.00059</td>\n",
              "      <td>0.00967</td>\n",
              "      <td>0.000100</td>\n",
              "      <td>0.00036</td>\n",
              "      <td>0.00049</td>\n",
              "      <td>0.00044</td>\n",
              "      <td>0.00312</td>\n",
              "      <td>0.000087</td>\n",
              "      <td>...</td>\n",
              "      <td>8.67</td>\n",
              "      <td>10.50</td>\n",
              "      <td>15.30</td>\n",
              "      <td>16.40</td>\n",
              "      <td>9.58</td>\n",
              "      <td>12.40</td>\n",
              "      <td>4.19</td>\n",
              "      <td>4.62</td>\n",
              "      <td>7.06</td>\n",
              "      <td>0.00628</td>\n",
              "    </tr>\n",
              "    <tr>\n",
              "      <th>3</th>\n",
              "      <td>0.00035</td>\n",
              "      <td>0.00047</td>\n",
              "      <td>0.00043</td>\n",
              "      <td>0.00228</td>\n",
              "      <td>0.000110</td>\n",
              "      <td>0.00036</td>\n",
              "      <td>0.00053</td>\n",
              "      <td>0.00040</td>\n",
              "      <td>0.00144</td>\n",
              "      <td>0.000110</td>\n",
              "      <td>...</td>\n",
              "      <td>4.00</td>\n",
              "      <td>3.64</td>\n",
              "      <td>4.72</td>\n",
              "      <td>5.30</td>\n",
              "      <td>3.64</td>\n",
              "      <td>3.30</td>\n",
              "      <td>2.07</td>\n",
              "      <td>1.90</td>\n",
              "      <td>2.42</td>\n",
              "      <td>0.00278</td>\n",
              "    </tr>\n",
              "    <tr>\n",
              "      <th>4</th>\n",
              "      <td>0.00033</td>\n",
              "      <td>0.00043</td>\n",
              "      <td>0.00053</td>\n",
              "      <td>0.00436</td>\n",
              "      <td>0.000094</td>\n",
              "      <td>0.00031</td>\n",
              "      <td>0.00043</td>\n",
              "      <td>0.00038</td>\n",
              "      <td>0.00149</td>\n",
              "      <td>0.000081</td>\n",
              "      <td>...</td>\n",
              "      <td>4.81</td>\n",
              "      <td>7.61</td>\n",
              "      <td>8.54</td>\n",
              "      <td>8.23</td>\n",
              "      <td>7.29</td>\n",
              "      <td>6.43</td>\n",
              "      <td>2.53</td>\n",
              "      <td>3.49</td>\n",
              "      <td>4.15</td>\n",
              "      <td>0.00369</td>\n",
              "    </tr>\n",
              "    <tr>\n",
              "      <th>5</th>\n",
              "      <td>0.00036</td>\n",
              "      <td>0.00043</td>\n",
              "      <td>0.00038</td>\n",
              "      <td>0.00194</td>\n",
              "      <td>0.000085</td>\n",
              "      <td>0.00039</td>\n",
              "      <td>0.00048</td>\n",
              "      <td>0.00041</td>\n",
              "      <td>0.00100</td>\n",
              "      <td>0.000081</td>\n",
              "      <td>...</td>\n",
              "      <td>2.56</td>\n",
              "      <td>2.44</td>\n",
              "      <td>3.47</td>\n",
              "      <td>5.11</td>\n",
              "      <td>2.64</td>\n",
              "      <td>2.94</td>\n",
              "      <td>1.62</td>\n",
              "      <td>1.52</td>\n",
              "      <td>2.02</td>\n",
              "      <td>0.00238</td>\n",
              "    </tr>\n",
              "    <tr>\n",
              "      <th>6</th>\n",
              "      <td>0.00034</td>\n",
              "      <td>0.00047</td>\n",
              "      <td>0.00041</td>\n",
              "      <td>0.00159</td>\n",
              "      <td>0.000100</td>\n",
              "      <td>0.00038</td>\n",
              "      <td>0.00054</td>\n",
              "      <td>0.00048</td>\n",
              "      <td>0.00138</td>\n",
              "      <td>0.000100</td>\n",
              "      <td>...</td>\n",
              "      <td>3.63</td>\n",
              "      <td>4.87</td>\n",
              "      <td>4.39</td>\n",
              "      <td>3.88</td>\n",
              "      <td>4.48</td>\n",
              "      <td>2.47</td>\n",
              "      <td>2.02</td>\n",
              "      <td>2.40</td>\n",
              "      <td>2.30</td>\n",
              "      <td>0.00260</td>\n",
              "    </tr>\n",
              "    <tr>\n",
              "      <th>7</th>\n",
              "      <td>0.00035</td>\n",
              "      <td>0.00048</td>\n",
              "      <td>0.00040</td>\n",
              "      <td>0.00128</td>\n",
              "      <td>0.000094</td>\n",
              "      <td>0.00041</td>\n",
              "      <td>0.00064</td>\n",
              "      <td>0.00051</td>\n",
              "      <td>0.00134</td>\n",
              "      <td>0.000110</td>\n",
              "      <td>...</td>\n",
              "      <td>3.27</td>\n",
              "      <td>3.04</td>\n",
              "      <td>3.32</td>\n",
              "      <td>3.20</td>\n",
              "      <td>2.59</td>\n",
              "      <td>2.02</td>\n",
              "      <td>1.76</td>\n",
              "      <td>1.76</td>\n",
              "      <td>1.85</td>\n",
              "      <td>0.00240</td>\n",
              "    </tr>\n",
              "    <tr>\n",
              "      <th>8</th>\n",
              "      <td>0.00035</td>\n",
              "      <td>0.00042</td>\n",
              "      <td>0.00052</td>\n",
              "      <td>0.00134</td>\n",
              "      <td>0.000094</td>\n",
              "      <td>0.00043</td>\n",
              "      <td>0.00047</td>\n",
              "      <td>0.00078</td>\n",
              "      <td>0.00156</td>\n",
              "      <td>0.000087</td>\n",
              "      <td>...</td>\n",
              "      <td>3.63</td>\n",
              "      <td>3.08</td>\n",
              "      <td>3.51</td>\n",
              "      <td>2.58</td>\n",
              "      <td>2.14</td>\n",
              "      <td>2.42</td>\n",
              "      <td>2.60</td>\n",
              "      <td>2.02</td>\n",
              "      <td>2.34</td>\n",
              "      <td>0.00260</td>\n",
              "    </tr>\n",
              "    <tr>\n",
              "      <th>9</th>\n",
              "      <td>0.00050</td>\n",
              "      <td>0.00053</td>\n",
              "      <td>0.00077</td>\n",
              "      <td>0.00290</td>\n",
              "      <td>0.000087</td>\n",
              "      <td>0.00067</td>\n",
              "      <td>0.00073</td>\n",
              "      <td>0.00139</td>\n",
              "      <td>0.00549</td>\n",
              "      <td>0.000095</td>\n",
              "      <td>...</td>\n",
              "      <td>8.19</td>\n",
              "      <td>4.81</td>\n",
              "      <td>6.27</td>\n",
              "      <td>3.77</td>\n",
              "      <td>2.77</td>\n",
              "      <td>3.56</td>\n",
              "      <td>4.91</td>\n",
              "      <td>2.95</td>\n",
              "      <td>3.81</td>\n",
              "      <td>0.00520</td>\n",
              "    </tr>\n",
              "  </tbody>\n",
              "</table>\n",
              "<p>10 rows × 49 columns</p>\n",
              "</div>\n",
              "      <button class=\"colab-df-convert\" onclick=\"convertToInteractive('df-08322419-6c6d-40ba-b659-41a4ad7cb0a2')\"\n",
              "              title=\"Convert this dataframe to an interactive table.\"\n",
              "              style=\"display:none;\">\n",
              "        \n",
              "  <svg xmlns=\"http://www.w3.org/2000/svg\" height=\"24px\"viewBox=\"0 0 24 24\"\n",
              "       width=\"24px\">\n",
              "    <path d=\"M0 0h24v24H0V0z\" fill=\"none\"/>\n",
              "    <path d=\"M18.56 5.44l.94 2.06.94-2.06 2.06-.94-2.06-.94-.94-2.06-.94 2.06-2.06.94zm-11 1L8.5 8.5l.94-2.06 2.06-.94-2.06-.94L8.5 2.5l-.94 2.06-2.06.94zm10 10l.94 2.06.94-2.06 2.06-.94-2.06-.94-.94-2.06-.94 2.06-2.06.94z\"/><path d=\"M17.41 7.96l-1.37-1.37c-.4-.4-.92-.59-1.43-.59-.52 0-1.04.2-1.43.59L10.3 9.45l-7.72 7.72c-.78.78-.78 2.05 0 2.83L4 21.41c.39.39.9.59 1.41.59.51 0 1.02-.2 1.41-.59l7.78-7.78 2.81-2.81c.8-.78.8-2.07 0-2.86zM5.41 20L4 18.59l7.72-7.72 1.47 1.35L5.41 20z\"/>\n",
              "  </svg>\n",
              "      </button>\n",
              "      \n",
              "  <style>\n",
              "    .colab-df-container {\n",
              "      display:flex;\n",
              "      flex-wrap:wrap;\n",
              "      gap: 12px;\n",
              "    }\n",
              "\n",
              "    .colab-df-convert {\n",
              "      background-color: #E8F0FE;\n",
              "      border: none;\n",
              "      border-radius: 50%;\n",
              "      cursor: pointer;\n",
              "      display: none;\n",
              "      fill: #1967D2;\n",
              "      height: 32px;\n",
              "      padding: 0 0 0 0;\n",
              "      width: 32px;\n",
              "    }\n",
              "\n",
              "    .colab-df-convert:hover {\n",
              "      background-color: #E2EBFA;\n",
              "      box-shadow: 0px 1px 2px rgba(60, 64, 67, 0.3), 0px 1px 3px 1px rgba(60, 64, 67, 0.15);\n",
              "      fill: #174EA6;\n",
              "    }\n",
              "\n",
              "    [theme=dark] .colab-df-convert {\n",
              "      background-color: #3B4455;\n",
              "      fill: #D2E3FC;\n",
              "    }\n",
              "\n",
              "    [theme=dark] .colab-df-convert:hover {\n",
              "      background-color: #434B5C;\n",
              "      box-shadow: 0px 1px 3px 1px rgba(0, 0, 0, 0.15);\n",
              "      filter: drop-shadow(0px 1px 2px rgba(0, 0, 0, 0.3));\n",
              "      fill: #FFFFFF;\n",
              "    }\n",
              "  </style>\n",
              "\n",
              "      <script>\n",
              "        const buttonEl =\n",
              "          document.querySelector('#df-08322419-6c6d-40ba-b659-41a4ad7cb0a2 button.colab-df-convert');\n",
              "        buttonEl.style.display =\n",
              "          google.colab.kernel.accessAllowed ? 'block' : 'none';\n",
              "\n",
              "        async function convertToInteractive(key) {\n",
              "          const element = document.querySelector('#df-08322419-6c6d-40ba-b659-41a4ad7cb0a2');\n",
              "          const dataTable =\n",
              "            await google.colab.kernel.invokeFunction('convertToInteractive',\n",
              "                                                     [key], {});\n",
              "          if (!dataTable) return;\n",
              "\n",
              "          const docLinkHtml = 'Like what you see? Visit the ' +\n",
              "            '<a target=\"_blank\" href=https://colab.research.google.com/notebooks/data_table.ipynb>data table notebook</a>'\n",
              "            + ' to learn more about interactive tables.';\n",
              "          element.innerHTML = '';\n",
              "          dataTable['output_type'] = 'display_data';\n",
              "          await google.colab.output.renderOutput(dataTable, element);\n",
              "          const docLink = document.createElement('div');\n",
              "          docLink.innerHTML = docLinkHtml;\n",
              "          element.appendChild(docLink);\n",
              "        }\n",
              "      </script>\n",
              "    </div>\n",
              "  </div>\n",
              "  "
            ]
          },
          "metadata": {},
          "execution_count": 66
        }
      ],
      "source": [
        "X =  dataset.loc[:,dataset.columns != target]  # removing Sleep Stage\n",
        "X =  X.loc[:,X.columns != \"Subject\"]            # removing Status\n",
        "X =  X.loc[:,X.columns != \"Epoch\"]             # removing Epoch\n",
        "y = dataset[target]\n",
        "\n",
        "X.head(10)"
      ]
    },
    {
      "cell_type": "markdown",
      "metadata": {
        "id": "7G108WUM2Di_"
      },
      "source": [
        "###USing SMOTE for balancing"
      ]
    },
    {
      "cell_type": "code",
      "execution_count": null,
      "metadata": {
        "id": "WvJIm4Co2ApP"
      },
      "outputs": [],
      "source": [
        "new_dataset =  balance(X,y)"
      ]
    },
    {
      "cell_type": "code",
      "execution_count": null,
      "metadata": {
        "colab": {
          "base_uri": "https://localhost:8080/",
          "height": 165
        },
        "id": "wUzLAHJqACBH",
        "outputId": "ca72463b-b5b3-44d7-df3b-bebef0831a7e"
      },
      "outputs": [
        {
          "data": {
            "text/plain": [
              "4    39428\n",
              "0    39428\n",
              "1    39428\n",
              "2    39428\n",
              "3    39428\n",
              "Name: Sleep Stage, dtype: int64"
            ]
          },
          "execution_count": 70,
          "metadata": {},
          "output_type": "execute_result"
        }
      ],
      "source": [
        "new_dataset[target].value_counts()"
      ]
    },
    {
      "cell_type": "markdown",
      "metadata": {
        "id": "FZLedhGD91Cv"
      },
      "source": [
        "#Feature Selection"
      ]
    },
    {
      "cell_type": "code",
      "execution_count": null,
      "metadata": {
        "id": "V1m6UgTv92XU"
      },
      "outputs": [],
      "source": [
        "number_of_feat = 30"
      ]
    },
    {
      "cell_type": "markdown",
      "metadata": {
        "id": "XkC7pB1v-Gsp"
      },
      "source": [
        "###ANOVA with f classifciation"
      ]
    },
    {
      "cell_type": "code",
      "execution_count": null,
      "metadata": {
        "id": "Rafbj3rl-GWZ"
      },
      "outputs": [],
      "source": [
        "from sklearn.datasets import make_classification\n",
        "from sklearn.feature_selection import SelectKBest\n",
        "from sklearn.feature_selection import f_classif\n",
        "import pandas as pd\n",
        "\n",
        "\n",
        "\n",
        "fs = SelectKBest(score_func=f_classif, k=5)\n",
        "fit = fs.fit(X,y)\n",
        "dfscores = pd.DataFrame(fit.scores_)\n",
        "dfcolumns = pd.DataFrame(X.columns)\n",
        "\n",
        "featureScores = pd.concat([dfcolumns,dfscores],axis=1)\n",
        "\n",
        "featureScores.columns = ['Best_columns','Score_ANOVA'] \n",
        "\n",
        "lyst = featureScores.nlargest(number_of_feat,'Score_ANOVA')\n",
        "\n",
        "#lyst.to_csv('Filter_Method_ANOVA_with_f_classif.csv')\n",
        "\n",
        "list_of_feat = list(lyst[\"Best_columns\"])"
      ]
    },
    {
      "cell_type": "markdown",
      "metadata": {
        "id": "xCkHXMQQ-PoJ"
      },
      "source": [
        "###Embedded Method"
      ]
    },
    {
      "cell_type": "code",
      "execution_count": null,
      "metadata": {
        "id": "PZJcRlL7-So6"
      },
      "outputs": [],
      "source": [
        "''''\n",
        "from sklearn.linear_model import LassoCV\n",
        "reg = LassoCV()\n",
        "reg.fit(X, y)\n",
        "print(\"Best alpha using built-in LassoCV: %f\" % reg.alpha_)\n",
        "print(\"Best score using built-in LassoCV: %f\" %reg.score(X,y))\n",
        "coef = pd.Series(reg.coef_, index = X.columns)\n",
        "\n",
        "print(\"Lasso picked \" + str(sum(coef != 0)) + \" variables and eliminated the other \" +  str(sum(coef == 0)) + \" variables\")\n",
        "\n",
        "imp_coef = coef.sort_values()\n",
        "\n",
        "list_of_feat=[]\n",
        "\n",
        "\n",
        "for i in range(coef.shape[0]):\n",
        "  if coef[i]!=0:\n",
        "    list_of_feat.append(dataset.iloc[:0,i+3].name)\n",
        "    \n",
        "df = pd.DataFrame(list_of_feat, columns=['Best_Features'])\n",
        "\n",
        "#df.to_csv(\"Embedded_Method.csv\")\n",
        "\n",
        "list_of_feat = list(df[\"Best_Features\"])\n",
        "if number_of_feat < len(list_of_feat):\n",
        "  list_of_feat = list_of_feat[:number_of_feat]\n",
        "'''"
      ]
    },
    {
      "cell_type": "markdown",
      "metadata": {
        "id": "rrR11h2K-aJn"
      },
      "source": [
        "###Pearson's with f regression"
      ]
    },
    {
      "cell_type": "code",
      "execution_count": null,
      "metadata": {
        "id": "qH6yDZiP-a9K"
      },
      "outputs": [],
      "source": [
        "'''\n",
        "from sklearn.datasets import make_regression\n",
        "from sklearn.feature_selection import SelectKBest\n",
        "from sklearn.feature_selection import f_regression\n",
        "import pandas as pd\n",
        "\n",
        "\n",
        "fs = SelectKBest(score_func=f_regression, k=5)\n",
        "fit = fs.fit(X,y)\n",
        "\n",
        "dfscores = pd.DataFrame(fit.scores_)\n",
        "dfcolumns = pd.DataFrame(dataset.columns)\n",
        "featureScores = pd.concat([dfcolumns,dfscores],axis=1)\n",
        "\n",
        "featureScores.columns = ['Best_columns','Score_pearsons'] \n",
        "\n",
        "\n",
        "lyst = featureScores.nlargest(number_of_feat,'Score_pearsons')\n",
        "\n",
        "#lyst.to_csv('Filter_Method_Pearson’s_with_f_regression.csv')\n",
        "\n",
        "list_of_feat = list(lyst[\"Best_columns\"])\n",
        "'''"
      ]
    },
    {
      "cell_type": "markdown",
      "metadata": {
        "id": "85wbxGFW-kGZ"
      },
      "source": [
        "###Sequential Feature Selection"
      ]
    },
    {
      "cell_type": "code",
      "execution_count": null,
      "metadata": {
        "id": "MtP9AHew-k1i"
      },
      "outputs": [],
      "source": [
        "''''\n",
        "from sklearn.feature_selection import SequentialFeatureSelector\n",
        "from sklearn.neighbors import KNeighborsClassifier\n",
        "knn = KNeighborsClassifier(n_neighbors=3)\n",
        "sfs = SequentialFeatureSelector(knn, n_features_to_select=number_of_feat)\n",
        "sfs.fit(X, y)\n",
        "list_of_feat=[]\n",
        "list_of_feat=list(sfs.get_feature_names_out(X.columns))\n",
        "\n",
        "df = pd.DataFrame(list_of_feat, columns=['Best_Features'])\n",
        "\n",
        "#df.to_csv(\"Filter_Method_Sequential_feat_Selection_KNN.csv\")\n",
        "\n",
        "list_of_feat = list(df[\"Best_Features\"])\n",
        "if number_of_feat < len(list_of_feat):\n",
        "  list_of_feat = list_of_feat[:number_of_feat]\n",
        "  '''"
      ]
    },
    {
      "cell_type": "markdown",
      "metadata": {
        "id": "YAQ71nBV-p7E"
      },
      "source": [
        "###Feature list"
      ]
    },
    {
      "cell_type": "code",
      "execution_count": null,
      "metadata": {
        "id": "JKwGHUuo-qnn"
      },
      "outputs": [],
      "source": [
        "dfcolumns = pd.DataFrame(list_of_feat)\n",
        "print(dfcolumns)"
      ]
    },
    {
      "cell_type": "markdown",
      "metadata": {
        "id": "C0Akgb_na7NU"
      },
      "source": [
        "#Data Spliting Into X,y"
      ]
    },
    {
      "cell_type": "code",
      "execution_count": 67,
      "metadata": {
        "id": "uL-Rbjkl_Ath",
        "outputId": "cfc015dd-53ab-4453-f676-a44fc72370d0",
        "colab": {
          "base_uri": "https://localhost:8080/"
        }
      },
      "outputs": [
        {
          "output_type": "stream",
          "name": "stdout",
          "text": [
            "(108450, 49)\n"
          ]
        }
      ],
      "source": [
        "#X_new = new_dataset[list_of_feat]\n",
        "#y_new = new_dataset[target]\n",
        "\n",
        "#X_new =  new_dataset.loc[:,new_dataset.columns != target] \n",
        "#y_new = new_dataset[target]\n",
        "\n",
        "X_new = X\n",
        "y_new = y\n",
        "\n",
        "#X_new.head(10)\n",
        "print(X_new.shape)"
      ]
    },
    {
      "cell_type": "markdown",
      "metadata": {
        "id": "0juNhhHcM67i"
      },
      "source": [
        "#Data Scaling"
      ]
    },
    {
      "cell_type": "code",
      "execution_count": null,
      "metadata": {
        "id": "7crL4ShqM67i",
        "outputId": "660af20a-f185-412a-a9cd-5160f7554fb5"
      },
      "outputs": [
        {
          "name": "stdout",
          "output_type": "stream",
          "text": [
            "(108450, 49)\n"
          ]
        },
        {
          "data": {
            "text/plain": [
              "array([[-0.0653349 , -0.06741043, -0.04805037, ..., -0.11649183,\n",
              "        -0.11649183, -0.12025476],\n",
              "       [-0.07426116, -0.09237015, -0.06824147, ..., -0.11649183,\n",
              "        -0.11649183, -0.13409893],\n",
              "       [-0.07750708, -0.0973621 , -0.06926814, ..., -0.11649183,\n",
              "        -0.11649183, -0.13449167],\n",
              "       ...,\n",
              "       [-0.07426116, -0.10984196, -0.07269036, ..., -0.11649183,\n",
              "        -0.11649183, -0.15363786],\n",
              "       [-0.0653349 , -0.06241848, -0.06892592, ..., -0.11649183,\n",
              "        -0.11649183, -0.13620992],\n",
              "       [-0.00285108,  0.22337036, -0.02272594, ..., -0.11649183,\n",
              "        -0.11649183, -0.03915347]])"
            ]
          },
          "execution_count": 96,
          "metadata": {},
          "output_type": "execute_result"
        }
      ],
      "source": [
        "X_new =  StandardScaleData(X_new)\n",
        "print(X_new.shape)\n",
        "X_new"
      ]
    },
    {
      "cell_type": "markdown",
      "metadata": {
        "id": "DOYd_Y5uM67i"
      },
      "source": [
        "#Data Spliting Into Train and Testing"
      ]
    },
    {
      "cell_type": "code",
      "source": [
        "X_new"
      ],
      "metadata": {
        "colab": {
          "base_uri": "https://localhost:8080/",
          "height": 488
        },
        "id": "G2P1hFpSmtWn",
        "outputId": "20ecf078-2433-4f20-e254-e1e57fdd47ba"
      },
      "execution_count": 72,
      "outputs": [
        {
          "output_type": "execute_result",
          "data": {
            "text/plain": [
              "        MeanP_Alpha_F4  MeanP_Beta_F4  MeanP_Theta_F4  MeanP_Delta_F4  \\\n",
              "0              0.00051        0.00071         0.00121         0.01070   \n",
              "1              0.00040        0.00051         0.00062         0.00539   \n",
              "2              0.00036        0.00047         0.00059         0.00967   \n",
              "3              0.00035        0.00047         0.00043         0.00228   \n",
              "4              0.00033        0.00043         0.00053         0.00436   \n",
              "...                ...            ...             ...             ...   \n",
              "108445         0.00031        0.00039         0.00037         0.00101   \n",
              "108446         0.00042        0.00044         0.00052         0.00426   \n",
              "108447         0.00040        0.00037         0.00049         0.00116   \n",
              "108448         0.00051        0.00075         0.00060         0.00508   \n",
              "108449         0.00128        0.00304         0.00195         0.02490   \n",
              "\n",
              "        MeanP_Gamma_F4  MeanP_Alpha_C4  MeanP_Beta_C4  MeanP_Theta_C4  \\\n",
              "0             0.000240         0.00041        0.00067         0.00061   \n",
              "1             0.000120         0.00038        0.00052         0.00046   \n",
              "2             0.000100         0.00036        0.00049         0.00044   \n",
              "3             0.000110         0.00036        0.00053         0.00040   \n",
              "4             0.000094         0.00031        0.00043         0.00038   \n",
              "...                ...             ...            ...             ...   \n",
              "108445        0.000063         0.00030        0.00038         0.00036   \n",
              "108446        0.000065         0.00041        0.00043         0.00050   \n",
              "108447        0.000041         0.00036        0.00033         0.00046   \n",
              "108448        0.000240         0.00041        0.00056         0.00043   \n",
              "108449        0.001630         0.00091        0.00282         0.00074   \n",
              "\n",
              "        MeanP_Delta_C4  MeanP_Gamma_C4  ...  DAR_C4  DAR_O2  DAR_G  DTR_F4  \\\n",
              "0              0.00353        0.000210  ...    8.61   25.00  18.20    8.85   \n",
              "1              0.00238        0.000100  ...    6.26   30.10  16.60    8.69   \n",
              "2              0.00312        0.000087  ...    8.67   10.50  15.30   16.40   \n",
              "3              0.00144        0.000110  ...    4.00    3.64   4.72    5.30   \n",
              "4              0.00149        0.000081  ...    4.81    7.61   8.54    8.23   \n",
              "...                ...             ...  ...     ...     ...    ...     ...   \n",
              "108445         0.00096        0.000060  ...    3.20    3.26   3.24    2.73   \n",
              "108446         0.00312        0.000062  ...    7.61   10.10   9.30    8.19   \n",
              "108447         0.00104        0.000037  ...    2.89    2.90   2.90    2.37   \n",
              "108448         0.00188        0.000140  ...    4.59    9.96   8.17    8.47   \n",
              "108449         0.00521        0.001630  ...    5.73   19.50  14.90   12.80   \n",
              "\n",
              "        DTR_O2  DTABR_F4  DTABR_C4  DTABR_O2  DTABR_G      P_G  \n",
              "0        18.60      9.77      3.83      8.67     7.42  0.00918  \n",
              "1        28.90      6.60      3.16     12.30     7.34  0.00636  \n",
              "2         9.58     12.40      4.19      4.62     7.06  0.00628  \n",
              "3         3.64      3.30      2.07      1.90     2.42  0.00278  \n",
              "4         7.29      6.43      2.53      3.49     4.15  0.00369  \n",
              "...        ...       ...       ...       ...      ...      ...  \n",
              "108445    2.73      1.97      1.94      1.97     1.96  0.00212  \n",
              "108446    8.19      5.56      4.31      5.56     5.14  0.00531  \n",
              "108447    2.37      2.14      2.17      2.14     2.15  0.00238  \n",
              "108448    8.47      4.51      2.38      4.51     3.80  0.00593  \n",
              "108449   12.80      6.22      1.60      6.22     4.68  0.02570  \n",
              "\n",
              "[108450 rows x 49 columns]"
            ],
            "text/html": [
              "\n",
              "  <div id=\"df-07d62d82-e3e9-4086-b6b7-426d0d5698cb\">\n",
              "    <div class=\"colab-df-container\">\n",
              "      <div>\n",
              "<style scoped>\n",
              "    .dataframe tbody tr th:only-of-type {\n",
              "        vertical-align: middle;\n",
              "    }\n",
              "\n",
              "    .dataframe tbody tr th {\n",
              "        vertical-align: top;\n",
              "    }\n",
              "\n",
              "    .dataframe thead th {\n",
              "        text-align: right;\n",
              "    }\n",
              "</style>\n",
              "<table border=\"1\" class=\"dataframe\">\n",
              "  <thead>\n",
              "    <tr style=\"text-align: right;\">\n",
              "      <th></th>\n",
              "      <th>MeanP_Alpha_F4</th>\n",
              "      <th>MeanP_Beta_F4</th>\n",
              "      <th>MeanP_Theta_F4</th>\n",
              "      <th>MeanP_Delta_F4</th>\n",
              "      <th>MeanP_Gamma_F4</th>\n",
              "      <th>MeanP_Alpha_C4</th>\n",
              "      <th>MeanP_Beta_C4</th>\n",
              "      <th>MeanP_Theta_C4</th>\n",
              "      <th>MeanP_Delta_C4</th>\n",
              "      <th>MeanP_Gamma_C4</th>\n",
              "      <th>...</th>\n",
              "      <th>DAR_C4</th>\n",
              "      <th>DAR_O2</th>\n",
              "      <th>DAR_G</th>\n",
              "      <th>DTR_F4</th>\n",
              "      <th>DTR_O2</th>\n",
              "      <th>DTABR_F4</th>\n",
              "      <th>DTABR_C4</th>\n",
              "      <th>DTABR_O2</th>\n",
              "      <th>DTABR_G</th>\n",
              "      <th>P_G</th>\n",
              "    </tr>\n",
              "  </thead>\n",
              "  <tbody>\n",
              "    <tr>\n",
              "      <th>0</th>\n",
              "      <td>0.00051</td>\n",
              "      <td>0.00071</td>\n",
              "      <td>0.00121</td>\n",
              "      <td>0.01070</td>\n",
              "      <td>0.000240</td>\n",
              "      <td>0.00041</td>\n",
              "      <td>0.00067</td>\n",
              "      <td>0.00061</td>\n",
              "      <td>0.00353</td>\n",
              "      <td>0.000210</td>\n",
              "      <td>...</td>\n",
              "      <td>8.61</td>\n",
              "      <td>25.00</td>\n",
              "      <td>18.20</td>\n",
              "      <td>8.85</td>\n",
              "      <td>18.60</td>\n",
              "      <td>9.77</td>\n",
              "      <td>3.83</td>\n",
              "      <td>8.67</td>\n",
              "      <td>7.42</td>\n",
              "      <td>0.00918</td>\n",
              "    </tr>\n",
              "    <tr>\n",
              "      <th>1</th>\n",
              "      <td>0.00040</td>\n",
              "      <td>0.00051</td>\n",
              "      <td>0.00062</td>\n",
              "      <td>0.00539</td>\n",
              "      <td>0.000120</td>\n",
              "      <td>0.00038</td>\n",
              "      <td>0.00052</td>\n",
              "      <td>0.00046</td>\n",
              "      <td>0.00238</td>\n",
              "      <td>0.000100</td>\n",
              "      <td>...</td>\n",
              "      <td>6.26</td>\n",
              "      <td>30.10</td>\n",
              "      <td>16.60</td>\n",
              "      <td>8.69</td>\n",
              "      <td>28.90</td>\n",
              "      <td>6.60</td>\n",
              "      <td>3.16</td>\n",
              "      <td>12.30</td>\n",
              "      <td>7.34</td>\n",
              "      <td>0.00636</td>\n",
              "    </tr>\n",
              "    <tr>\n",
              "      <th>2</th>\n",
              "      <td>0.00036</td>\n",
              "      <td>0.00047</td>\n",
              "      <td>0.00059</td>\n",
              "      <td>0.00967</td>\n",
              "      <td>0.000100</td>\n",
              "      <td>0.00036</td>\n",
              "      <td>0.00049</td>\n",
              "      <td>0.00044</td>\n",
              "      <td>0.00312</td>\n",
              "      <td>0.000087</td>\n",
              "      <td>...</td>\n",
              "      <td>8.67</td>\n",
              "      <td>10.50</td>\n",
              "      <td>15.30</td>\n",
              "      <td>16.40</td>\n",
              "      <td>9.58</td>\n",
              "      <td>12.40</td>\n",
              "      <td>4.19</td>\n",
              "      <td>4.62</td>\n",
              "      <td>7.06</td>\n",
              "      <td>0.00628</td>\n",
              "    </tr>\n",
              "    <tr>\n",
              "      <th>3</th>\n",
              "      <td>0.00035</td>\n",
              "      <td>0.00047</td>\n",
              "      <td>0.00043</td>\n",
              "      <td>0.00228</td>\n",
              "      <td>0.000110</td>\n",
              "      <td>0.00036</td>\n",
              "      <td>0.00053</td>\n",
              "      <td>0.00040</td>\n",
              "      <td>0.00144</td>\n",
              "      <td>0.000110</td>\n",
              "      <td>...</td>\n",
              "      <td>4.00</td>\n",
              "      <td>3.64</td>\n",
              "      <td>4.72</td>\n",
              "      <td>5.30</td>\n",
              "      <td>3.64</td>\n",
              "      <td>3.30</td>\n",
              "      <td>2.07</td>\n",
              "      <td>1.90</td>\n",
              "      <td>2.42</td>\n",
              "      <td>0.00278</td>\n",
              "    </tr>\n",
              "    <tr>\n",
              "      <th>4</th>\n",
              "      <td>0.00033</td>\n",
              "      <td>0.00043</td>\n",
              "      <td>0.00053</td>\n",
              "      <td>0.00436</td>\n",
              "      <td>0.000094</td>\n",
              "      <td>0.00031</td>\n",
              "      <td>0.00043</td>\n",
              "      <td>0.00038</td>\n",
              "      <td>0.00149</td>\n",
              "      <td>0.000081</td>\n",
              "      <td>...</td>\n",
              "      <td>4.81</td>\n",
              "      <td>7.61</td>\n",
              "      <td>8.54</td>\n",
              "      <td>8.23</td>\n",
              "      <td>7.29</td>\n",
              "      <td>6.43</td>\n",
              "      <td>2.53</td>\n",
              "      <td>3.49</td>\n",
              "      <td>4.15</td>\n",
              "      <td>0.00369</td>\n",
              "    </tr>\n",
              "    <tr>\n",
              "      <th>...</th>\n",
              "      <td>...</td>\n",
              "      <td>...</td>\n",
              "      <td>...</td>\n",
              "      <td>...</td>\n",
              "      <td>...</td>\n",
              "      <td>...</td>\n",
              "      <td>...</td>\n",
              "      <td>...</td>\n",
              "      <td>...</td>\n",
              "      <td>...</td>\n",
              "      <td>...</td>\n",
              "      <td>...</td>\n",
              "      <td>...</td>\n",
              "      <td>...</td>\n",
              "      <td>...</td>\n",
              "      <td>...</td>\n",
              "      <td>...</td>\n",
              "      <td>...</td>\n",
              "      <td>...</td>\n",
              "      <td>...</td>\n",
              "      <td>...</td>\n",
              "    </tr>\n",
              "    <tr>\n",
              "      <th>108445</th>\n",
              "      <td>0.00031</td>\n",
              "      <td>0.00039</td>\n",
              "      <td>0.00037</td>\n",
              "      <td>0.00101</td>\n",
              "      <td>0.000063</td>\n",
              "      <td>0.00030</td>\n",
              "      <td>0.00038</td>\n",
              "      <td>0.00036</td>\n",
              "      <td>0.00096</td>\n",
              "      <td>0.000060</td>\n",
              "      <td>...</td>\n",
              "      <td>3.20</td>\n",
              "      <td>3.26</td>\n",
              "      <td>3.24</td>\n",
              "      <td>2.73</td>\n",
              "      <td>2.73</td>\n",
              "      <td>1.97</td>\n",
              "      <td>1.94</td>\n",
              "      <td>1.97</td>\n",
              "      <td>1.96</td>\n",
              "      <td>0.00212</td>\n",
              "    </tr>\n",
              "    <tr>\n",
              "      <th>108446</th>\n",
              "      <td>0.00042</td>\n",
              "      <td>0.00044</td>\n",
              "      <td>0.00052</td>\n",
              "      <td>0.00426</td>\n",
              "      <td>0.000065</td>\n",
              "      <td>0.00041</td>\n",
              "      <td>0.00043</td>\n",
              "      <td>0.00050</td>\n",
              "      <td>0.00312</td>\n",
              "      <td>0.000062</td>\n",
              "      <td>...</td>\n",
              "      <td>7.61</td>\n",
              "      <td>10.10</td>\n",
              "      <td>9.30</td>\n",
              "      <td>8.19</td>\n",
              "      <td>8.19</td>\n",
              "      <td>5.56</td>\n",
              "      <td>4.31</td>\n",
              "      <td>5.56</td>\n",
              "      <td>5.14</td>\n",
              "      <td>0.00531</td>\n",
              "    </tr>\n",
              "    <tr>\n",
              "      <th>108447</th>\n",
              "      <td>0.00040</td>\n",
              "      <td>0.00037</td>\n",
              "      <td>0.00049</td>\n",
              "      <td>0.00116</td>\n",
              "      <td>0.000041</td>\n",
              "      <td>0.00036</td>\n",
              "      <td>0.00033</td>\n",
              "      <td>0.00046</td>\n",
              "      <td>0.00104</td>\n",
              "      <td>0.000037</td>\n",
              "      <td>...</td>\n",
              "      <td>2.89</td>\n",
              "      <td>2.90</td>\n",
              "      <td>2.90</td>\n",
              "      <td>2.37</td>\n",
              "      <td>2.37</td>\n",
              "      <td>2.14</td>\n",
              "      <td>2.17</td>\n",
              "      <td>2.14</td>\n",
              "      <td>2.15</td>\n",
              "      <td>0.00238</td>\n",
              "    </tr>\n",
              "    <tr>\n",
              "      <th>108448</th>\n",
              "      <td>0.00051</td>\n",
              "      <td>0.00075</td>\n",
              "      <td>0.00060</td>\n",
              "      <td>0.00508</td>\n",
              "      <td>0.000240</td>\n",
              "      <td>0.00041</td>\n",
              "      <td>0.00056</td>\n",
              "      <td>0.00043</td>\n",
              "      <td>0.00188</td>\n",
              "      <td>0.000140</td>\n",
              "      <td>...</td>\n",
              "      <td>4.59</td>\n",
              "      <td>9.96</td>\n",
              "      <td>8.17</td>\n",
              "      <td>8.47</td>\n",
              "      <td>8.47</td>\n",
              "      <td>4.51</td>\n",
              "      <td>2.38</td>\n",
              "      <td>4.51</td>\n",
              "      <td>3.80</td>\n",
              "      <td>0.00593</td>\n",
              "    </tr>\n",
              "    <tr>\n",
              "      <th>108449</th>\n",
              "      <td>0.00128</td>\n",
              "      <td>0.00304</td>\n",
              "      <td>0.00195</td>\n",
              "      <td>0.02490</td>\n",
              "      <td>0.001630</td>\n",
              "      <td>0.00091</td>\n",
              "      <td>0.00282</td>\n",
              "      <td>0.00074</td>\n",
              "      <td>0.00521</td>\n",
              "      <td>0.001630</td>\n",
              "      <td>...</td>\n",
              "      <td>5.73</td>\n",
              "      <td>19.50</td>\n",
              "      <td>14.90</td>\n",
              "      <td>12.80</td>\n",
              "      <td>12.80</td>\n",
              "      <td>6.22</td>\n",
              "      <td>1.60</td>\n",
              "      <td>6.22</td>\n",
              "      <td>4.68</td>\n",
              "      <td>0.02570</td>\n",
              "    </tr>\n",
              "  </tbody>\n",
              "</table>\n",
              "<p>108450 rows × 49 columns</p>\n",
              "</div>\n",
              "      <button class=\"colab-df-convert\" onclick=\"convertToInteractive('df-07d62d82-e3e9-4086-b6b7-426d0d5698cb')\"\n",
              "              title=\"Convert this dataframe to an interactive table.\"\n",
              "              style=\"display:none;\">\n",
              "        \n",
              "  <svg xmlns=\"http://www.w3.org/2000/svg\" height=\"24px\"viewBox=\"0 0 24 24\"\n",
              "       width=\"24px\">\n",
              "    <path d=\"M0 0h24v24H0V0z\" fill=\"none\"/>\n",
              "    <path d=\"M18.56 5.44l.94 2.06.94-2.06 2.06-.94-2.06-.94-.94-2.06-.94 2.06-2.06.94zm-11 1L8.5 8.5l.94-2.06 2.06-.94-2.06-.94L8.5 2.5l-.94 2.06-2.06.94zm10 10l.94 2.06.94-2.06 2.06-.94-2.06-.94-.94-2.06-.94 2.06-2.06.94z\"/><path d=\"M17.41 7.96l-1.37-1.37c-.4-.4-.92-.59-1.43-.59-.52 0-1.04.2-1.43.59L10.3 9.45l-7.72 7.72c-.78.78-.78 2.05 0 2.83L4 21.41c.39.39.9.59 1.41.59.51 0 1.02-.2 1.41-.59l7.78-7.78 2.81-2.81c.8-.78.8-2.07 0-2.86zM5.41 20L4 18.59l7.72-7.72 1.47 1.35L5.41 20z\"/>\n",
              "  </svg>\n",
              "      </button>\n",
              "      \n",
              "  <style>\n",
              "    .colab-df-container {\n",
              "      display:flex;\n",
              "      flex-wrap:wrap;\n",
              "      gap: 12px;\n",
              "    }\n",
              "\n",
              "    .colab-df-convert {\n",
              "      background-color: #E8F0FE;\n",
              "      border: none;\n",
              "      border-radius: 50%;\n",
              "      cursor: pointer;\n",
              "      display: none;\n",
              "      fill: #1967D2;\n",
              "      height: 32px;\n",
              "      padding: 0 0 0 0;\n",
              "      width: 32px;\n",
              "    }\n",
              "\n",
              "    .colab-df-convert:hover {\n",
              "      background-color: #E2EBFA;\n",
              "      box-shadow: 0px 1px 2px rgba(60, 64, 67, 0.3), 0px 1px 3px 1px rgba(60, 64, 67, 0.15);\n",
              "      fill: #174EA6;\n",
              "    }\n",
              "\n",
              "    [theme=dark] .colab-df-convert {\n",
              "      background-color: #3B4455;\n",
              "      fill: #D2E3FC;\n",
              "    }\n",
              "\n",
              "    [theme=dark] .colab-df-convert:hover {\n",
              "      background-color: #434B5C;\n",
              "      box-shadow: 0px 1px 3px 1px rgba(0, 0, 0, 0.15);\n",
              "      filter: drop-shadow(0px 1px 2px rgba(0, 0, 0, 0.3));\n",
              "      fill: #FFFFFF;\n",
              "    }\n",
              "  </style>\n",
              "\n",
              "      <script>\n",
              "        const buttonEl =\n",
              "          document.querySelector('#df-07d62d82-e3e9-4086-b6b7-426d0d5698cb button.colab-df-convert');\n",
              "        buttonEl.style.display =\n",
              "          google.colab.kernel.accessAllowed ? 'block' : 'none';\n",
              "\n",
              "        async function convertToInteractive(key) {\n",
              "          const element = document.querySelector('#df-07d62d82-e3e9-4086-b6b7-426d0d5698cb');\n",
              "          const dataTable =\n",
              "            await google.colab.kernel.invokeFunction('convertToInteractive',\n",
              "                                                     [key], {});\n",
              "          if (!dataTable) return;\n",
              "\n",
              "          const docLinkHtml = 'Like what you see? Visit the ' +\n",
              "            '<a target=\"_blank\" href=https://colab.research.google.com/notebooks/data_table.ipynb>data table notebook</a>'\n",
              "            + ' to learn more about interactive tables.';\n",
              "          element.innerHTML = '';\n",
              "          dataTable['output_type'] = 'display_data';\n",
              "          await google.colab.output.renderOutput(dataTable, element);\n",
              "          const docLink = document.createElement('div');\n",
              "          docLink.innerHTML = docLinkHtml;\n",
              "          element.appendChild(docLink);\n",
              "        }\n",
              "      </script>\n",
              "    </div>\n",
              "  </div>\n",
              "  "
            ]
          },
          "metadata": {},
          "execution_count": 72
        }
      ]
    },
    {
      "cell_type": "code",
      "source": [
        "y_new"
      ],
      "metadata": {
        "colab": {
          "base_uri": "https://localhost:8080/"
        },
        "id": "MU7OKYJemw-k",
        "outputId": "bee8115b-5db5-4e49-8f0e-28444c55bd79"
      },
      "execution_count": 73,
      "outputs": [
        {
          "output_type": "execute_result",
          "data": {
            "text/plain": [
              "0         4\n",
              "1         4\n",
              "2         4\n",
              "3         4\n",
              "4         4\n",
              "         ..\n",
              "108445    0\n",
              "108446    0\n",
              "108447    0\n",
              "108448    4\n",
              "108449    4\n",
              "Name: Sleep Stage, Length: 108450, dtype: int64"
            ]
          },
          "metadata": {},
          "execution_count": 73
        }
      ]
    },
    {
      "cell_type": "code",
      "execution_count": 74,
      "metadata": {
        "id": "dLN_vK-s_QnK"
      },
      "outputs": [],
      "source": [
        "from sklearn.model_selection import train_test_split\n",
        "X_train, X_test, y_train, y_test = train_test_split(X_new, y_new, test_size = 0.2, random_state = 0)"
      ]
    },
    {
      "cell_type": "markdown",
      "metadata": {
        "id": "5Ei2ZPd4M67i"
      },
      "source": [
        "#Only Training Balancing"
      ]
    },
    {
      "cell_type": "code",
      "execution_count": null,
      "metadata": {
        "id": "sPr1YpskM67i"
      },
      "outputs": [],
      "source": [
        "X_train,y_train = Xy_balance(X_train,y_train)\n"
      ]
    },
    {
      "cell_type": "markdown",
      "metadata": {
        "id": "bqYsoblRogp2"
      },
      "source": [
        "\n",
        "\n",
        "---\n",
        "\n"
      ]
    },
    {
      "cell_type": "markdown",
      "metadata": {
        "id": "IqElxazTzXxp"
      },
      "source": [
        "# **Training**"
      ]
    },
    {
      "cell_type": "markdown",
      "metadata": {
        "id": "jEe2R0yAoifa"
      },
      "source": [
        "##ADABOOST"
      ]
    },
    {
      "cell_type": "code",
      "execution_count": 75,
      "metadata": {
        "colab": {
          "base_uri": "https://localhost:8080/"
        },
        "id": "Bz_yVJaXod8O",
        "outputId": "3da792b0-d61f-4a0e-d420-508d6581aa36"
      },
      "outputs": [
        {
          "output_type": "stream",
          "name": "stdout",
          "text": [
            "[[ 127  829  102  544  783]\n",
            " [  72 4755 1668  772  603]\n",
            " [  11 1021 3119   16   52]\n",
            " [  86 1412  161 1435  306]\n",
            " [  76  527   74  214 2925]]\n",
            "              precision    recall  f1-score   support\n",
            "\n",
            "           0       0.34      0.05      0.09      2385\n",
            "           1       0.56      0.60      0.58      7870\n",
            "           2       0.61      0.74      0.67      4219\n",
            "           3       0.48      0.42      0.45      3400\n",
            "           4       0.63      0.77      0.69      3816\n",
            "\n",
            "    accuracy                           0.57     21690\n",
            "   macro avg       0.52      0.52      0.50     21690\n",
            "weighted avg       0.54      0.57      0.54     21690\n",
            "\n",
            "Accurecy:  0.5698939603503919\n",
            "CPU times: user 18.9 s, sys: 36 ms, total: 19 s\n",
            "Wall time: 18.9 s\n"
          ]
        }
      ],
      "source": [
        "%%time\n",
        "from sklearn.ensemble import AdaBoostClassifier\n",
        "\n",
        "ada_defult = AdaBoostClassifier(random_state=0)\n",
        "ada_defult.fit(X_train, y_train)\n",
        "y_pred = ada_defult.predict(X_test)\n",
        "\n",
        "from sklearn.metrics import classification_report, confusion_matrix, accuracy_score\n",
        "print(confusion_matrix(y_test, y_pred))\n",
        "print(classification_report(y_test,y_pred))\n",
        "print(\"Accurecy: \",accuracy_score(y_test, y_pred))\n",
        "result[(ada_defult,1,'AdaBoostClassifier')]=accuracy_score(y_test, y_pred)\n"
      ]
    },
    {
      "cell_type": "markdown",
      "metadata": {
        "id": "JQhATacCo1AD"
      },
      "source": [
        "\n",
        "\n",
        "---\n",
        "\n",
        "\n",
        "\n",
        "---\n",
        "\n"
      ]
    },
    {
      "cell_type": "markdown",
      "metadata": {
        "id": "FJybpt_UvCU0"
      },
      "source": [
        "##Graddient Boosting"
      ]
    },
    {
      "cell_type": "code",
      "execution_count": 76,
      "metadata": {
        "colab": {
          "base_uri": "https://localhost:8080/"
        },
        "id": "sgmvc8A_o18j",
        "outputId": "5bc4427c-7f59-4399-bff2-c281ac1c173b"
      },
      "outputs": [
        {
          "metadata": {
            "tags": null
          },
          "name": "stdout",
          "output_type": "stream",
          "text": [
            "[[ 369  883   54  415  664]\n",
            " [ 166 5955  852  519  378]\n",
            " [   1 1123 3044   14   37]\n",
            " [ 187 1026   99 1930  158]\n",
            " [ 205  452   33   78 3048]]\n",
            "              precision    recall  f1-score   support\n",
            "\n",
            "           0       0.40      0.15      0.22      2385\n",
            "           1       0.63      0.76      0.69      7870\n",
            "           2       0.75      0.72      0.73      4219\n",
            "           3       0.65      0.57      0.61      3400\n",
            "           4       0.71      0.80      0.75      3816\n",
            "\n",
            "    accuracy                           0.66     21690\n",
            "   macro avg       0.63      0.60      0.60     21690\n",
            "weighted avg       0.65      0.66      0.64     21690\n",
            "\n",
            "Accurecy:  0.6614107883817427\n",
            "CPU times: user 8min 12s, sys: 529 ms, total: 8min 13s\n",
            "Wall time: 8min 11s\n"
          ]
        }
      ],
      "source": [
        "%%time\n",
        "from sklearn.ensemble import GradientBoostingClassifier\n",
        "\n",
        "gradBoost_default = GradientBoostingClassifier(random_state=0)\n",
        "gradBoost_default.fit(X_train, y_train)\n",
        "y_pred = gradBoost_default.predict(X_test)\n",
        "\n",
        "from sklearn.metrics import classification_report, confusion_matrix, accuracy_score\n",
        "print(confusion_matrix(y_test, y_pred))\n",
        "print(classification_report(y_test,y_pred))\n",
        "print(\"Accurecy: \",accuracy_score(y_test, y_pred))\n",
        "result[(gradBoost_default,2,'GradientBoostingClassifier')]=accuracy_score(y_test, y_pred)"
      ]
    },
    {
      "cell_type": "markdown",
      "source": [
        "###Histogram-Based Gradient Boosting"
      ],
      "metadata": {
        "id": "e1Tco70euelI"
      }
    },
    {
      "cell_type": "code",
      "source": [
        "%%time\n",
        "from sklearn.ensemble import HistGradientBoostingClassifier\n",
        "\n",
        "hisgradBoost_default = HistGradientBoostingClassifier(random_state=0)\n",
        "hisgradBoost_default.fit(X_train, y_train)\n",
        "y_pred = hisgradBoost_default.predict(X_test)\n",
        "\n",
        "from sklearn.metrics import classification_report, confusion_matrix, accuracy_score\n",
        "print(confusion_matrix(y_test, y_pred))\n",
        "print(classification_report(y_test,y_pred))\n",
        "print(\"Accurecy: \",accuracy_score(y_test, y_pred))\n",
        "result[(hisgradBoost_default,3,'HistGradientBoostingClassifier')]=accuracy_score(y_test, y_pred)"
      ],
      "metadata": {
        "colab": {
          "base_uri": "https://localhost:8080/"
        },
        "id": "BEpdNycHuifn",
        "outputId": "e1d67507-0680-4425-8648-b9ecd5e814d5"
      },
      "execution_count": 77,
      "outputs": [
        {
          "metadata": {
            "tags": null
          },
          "name": "stdout",
          "output_type": "stream",
          "text": [
            "[[ 497  824   38  380  646]\n",
            " [ 200 6229  736  402  303]\n",
            " [   9  940 3241    7   22]\n",
            " [ 165  744   52 2335  104]\n",
            " [ 226  293   19   56 3222]]\n",
            "              precision    recall  f1-score   support\n",
            "\n",
            "           0       0.45      0.21      0.29      2385\n",
            "           1       0.69      0.79      0.74      7870\n",
            "           2       0.79      0.77      0.78      4219\n",
            "           3       0.73      0.69      0.71      3400\n",
            "           4       0.75      0.84      0.79      3816\n",
            "\n",
            "    accuracy                           0.72     21690\n",
            "   macro avg       0.68      0.66      0.66     21690\n",
            "weighted avg       0.70      0.72      0.70     21690\n",
            "\n",
            "Accurecy:  0.71572153065929\n",
            "CPU times: user 33.5 s, sys: 265 ms, total: 33.7 s\n",
            "Wall time: 17.6 s\n"
          ]
        }
      ]
    },
    {
      "cell_type": "markdown",
      "metadata": {
        "id": "ThoTlhc4pRJT"
      },
      "source": [
        "\n",
        "\n",
        "---\n",
        "\n",
        "\n",
        "\n",
        "---\n",
        "\n"
      ]
    },
    {
      "cell_type": "markdown",
      "metadata": {
        "id": "AgMT_U8gvM7F"
      },
      "source": [
        "##Random Forest"
      ]
    },
    {
      "cell_type": "code",
      "execution_count": 78,
      "metadata": {
        "colab": {
          "base_uri": "https://localhost:8080/"
        },
        "id": "-4GMunEvtWk2",
        "outputId": "9894fbf5-a522-4a5a-ceef-ba28249c159b"
      },
      "outputs": [
        {
          "metadata": {
            "tags": null
          },
          "name": "stdout",
          "output_type": "stream",
          "text": [
            "[[ 550  817   33  347  638]\n",
            " [ 225 6383  607  378  277]\n",
            " [   5  875 3307    6   26]\n",
            " [ 159  763   42 2316  120]\n",
            " [ 247  320   19   46 3184]]\n",
            "              precision    recall  f1-score   support\n",
            "\n",
            "           0       0.46      0.23      0.31      2385\n",
            "           1       0.70      0.81      0.75      7870\n",
            "           2       0.83      0.78      0.80      4219\n",
            "           3       0.75      0.68      0.71      3400\n",
            "           4       0.75      0.83      0.79      3816\n",
            "\n",
            "    accuracy                           0.73     21690\n",
            "   macro avg       0.70      0.67      0.67     21690\n",
            "weighted avg       0.71      0.73      0.71     21690\n",
            "\n",
            "Accurecy:  0.7256800368833564\n",
            "CPU times: user 1min 31s, sys: 83.9 ms, total: 1min 31s\n",
            "Wall time: 47 s\n"
          ]
        }
      ],
      "source": [
        "%%time\n",
        "from sklearn.ensemble import RandomForestClassifier\n",
        "rf_default = RandomForestClassifier(random_state=0,n_jobs=-1)\n",
        "rf_default.fit(X_train, y_train)\n",
        "y_pred=rf_default.predict(X_test)\n",
        "\n",
        "\n",
        "from sklearn.metrics import classification_report, confusion_matrix, accuracy_score\n",
        "print(confusion_matrix(y_test, y_pred))\n",
        "print(classification_report(y_test,y_pred))\n",
        "print(\"Accurecy: \",accuracy_score(y_test, y_pred))\n",
        "result[(rf_default,4,'RandomForestClassifier')]=accuracy_score(y_test, y_pred)"
      ]
    },
    {
      "cell_type": "markdown",
      "metadata": {
        "id": "G_DChNuquB92"
      },
      "source": [
        "\n",
        "\n",
        "---\n",
        "\n",
        "\n",
        "\n",
        "---\n",
        "\n"
      ]
    },
    {
      "cell_type": "markdown",
      "metadata": {
        "id": "jRG4cBnKvZU2"
      },
      "source": [
        "##XGB"
      ]
    },
    {
      "cell_type": "code",
      "execution_count": 79,
      "metadata": {
        "colab": {
          "base_uri": "https://localhost:8080/"
        },
        "id": "sC1lAZeeuCw8",
        "outputId": "91856c5e-073f-4a30-f21b-60c28f12fce4"
      },
      "outputs": [
        {
          "output_type": "stream",
          "name": "stdout",
          "text": [
            "[[ 263  879   64  453  726]\n",
            " [ 130 5833  934  568  405]\n",
            " [   2 1214 2949   11   43]\n",
            " [ 151 1113  116 1835  185]\n",
            " [ 155  464   41   83 3073]]\n",
            "              precision    recall  f1-score   support\n",
            "\n",
            "           0       0.38      0.11      0.17      2385\n",
            "           1       0.61      0.74      0.67      7870\n",
            "           2       0.72      0.70      0.71      4219\n",
            "           3       0.62      0.54      0.58      3400\n",
            "           4       0.69      0.81      0.75      3816\n",
            "\n",
            "    accuracy                           0.64     21690\n",
            "   macro avg       0.60      0.58      0.57     21690\n",
            "weighted avg       0.62      0.64      0.62     21690\n",
            "\n",
            "Accurecy:  0.6432918395573998\n",
            "CPU times: user 1min 53s, sys: 108 ms, total: 1min 53s\n",
            "Wall time: 59.2 s\n"
          ]
        }
      ],
      "source": [
        "%%time\n",
        "import xgboost as xgb\n",
        "xgb_deafult = xgb.XGBClassifier(random_state=0,n_jobs=-1)\n",
        "xgb_deafult.fit(X_train.values,y_train.values)\n",
        "y_pred = xgb_deafult.predict(X_test.values)\n",
        "\n",
        "\n",
        "from sklearn.metrics import classification_report, confusion_matrix, accuracy_score\n",
        "print(confusion_matrix(y_test, y_pred))\n",
        "print(classification_report(y_test,y_pred))\n",
        "print(\"Accurecy: \",accuracy_score(y_test, y_pred))\n",
        "result[(xgb_deafult,5,'xgboost')]=accuracy_score(y_test, y_pred)"
      ]
    },
    {
      "cell_type": "markdown",
      "metadata": {
        "id": "K6_icFWdauSI"
      },
      "source": [
        "##KNN"
      ]
    },
    {
      "cell_type": "code",
      "execution_count": 80,
      "metadata": {
        "colab": {
          "base_uri": "https://localhost:8080/"
        },
        "id": "6GALUBYbaz1z",
        "outputId": "aaab165f-dee3-418a-bb53-c60cae4e3e93"
      },
      "outputs": [
        {
          "output_type": "stream",
          "name": "stdout",
          "text": [
            "[[ 567  895  121  346  456]\n",
            " [ 582 5348 1113  621  206]\n",
            " [  41 1281 2820   54   23]\n",
            " [ 412 1548  173 1127  140]\n",
            " [ 529  485  119  190 2493]]\n",
            "              precision    recall  f1-score   support\n",
            "\n",
            "           0       0.27      0.24      0.25      2385\n",
            "           1       0.56      0.68      0.61      7870\n",
            "           2       0.65      0.67      0.66      4219\n",
            "           3       0.48      0.33      0.39      3400\n",
            "           4       0.75      0.65      0.70      3816\n",
            "\n",
            "    accuracy                           0.57     21690\n",
            "   macro avg       0.54      0.51      0.52     21690\n",
            "weighted avg       0.57      0.57      0.56     21690\n",
            "\n",
            "Accurecy:  0.5696173351775011\n",
            "CPU times: user 1min 9s, sys: 3.66 s, total: 1min 13s\n",
            "Wall time: 55.9 s\n"
          ]
        }
      ],
      "source": [
        "%%time\n",
        "from sklearn.neighbors import KNeighborsClassifier\n",
        "knn_default = KNeighborsClassifier(n_jobs = -1)\n",
        "knn_default.fit(X_train, y_train)\n",
        "y_pred=knn_default.predict(X_test)\n",
        "\n",
        "\n",
        "from sklearn.metrics import classification_report, confusion_matrix, accuracy_score\n",
        "print(confusion_matrix(y_test, y_pred))\n",
        "print(classification_report(y_test,y_pred))\n",
        "print(\"Accurecy: \",accuracy_score(y_test, y_pred))\n",
        "result[(knn_default,6,'KNeighborsClassifier')]=accuracy_score(y_test, y_pred)"
      ]
    },
    {
      "cell_type": "markdown",
      "metadata": {
        "id": "_Btki9jRvc1Y"
      },
      "source": [
        "##NB"
      ]
    },
    {
      "cell_type": "code",
      "execution_count": 81,
      "metadata": {
        "colab": {
          "base_uri": "https://localhost:8080/"
        },
        "id": "iRmd7ve-ubcd",
        "outputId": "785e463e-2332-4c34-938f-72606a83c17e"
      },
      "outputs": [
        {
          "output_type": "stream",
          "name": "stdout",
          "text": [
            "[[  50 2335    0    0    0]\n",
            " [ 121 7749    0    0    0]\n",
            " [  47 4172    0    0    0]\n",
            " [  28 3372    0    0    0]\n",
            " [  46 3770    0    0    0]]\n",
            "              precision    recall  f1-score   support\n",
            "\n",
            "           0       0.17      0.02      0.04      2385\n",
            "           1       0.36      0.98      0.53      7870\n",
            "           2       0.00      0.00      0.00      4219\n",
            "           3       0.00      0.00      0.00      3400\n",
            "           4       0.00      0.00      0.00      3816\n",
            "\n",
            "    accuracy                           0.36     21690\n",
            "   macro avg       0.11      0.20      0.11     21690\n",
            "weighted avg       0.15      0.36      0.20     21690\n",
            "\n",
            "Accurecy:  0.3595666205624712\n",
            "CPU times: user 161 ms, sys: 20 ms, total: 181 ms\n",
            "Wall time: 178 ms\n"
          ]
        },
        {
          "output_type": "stream",
          "name": "stderr",
          "text": [
            "/usr/local/lib/python3.8/dist-packages/sklearn/metrics/_classification.py:1318: UndefinedMetricWarning: Precision and F-score are ill-defined and being set to 0.0 in labels with no predicted samples. Use `zero_division` parameter to control this behavior.\n",
            "  _warn_prf(average, modifier, msg_start, len(result))\n",
            "/usr/local/lib/python3.8/dist-packages/sklearn/metrics/_classification.py:1318: UndefinedMetricWarning: Precision and F-score are ill-defined and being set to 0.0 in labels with no predicted samples. Use `zero_division` parameter to control this behavior.\n",
            "  _warn_prf(average, modifier, msg_start, len(result))\n",
            "/usr/local/lib/python3.8/dist-packages/sklearn/metrics/_classification.py:1318: UndefinedMetricWarning: Precision and F-score are ill-defined and being set to 0.0 in labels with no predicted samples. Use `zero_division` parameter to control this behavior.\n",
            "  _warn_prf(average, modifier, msg_start, len(result))\n"
          ]
        }
      ],
      "source": [
        "%%time\n",
        "from sklearn.naive_bayes import GaussianNB\n",
        "\n",
        "nb_deafult = GaussianNB()\n",
        "nb_deafult.fit(X_train, y_train)\n",
        "y_pred = nb_deafult.predict(X_test)\n",
        "\n",
        "\n",
        "from sklearn.metrics import classification_report, confusion_matrix, accuracy_score\n",
        "print(confusion_matrix(y_test, y_pred))\n",
        "print(classification_report(y_test,y_pred))\n",
        "print(\"Accurecy: \",accuracy_score(y_test, y_pred))\n",
        "result[(nb_deafult,7,'GaussianNB')]=accuracy_score(y_test, y_pred)"
      ]
    },
    {
      "cell_type": "markdown",
      "source": [
        "##Support Vector Machines"
      ],
      "metadata": {
        "id": "Pt_vcBAayRPD"
      }
    },
    {
      "cell_type": "markdown",
      "source": [
        "####SVM"
      ],
      "metadata": {
        "id": "g21ALhCNyzOi"
      }
    },
    {
      "cell_type": "code",
      "source": [
        "\"\"\"%%time\n",
        "from sklearn import svm\n",
        "\n",
        "svm = svm.SVC(decision_function_shape='ovo')\n",
        "svm.fit(X_train, y_train)\n",
        "y_pred = svm.predict(X_test)\n",
        "\n",
        "\n",
        "from sklearn.metrics import classification_report, confusion_matrix, accuracy_score\n",
        "print(confusion_matrix(y_test, y_pred))\n",
        "print(classification_report(y_test,y_pred))\n",
        "print(\"Accurecy: \",accuracy_score(y_test, y_pred))\n",
        "result[(svm,8,'svm.SVC')]=accuracy_score(y_test, y_pred)\"\"\""
      ],
      "metadata": {
        "colab": {
          "base_uri": "https://localhost:8080/"
        },
        "id": "DLS5oXLVyVxx",
        "outputId": "b3aa61d9-d91f-452a-f8d7-8375681ba77d"
      },
      "execution_count": 83,
      "outputs": [
        {
          "output_type": "stream",
          "name": "stdout",
          "text": [
            "[[   0 2385    0    0    0]\n",
            " [   0 7870    0    0    0]\n",
            " [   0 4219    0    0    0]\n",
            " [   0 3400    0    0    0]\n",
            " [   0 3816    0    0    0]]\n",
            "              precision    recall  f1-score   support\n",
            "\n",
            "           0       0.00      0.00      0.00      2385\n",
            "           1       0.36      1.00      0.53      7870\n",
            "           2       0.00      0.00      0.00      4219\n",
            "           3       0.00      0.00      0.00      3400\n",
            "           4       0.00      0.00      0.00      3816\n",
            "\n",
            "    accuracy                           0.36     21690\n",
            "   macro avg       0.07      0.20      0.11     21690\n",
            "weighted avg       0.13      0.36      0.19     21690\n",
            "\n",
            "Accurecy:  0.3628400184416782\n",
            "CPU times: user 19min 55s, sys: 1.23 s, total: 19min 57s\n",
            "Wall time: 19min 51s\n"
          ]
        },
        {
          "output_type": "stream",
          "name": "stderr",
          "text": [
            "/usr/local/lib/python3.8/dist-packages/sklearn/metrics/_classification.py:1318: UndefinedMetricWarning: Precision and F-score are ill-defined and being set to 0.0 in labels with no predicted samples. Use `zero_division` parameter to control this behavior.\n",
            "  _warn_prf(average, modifier, msg_start, len(result))\n",
            "/usr/local/lib/python3.8/dist-packages/sklearn/metrics/_classification.py:1318: UndefinedMetricWarning: Precision and F-score are ill-defined and being set to 0.0 in labels with no predicted samples. Use `zero_division` parameter to control this behavior.\n",
            "  _warn_prf(average, modifier, msg_start, len(result))\n",
            "/usr/local/lib/python3.8/dist-packages/sklearn/metrics/_classification.py:1318: UndefinedMetricWarning: Precision and F-score are ill-defined and being set to 0.0 in labels with no predicted samples. Use `zero_division` parameter to control this behavior.\n",
            "  _warn_prf(average, modifier, msg_start, len(result))\n"
          ]
        }
      ]
    },
    {
      "cell_type": "markdown",
      "source": [
        "####Linear"
      ],
      "metadata": {
        "id": "G0C3fZ9Fy5Hi"
      }
    },
    {
      "cell_type": "code",
      "source": [
        "\"\"\"%%time\n",
        "from sklearn import svm\n",
        "\n",
        "LinearSVC = svm.LinearSVC()\n",
        "LinearSVC.fit(X_train, y_train)\n",
        "y_pred = LinearSVC.predict(X_test)\n",
        "\n",
        "\n",
        "from sklearn.metrics import classification_report, confusion_matrix, accuracy_score\n",
        "print(confusion_matrix(y_test, y_pred))\n",
        "print(classification_report(y_test,y_pred))\n",
        "print(\"Accurecy: \",accuracy_score(y_test, y_pred))\n",
        "result[(LinearSVC,9,'svm.LinearSVC')]=accuracy_score(y_test, y_pred)\"\"\""
      ],
      "metadata": {
        "id": "7MSg2w8Syysp"
      },
      "execution_count": null,
      "outputs": []
    },
    {
      "cell_type": "markdown",
      "source": [
        "##Stochastic Gradient Descent"
      ],
      "metadata": {
        "id": "2px1l5lEzh0M"
      }
    },
    {
      "cell_type": "code",
      "source": [
        "\"\"\"%%time\n",
        "from sklearn.linear_model import SGDClassifier\n",
        "\n",
        "SGDClassifier = SGDClassifier()\n",
        "SGDClassifier.fit(X_train, y_train)\n",
        "y_pred = SGDClassifier.predict(X_test)\n",
        "\n",
        "\n",
        "from sklearn.metrics import classification_report, confusion_matrix, accuracy_score\n",
        "print(confusion_matrix(y_test, y_pred))\n",
        "print(classification_report(y_test,y_pred))\n",
        "print(\"Accurecy: \",accuracy_score(y_test, y_pred))\n",
        "result[(SGDClassifier,10,'SGDClassifier')]=accuracy_score(y_test, y_pred)\"\"\""
      ],
      "metadata": {
        "colab": {
          "base_uri": "https://localhost:8080/"
        },
        "id": "vJag2atpzho8",
        "outputId": "a4a2af9d-3733-4d5a-83e3-08ed28f448e4"
      },
      "execution_count": 84,
      "outputs": [
        {
          "output_type": "stream",
          "name": "stdout",
          "text": [
            "[[   0    0    0    0 2385]\n",
            " [   0    0    0    0 7870]\n",
            " [   0    0    0    0 4219]\n",
            " [   0    0    0    0 3400]\n",
            " [   0    0    0    0 3816]]\n",
            "              precision    recall  f1-score   support\n",
            "\n",
            "           0       0.00      0.00      0.00      2385\n",
            "           1       0.00      0.00      0.00      7870\n",
            "           2       0.00      0.00      0.00      4219\n",
            "           3       0.00      0.00      0.00      3400\n",
            "           4       0.18      1.00      0.30      3816\n",
            "\n",
            "    accuracy                           0.18     21690\n",
            "   macro avg       0.04      0.20      0.06     21690\n",
            "weighted avg       0.03      0.18      0.05     21690\n",
            "\n",
            "Accurecy:  0.17593360995850624\n",
            "CPU times: user 13.6 s, sys: 78 ms, total: 13.7 s\n",
            "Wall time: 13.6 s\n"
          ]
        },
        {
          "output_type": "stream",
          "name": "stderr",
          "text": [
            "/usr/local/lib/python3.8/dist-packages/sklearn/metrics/_classification.py:1318: UndefinedMetricWarning: Precision and F-score are ill-defined and being set to 0.0 in labels with no predicted samples. Use `zero_division` parameter to control this behavior.\n",
            "  _warn_prf(average, modifier, msg_start, len(result))\n",
            "/usr/local/lib/python3.8/dist-packages/sklearn/metrics/_classification.py:1318: UndefinedMetricWarning: Precision and F-score are ill-defined and being set to 0.0 in labels with no predicted samples. Use `zero_division` parameter to control this behavior.\n",
            "  _warn_prf(average, modifier, msg_start, len(result))\n",
            "/usr/local/lib/python3.8/dist-packages/sklearn/metrics/_classification.py:1318: UndefinedMetricWarning: Precision and F-score are ill-defined and being set to 0.0 in labels with no predicted samples. Use `zero_division` parameter to control this behavior.\n",
            "  _warn_prf(average, modifier, msg_start, len(result))\n"
          ]
        }
      ]
    },
    {
      "cell_type": "markdown",
      "source": [
        "##Tree algorithms"
      ],
      "metadata": {
        "id": "F5nb6RJK0RYl"
      }
    },
    {
      "cell_type": "markdown",
      "source": [
        "###DecisionTreeRegressor"
      ],
      "metadata": {
        "id": "pInu7aUH0U5l"
      }
    },
    {
      "cell_type": "code",
      "source": [
        "%%time\n",
        "from sklearn.tree import DecisionTreeClassifier\n",
        "\n",
        "dtc = DecisionTreeClassifier()\n",
        "dtc.fit(X_train, y_train)\n",
        "y_pred = dtc.predict(X_test)\n",
        "\n",
        "\n",
        "from sklearn.metrics import classification_report, confusion_matrix, accuracy_score\n",
        "print(confusion_matrix(y_test, y_pred))\n",
        "print(classification_report(y_test,y_pred))\n",
        "print(\"Accurecy: \",accuracy_score(y_test, y_pred))\n",
        "result[(dtc,11,'DecisionTreeClassifier')]=accuracy_score(y_test, y_pred)"
      ],
      "metadata": {
        "colab": {
          "base_uri": "https://localhost:8080/"
        },
        "id": "ab5w_XIS0Ub8",
        "outputId": "1e9712ab-0ad2-49b5-9615-fb2c31ab2bd2"
      },
      "execution_count": 86,
      "outputs": [
        {
          "output_type": "stream",
          "name": "stdout",
          "text": [
            "[[ 601  741   77  406  560]\n",
            " [ 721 4960 1016  787  386]\n",
            " [  82 1057 2943   77   60]\n",
            " [ 431  830   82 1895  162]\n",
            " [ 597  440   60  175 2544]]\n",
            "              precision    recall  f1-score   support\n",
            "\n",
            "           0       0.25      0.25      0.25      2385\n",
            "           1       0.62      0.63      0.62      7870\n",
            "           2       0.70      0.70      0.70      4219\n",
            "           3       0.57      0.56      0.56      3400\n",
            "           4       0.69      0.67      0.68      3816\n",
            "\n",
            "    accuracy                           0.60     21690\n",
            "   macro avg       0.56      0.56      0.56     21690\n",
            "weighted avg       0.60      0.60      0.60     21690\n",
            "\n",
            "Accurecy:  0.596726602120793\n",
            "CPU times: user 7.24 s, sys: 8.99 ms, total: 7.25 s\n",
            "Wall time: 7.25 s\n"
          ]
        }
      ]
    },
    {
      "cell_type": "markdown",
      "source": [],
      "metadata": {
        "id": "d2uO0N0M8qn8"
      }
    },
    {
      "cell_type": "markdown",
      "metadata": {
        "id": "qqsWPAB3uv72"
      },
      "source": [
        "\n",
        "\n",
        "---\n",
        "\n",
        "\n",
        "\n",
        "---\n",
        "\n"
      ]
    },
    {
      "cell_type": "markdown",
      "source": [],
      "metadata": {
        "id": "dwV6I-Us8Qf1"
      }
    },
    {
      "cell_type": "markdown",
      "metadata": {
        "id": "6FEsxCdvkg2D"
      },
      "source": [
        "#Result"
      ]
    },
    {
      "cell_type": "code",
      "execution_count": 82,
      "metadata": {
        "id": "rx7qCLU14Aim",
        "colab": {
          "base_uri": "https://localhost:8080/"
        },
        "outputId": "92c0ddcf-b318-42f3-c25e-aa61ef69d0de"
      },
      "outputs": [
        {
          "output_type": "stream",
          "name": "stdout",
          "text": [
            "AdaBoostClassifier(random_state=0) 1  :  0.5698939603503919\n",
            "---------------------------------------------------------------\n",
            "\n",
            "GradientBoostingClassifier(random_state=0) 2  :  0.6614107883817427\n",
            "---------------------------------------------------------------\n",
            "\n",
            "HistGradientBoostingClassifier(random_state=0) 2  :  0.71572153065929\n",
            "---------------------------------------------------------------\n",
            "\n",
            "RandomForestClassifier(n_jobs=-1, random_state=0) 3  :  0.7256800368833564\n",
            "---------------------------------------------------------------\n",
            "\n",
            "XGBClassifier(n_jobs=-1, objective='multi:softprob') 4  :  0.6432918395573998\n",
            "---------------------------------------------------------------\n",
            "\n",
            "KNeighborsClassifier(n_jobs=-1) 5  :  0.5696173351775011\n",
            "---------------------------------------------------------------\n",
            "\n",
            "GaussianNB() 6  :  0.3595666205624712\n",
            "---------------------------------------------------------------\n",
            "\n"
          ]
        }
      ],
      "source": [
        "\n",
        "models=[]\n",
        "\n",
        "for i in result:\n",
        "  models.append(i[0])\n",
        "  print(i[0],i[1],\" : \",result[i])\n",
        "  print(\"---------------------------------------------------------------\")\n",
        "  print()\n"
      ]
    }
  ],
  "metadata": {
    "colab": {
      "collapsed_sections": [
        "rrR11h2K-aJn",
        "85wbxGFW-kGZ",
        "YAQ71nBV-p7E",
        "jEe2R0yAoifa",
        "FJybpt_UvCU0",
        "AgMT_U8gvM7F",
        "jRG4cBnKvZU2",
        "K6_icFWdauSI",
        "_Btki9jRvc1Y",
        "znXNx2bgUvtd",
        "zxxWSX26jsGT",
        "XtgWbvJsEwMt"
      ],
      "provenance": [],
      "include_colab_link": true
    },
    "kernelspec": {
      "display_name": "Python 3 (ipykernel)",
      "language": "python",
      "name": "python3"
    },
    "language_info": {
      "codemirror_mode": {
        "name": "ipython",
        "version": 3
      },
      "file_extension": ".py",
      "mimetype": "text/x-python",
      "name": "python",
      "nbconvert_exporter": "python",
      "pygments_lexer": "ipython3",
      "version": "3.9.15"
    }
  },
  "nbformat": 4,
  "nbformat_minor": 0
}