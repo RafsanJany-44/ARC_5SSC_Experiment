{
  "cells": [
    {
      "cell_type": "markdown",
      "metadata": {
        "id": "view-in-github",
        "colab_type": "text"
      },
      "source": [
        "<a href=\"https://colab.research.google.com/github/RafsanJany-44/ARC_5SSC_Experiment/blob/main/SleepStage_EEG_EXperiment.ipynb\" target=\"_parent\"><img src=\"https://colab.research.google.com/assets/colab-badge.svg\" alt=\"Open In Colab\"/></a>"
      ]
    },
    {
      "cell_type": "code",
      "source": [
        "from google.colab import drive\n",
        "drive.mount('/content/drive')"
      ],
      "metadata": {
        "colab": {
          "base_uri": "https://localhost:8080/"
        },
        "id": "FqpdklIrEJ2u",
        "outputId": "db5c1bdd-4da7-4d2d-d2f3-19608fc7c608"
      },
      "execution_count": 1,
      "outputs": [
        {
          "output_type": "stream",
          "name": "stdout",
          "text": [
            "Mounted at /content/drive\n"
          ]
        }
      ]
    },
    {
      "cell_type": "markdown",
      "metadata": {
        "id": "SEsFaHeE2Pss"
      },
      "source": [
        "###Function"
      ]
    },
    {
      "cell_type": "code",
      "execution_count": 3,
      "metadata": {
        "id": "9kW4Aq41M67a",
        "colab": {
          "base_uri": "https://localhost:8080/"
        },
        "outputId": "2d6c8b21-5927-4465-cecb-5ba5f66b57d1"
      },
      "outputs": [
        {
          "output_type": "stream",
          "name": "stdout",
          "text": [
            "Looking in indexes: https://pypi.org/simple, https://us-python.pkg.dev/colab-wheels/public/simple/\n",
            "Requirement already satisfied: imbalanced-learn in /usr/local/lib/python3.8/dist-packages (0.8.1)\n",
            "Requirement already satisfied: scipy>=0.19.1 in /usr/local/lib/python3.8/dist-packages (from imbalanced-learn) (1.7.3)\n",
            "Requirement already satisfied: scikit-learn>=0.24 in /usr/local/lib/python3.8/dist-packages (from imbalanced-learn) (1.0.2)\n",
            "Requirement already satisfied: joblib>=0.11 in /usr/local/lib/python3.8/dist-packages (from imbalanced-learn) (1.2.0)\n",
            "Requirement already satisfied: numpy>=1.13.3 in /usr/local/lib/python3.8/dist-packages (from imbalanced-learn) (1.21.6)\n",
            "Requirement already satisfied: threadpoolctl>=2.0.0 in /usr/local/lib/python3.8/dist-packages (from scikit-learn>=0.24->imbalanced-learn) (3.1.0)\n",
            "Looking in indexes: https://pypi.org/simple, https://us-python.pkg.dev/colab-wheels/public/simple/\n",
            "Requirement already satisfied: ipywidgets in /usr/local/lib/python3.8/dist-packages (7.7.1)\n",
            "Requirement already satisfied: jupyterlab-widgets>=1.0.0 in /usr/local/lib/python3.8/dist-packages (from ipywidgets) (3.0.5)\n",
            "Requirement already satisfied: ipython-genutils~=0.2.0 in /usr/local/lib/python3.8/dist-packages (from ipywidgets) (0.2.0)\n",
            "Requirement already satisfied: widgetsnbextension~=3.6.0 in /usr/local/lib/python3.8/dist-packages (from ipywidgets) (3.6.1)\n",
            "Requirement already satisfied: ipython>=4.0.0 in /usr/local/lib/python3.8/dist-packages (from ipywidgets) (7.9.0)\n",
            "Requirement already satisfied: traitlets>=4.3.1 in /usr/local/lib/python3.8/dist-packages (from ipywidgets) (5.7.1)\n",
            "Requirement already satisfied: ipykernel>=4.5.1 in /usr/local/lib/python3.8/dist-packages (from ipywidgets) (5.3.4)\n",
            "Requirement already satisfied: tornado>=4.2 in /usr/local/lib/python3.8/dist-packages (from ipykernel>=4.5.1->ipywidgets) (6.0.4)\n",
            "Requirement already satisfied: jupyter-client in /usr/local/lib/python3.8/dist-packages (from ipykernel>=4.5.1->ipywidgets) (6.1.12)\n",
            "Requirement already satisfied: setuptools>=18.5 in /usr/local/lib/python3.8/dist-packages (from ipython>=4.0.0->ipywidgets) (57.4.0)\n",
            "Requirement already satisfied: prompt-toolkit<2.1.0,>=2.0.0 in /usr/local/lib/python3.8/dist-packages (from ipython>=4.0.0->ipywidgets) (2.0.10)\n",
            "Requirement already satisfied: backcall in /usr/local/lib/python3.8/dist-packages (from ipython>=4.0.0->ipywidgets) (0.2.0)\n",
            "Requirement already satisfied: decorator in /usr/local/lib/python3.8/dist-packages (from ipython>=4.0.0->ipywidgets) (4.4.2)\n",
            "Requirement already satisfied: pickleshare in /usr/local/lib/python3.8/dist-packages (from ipython>=4.0.0->ipywidgets) (0.7.5)\n",
            "Requirement already satisfied: pexpect in /usr/local/lib/python3.8/dist-packages (from ipython>=4.0.0->ipywidgets) (4.8.0)\n",
            "Requirement already satisfied: pygments in /usr/local/lib/python3.8/dist-packages (from ipython>=4.0.0->ipywidgets) (2.6.1)\n",
            "Collecting jedi>=0.10\n",
            "  Downloading jedi-0.18.2-py2.py3-none-any.whl (1.6 MB)\n",
            "\u001b[2K     \u001b[90m━━━━━━━━━━━━━━━━━━━━━━━━━━━━━━━━━━━━━━━━\u001b[0m \u001b[32m1.6/1.6 MB\u001b[0m \u001b[31m21.6 MB/s\u001b[0m eta \u001b[36m0:00:00\u001b[0m\n",
            "\u001b[?25hRequirement already satisfied: notebook>=4.4.1 in /usr/local/lib/python3.8/dist-packages (from widgetsnbextension~=3.6.0->ipywidgets) (5.7.16)\n",
            "Requirement already satisfied: parso<0.9.0,>=0.8.0 in /usr/local/lib/python3.8/dist-packages (from jedi>=0.10->ipython>=4.0.0->ipywidgets) (0.8.3)\n",
            "Requirement already satisfied: nbconvert<6.0 in /usr/local/lib/python3.8/dist-packages (from notebook>=4.4.1->widgetsnbextension~=3.6.0->ipywidgets) (5.6.1)\n",
            "Requirement already satisfied: jupyter-core>=4.4.0 in /usr/local/lib/python3.8/dist-packages (from notebook>=4.4.1->widgetsnbextension~=3.6.0->ipywidgets) (5.1.3)\n",
            "Requirement already satisfied: terminado>=0.8.1 in /usr/local/lib/python3.8/dist-packages (from notebook>=4.4.1->widgetsnbextension~=3.6.0->ipywidgets) (0.13.3)\n",
            "Requirement already satisfied: Send2Trash in /usr/local/lib/python3.8/dist-packages (from notebook>=4.4.1->widgetsnbextension~=3.6.0->ipywidgets) (1.8.0)\n",
            "Requirement already satisfied: prometheus-client in /usr/local/lib/python3.8/dist-packages (from notebook>=4.4.1->widgetsnbextension~=3.6.0->ipywidgets) (0.15.0)\n",
            "Requirement already satisfied: nbformat in /usr/local/lib/python3.8/dist-packages (from notebook>=4.4.1->widgetsnbextension~=3.6.0->ipywidgets) (5.7.1)\n",
            "Requirement already satisfied: jinja2<=3.0.0 in /usr/local/lib/python3.8/dist-packages (from notebook>=4.4.1->widgetsnbextension~=3.6.0->ipywidgets) (2.11.3)\n",
            "Requirement already satisfied: pyzmq>=17 in /usr/local/lib/python3.8/dist-packages (from notebook>=4.4.1->widgetsnbextension~=3.6.0->ipywidgets) (23.2.1)\n",
            "Requirement already satisfied: python-dateutil>=2.1 in /usr/local/lib/python3.8/dist-packages (from jupyter-client->ipykernel>=4.5.1->ipywidgets) (2.8.2)\n",
            "Requirement already satisfied: wcwidth in /usr/local/lib/python3.8/dist-packages (from prompt-toolkit<2.1.0,>=2.0.0->ipython>=4.0.0->ipywidgets) (0.2.5)\n",
            "Requirement already satisfied: six>=1.9.0 in /usr/local/lib/python3.8/dist-packages (from prompt-toolkit<2.1.0,>=2.0.0->ipython>=4.0.0->ipywidgets) (1.15.0)\n",
            "Requirement already satisfied: ptyprocess>=0.5 in /usr/local/lib/python3.8/dist-packages (from pexpect->ipython>=4.0.0->ipywidgets) (0.7.0)\n",
            "Requirement already satisfied: MarkupSafe>=0.23 in /usr/local/lib/python3.8/dist-packages (from jinja2<=3.0.0->notebook>=4.4.1->widgetsnbextension~=3.6.0->ipywidgets) (2.0.1)\n",
            "Requirement already satisfied: platformdirs>=2.5 in /usr/local/lib/python3.8/dist-packages (from jupyter-core>=4.4.0->notebook>=4.4.1->widgetsnbextension~=3.6.0->ipywidgets) (2.6.2)\n",
            "Requirement already satisfied: entrypoints>=0.2.2 in /usr/local/lib/python3.8/dist-packages (from nbconvert<6.0->notebook>=4.4.1->widgetsnbextension~=3.6.0->ipywidgets) (0.4)\n",
            "Requirement already satisfied: testpath in /usr/local/lib/python3.8/dist-packages (from nbconvert<6.0->notebook>=4.4.1->widgetsnbextension~=3.6.0->ipywidgets) (0.6.0)\n",
            "Requirement already satisfied: defusedxml in /usr/local/lib/python3.8/dist-packages (from nbconvert<6.0->notebook>=4.4.1->widgetsnbextension~=3.6.0->ipywidgets) (0.7.1)\n",
            "Requirement already satisfied: bleach in /usr/local/lib/python3.8/dist-packages (from nbconvert<6.0->notebook>=4.4.1->widgetsnbextension~=3.6.0->ipywidgets) (5.0.1)\n",
            "Requirement already satisfied: pandocfilters>=1.4.1 in /usr/local/lib/python3.8/dist-packages (from nbconvert<6.0->notebook>=4.4.1->widgetsnbextension~=3.6.0->ipywidgets) (1.5.0)\n",
            "Requirement already satisfied: mistune<2,>=0.8.1 in /usr/local/lib/python3.8/dist-packages (from nbconvert<6.0->notebook>=4.4.1->widgetsnbextension~=3.6.0->ipywidgets) (0.8.4)\n",
            "Requirement already satisfied: jsonschema>=2.6 in /usr/local/lib/python3.8/dist-packages (from nbformat->notebook>=4.4.1->widgetsnbextension~=3.6.0->ipywidgets) (4.3.3)\n",
            "Requirement already satisfied: fastjsonschema in /usr/local/lib/python3.8/dist-packages (from nbformat->notebook>=4.4.1->widgetsnbextension~=3.6.0->ipywidgets) (2.16.2)\n",
            "Requirement already satisfied: pyrsistent!=0.17.0,!=0.17.1,!=0.17.2,>=0.14.0 in /usr/local/lib/python3.8/dist-packages (from jsonschema>=2.6->nbformat->notebook>=4.4.1->widgetsnbextension~=3.6.0->ipywidgets) (0.19.3)\n",
            "Requirement already satisfied: importlib-resources>=1.4.0 in /usr/local/lib/python3.8/dist-packages (from jsonschema>=2.6->nbformat->notebook>=4.4.1->widgetsnbextension~=3.6.0->ipywidgets) (5.10.2)\n",
            "Requirement already satisfied: attrs>=17.4.0 in /usr/local/lib/python3.8/dist-packages (from jsonschema>=2.6->nbformat->notebook>=4.4.1->widgetsnbextension~=3.6.0->ipywidgets) (22.2.0)\n",
            "Requirement already satisfied: webencodings in /usr/local/lib/python3.8/dist-packages (from bleach->nbconvert<6.0->notebook>=4.4.1->widgetsnbextension~=3.6.0->ipywidgets) (0.5.1)\n",
            "Requirement already satisfied: zipp>=3.1.0 in /usr/local/lib/python3.8/dist-packages (from importlib-resources>=1.4.0->jsonschema>=2.6->nbformat->notebook>=4.4.1->widgetsnbextension~=3.6.0->ipywidgets) (3.11.0)\n",
            "Installing collected packages: jedi\n",
            "Successfully installed jedi-0.18.2\n"
          ]
        }
      ],
      "source": [
        "!pip install imbalanced-learn\n",
        "!pip install ipywidgets\n"
      ]
    },
    {
      "cell_type": "code",
      "execution_count": 4,
      "metadata": {
        "id": "S6X6XwSVM67b"
      },
      "outputs": [],
      "source": [
        "from imblearn.over_sampling import SMOTE\n",
        "import ipywidgets as widgets\n",
        "from sklearn.preprocessing import StandardScaler\n",
        "from sklearn.preprocessing import MinMaxScaler\n",
        "from sklearn.model_selection import train_test_split\n",
        "import numpy as np\n",
        "import pandas as pd"
      ]
    },
    {
      "cell_type": "code",
      "execution_count": 5,
      "metadata": {
        "id": "ESoueLt11P_w"
      },
      "outputs": [],
      "source": [
        "def dataset_balance(X_temp, y_temp):\n",
        "  smote = SMOTE()\n",
        "  X_temp, y_temp= smote.fit_resample(X_temp, y_temp)\n",
        "  return pd.concat([pd.DataFrame(X_temp), pd.DataFrame(y_temp)], axis=1)\n",
        "\n",
        "def Xy_balance(X_temp, y_temp):\n",
        "  smote = SMOTE()\n",
        "  return smote.fit_resample(X_temp, y_temp)\n",
        "\n",
        "def Search_Null(dataset):\n",
        "  dic={}\n",
        "  for col in list(dataset.columns):\n",
        "    rows = []\n",
        "    flage = 0\n",
        "    for row in range(dataset.shape[0]):\n",
        "      if str(dataset[col][row]) == \"nan\":\n",
        "        rows.append(row)\n",
        "        flage = 1\n",
        "    if flage ==1:\n",
        "      dic[col] = rows\n",
        "  \n",
        "  return dic\n",
        "\n",
        "\n",
        "def models_check_box(models):\n",
        "  from IPython.display import display\n",
        "  new_keys=[]\n",
        "  for i in models:\n",
        "    i=widgets.Checkbox(\n",
        "      value=False,\n",
        "      description=str(i),\n",
        "      disabled=False,\n",
        "      indent=False\n",
        "      )\n",
        "    display(i)\n",
        "    new_keys.append(i)\n",
        "  return new_keys\n",
        "\n",
        "\n",
        "def StandardScaleData(data):\n",
        "  scaler = StandardScaler()\n",
        "  scaler.fit(data)\n",
        "  return  scaler.transform(data)\n",
        "\n",
        "\n",
        "def MinMaxScaleData(data):\n",
        "  scaler = MinMaxScaler()\n",
        "  scaler.fit(data)\n",
        "  return scaler.transform(data)"
      ]
    },
    {
      "cell_type": "markdown",
      "metadata": {
        "id": "A1B_8Nsw9-1Q"
      },
      "source": [
        "#Starting"
      ]
    },
    {
      "cell_type": "code",
      "execution_count": 6,
      "metadata": {
        "colab": {
          "base_uri": "https://localhost:8080/",
          "height": 73
        },
        "id": "Om8npCtFM67e",
        "outputId": "3fdd7872-3bc3-45c9-e1ac-ae35a36a02bd"
      },
      "outputs": [
        {
          "output_type": "stream",
          "name": "stdout",
          "text": [
            "(108920, 52)\n",
            "(108450, 52)\n"
          ]
        },
        {
          "output_type": "execute_result",
          "data": {
            "text/plain": [
              "'from sklearn.preprocessing import LabelEncoder\\nencoder=LabelEncoder()\\ndataset[target]=encoder.fit_transform(dataset[target])'"
            ],
            "application/vnd.google.colaboratory.intrinsic+json": {
              "type": "string"
            }
          },
          "metadata": {},
          "execution_count": 6
        }
      ],
      "source": [
        "dataset = pd.read_csv(\"/content/drive/MyDrive/Sleep Stage 5 class/EEG_HMC_FeatureExtraction_2023.01.19.csv\")\n",
        "print(dataset.shape)\n",
        "dataset.dropna(axis = 0,how='any', inplace = True)\n",
        "dataset = dataset.reset_index(drop = True)\n",
        "\"\"\"df.to_csv(\"New_EEG_NullValueRemoved_HMC.csv\",index = False)\n",
        "dataset = pd.read_csv(\"New_EEG_NullValueRemoved_HMC.csv\")\"\"\"\n",
        "target = \"Sleep Stage\"\n",
        "result = {}\n",
        "print(dataset.shape)\n",
        "\n",
        "#Encoding\n",
        "\"\"\"from sklearn.preprocessing import LabelEncoder\n",
        "encoder=LabelEncoder()\n",
        "dataset[target]=encoder.fit_transform(dataset[target])\"\"\""
      ]
    },
    {
      "cell_type": "markdown",
      "metadata": {
        "id": "TXMKr8bi2JnW"
      },
      "source": [
        "###Spliting into X and y"
      ]
    },
    {
      "cell_type": "code",
      "execution_count": 11,
      "metadata": {
        "id": "tIf-rcIB11o1"
      },
      "outputs": [],
      "source": [
        "X =  dataset.loc[:,dataset.columns != target]  # removing Sleep Stage\n",
        "X =  X.loc[:,X.columns != \"Subject\"]            # removing Status\n",
        "X =  X.loc[:,X.columns != \"Epoch\"]             # removing Epoch\n",
        "y = dataset[target]"
      ]
    },
    {
      "cell_type": "markdown",
      "metadata": {
        "id": "FZLedhGD91Cv"
      },
      "source": [
        "#Feature Selection"
      ]
    },
    {
      "cell_type": "code",
      "execution_count": null,
      "metadata": {
        "id": "V1m6UgTv92XU"
      },
      "outputs": [],
      "source": [
        "number_of_feat = 30"
      ]
    },
    {
      "cell_type": "markdown",
      "metadata": {
        "id": "XkC7pB1v-Gsp"
      },
      "source": [
        "###ANOVA with f classifciation"
      ]
    },
    {
      "cell_type": "code",
      "execution_count": null,
      "metadata": {
        "id": "Rafbj3rl-GWZ"
      },
      "outputs": [],
      "source": [
        "from sklearn.datasets import make_classification\n",
        "from sklearn.feature_selection import SelectKBest\n",
        "from sklearn.feature_selection import f_classif\n",
        "import pandas as pd\n",
        "\n",
        "\n",
        "\n",
        "fs = SelectKBest(score_func=f_classif, k=5)\n",
        "fit = fs.fit(X,y)\n",
        "dfscores = pd.DataFrame(fit.scores_)\n",
        "dfcolumns = pd.DataFrame(X.columns)\n",
        "\n",
        "featureScores = pd.concat([dfcolumns,dfscores],axis=1)\n",
        "\n",
        "featureScores.columns = ['Best_columns','Score_ANOVA'] \n",
        "\n",
        "lyst = featureScores.nlargest(number_of_feat,'Score_ANOVA')\n",
        "\n",
        "#lyst.to_csv('Filter_Method_ANOVA_with_f_classif.csv')\n",
        "\n",
        "list_of_feat = list(lyst[\"Best_columns\"])"
      ]
    },
    {
      "cell_type": "markdown",
      "metadata": {
        "id": "xCkHXMQQ-PoJ"
      },
      "source": [
        "###Embedded Method"
      ]
    },
    {
      "cell_type": "code",
      "execution_count": null,
      "metadata": {
        "id": "PZJcRlL7-So6"
      },
      "outputs": [],
      "source": [
        "''''\n",
        "from sklearn.linear_model import LassoCV\n",
        "reg = LassoCV()\n",
        "reg.fit(X, y)\n",
        "print(\"Best alpha using built-in LassoCV: %f\" % reg.alpha_)\n",
        "print(\"Best score using built-in LassoCV: %f\" %reg.score(X,y))\n",
        "coef = pd.Series(reg.coef_, index = X.columns)\n",
        "\n",
        "print(\"Lasso picked \" + str(sum(coef != 0)) + \" variables and eliminated the other \" +  str(sum(coef == 0)) + \" variables\")\n",
        "\n",
        "imp_coef = coef.sort_values()\n",
        "\n",
        "list_of_feat=[]\n",
        "\n",
        "\n",
        "for i in range(coef.shape[0]):\n",
        "  if coef[i]!=0:\n",
        "    list_of_feat.append(dataset.iloc[:0,i+3].name)\n",
        "    \n",
        "df = pd.DataFrame(list_of_feat, columns=['Best_Features'])\n",
        "\n",
        "#df.to_csv(\"Embedded_Method.csv\")\n",
        "\n",
        "list_of_feat = list(df[\"Best_Features\"])\n",
        "if number_of_feat < len(list_of_feat):\n",
        "  list_of_feat = list_of_feat[:number_of_feat]\n",
        "'''"
      ]
    },
    {
      "cell_type": "markdown",
      "metadata": {
        "id": "rrR11h2K-aJn"
      },
      "source": [
        "###Pearson's with f regression"
      ]
    },
    {
      "cell_type": "code",
      "execution_count": null,
      "metadata": {
        "id": "qH6yDZiP-a9K"
      },
      "outputs": [],
      "source": [
        "'''\n",
        "from sklearn.datasets import make_regression\n",
        "from sklearn.feature_selection import SelectKBest\n",
        "from sklearn.feature_selection import f_regression\n",
        "import pandas as pd\n",
        "\n",
        "\n",
        "fs = SelectKBest(score_func=f_regression, k=5)\n",
        "fit = fs.fit(X,y)\n",
        "\n",
        "dfscores = pd.DataFrame(fit.scores_)\n",
        "dfcolumns = pd.DataFrame(dataset.columns)\n",
        "featureScores = pd.concat([dfcolumns,dfscores],axis=1)\n",
        "\n",
        "featureScores.columns = ['Best_columns','Score_pearsons'] \n",
        "\n",
        "\n",
        "lyst = featureScores.nlargest(number_of_feat,'Score_pearsons')\n",
        "\n",
        "#lyst.to_csv('Filter_Method_Pearson’s_with_f_regression.csv')\n",
        "\n",
        "list_of_feat = list(lyst[\"Best_columns\"])\n",
        "'''"
      ]
    },
    {
      "cell_type": "markdown",
      "metadata": {
        "id": "85wbxGFW-kGZ"
      },
      "source": [
        "###Sequential Feature Selection"
      ]
    },
    {
      "cell_type": "code",
      "execution_count": null,
      "metadata": {
        "id": "MtP9AHew-k1i"
      },
      "outputs": [],
      "source": [
        "''''\n",
        "from sklearn.feature_selection import SequentialFeatureSelector\n",
        "from sklearn.neighbors import KNeighborsClassifier\n",
        "knn = KNeighborsClassifier(n_neighbors=3)\n",
        "sfs = SequentialFeatureSelector(knn, n_features_to_select=number_of_feat)\n",
        "sfs.fit(X, y)\n",
        "list_of_feat=[]\n",
        "list_of_feat=list(sfs.get_feature_names_out(X.columns))\n",
        "\n",
        "df = pd.DataFrame(list_of_feat, columns=['Best_Features'])\n",
        "\n",
        "#df.to_csv(\"Filter_Method_Sequential_feat_Selection_KNN.csv\")\n",
        "\n",
        "list_of_feat = list(df[\"Best_Features\"])\n",
        "if number_of_feat < len(list_of_feat):\n",
        "  list_of_feat = list_of_feat[:number_of_feat]\n",
        "  '''"
      ]
    },
    {
      "cell_type": "markdown",
      "metadata": {
        "id": "YAQ71nBV-p7E"
      },
      "source": [
        "###Feature list"
      ]
    },
    {
      "cell_type": "code",
      "execution_count": null,
      "metadata": {
        "id": "JKwGHUuo-qnn"
      },
      "outputs": [],
      "source": [
        "dfcolumns = pd.DataFrame(list_of_feat)\n",
        "print(dfcolumns)"
      ]
    },
    {
      "cell_type": "markdown",
      "source": [
        "#Tunning for Scalling and Data Balancing"
      ],
      "metadata": {
        "id": "D_JvHx9vH9uj"
      }
    },
    {
      "cell_type": "markdown",
      "source": [
        "##Smote : NO\n",
        "##Scaling : NO"
      ],
      "metadata": {
        "id": "ZON5Lja3IgmX"
      }
    },
    {
      "cell_type": "code",
      "source": [
        "def tune_1():\n",
        "  X_new = X\n",
        "  y_new = y\n",
        "  return train_test_split(X_new, y_new, test_size = 0.2, random_state = 0)"
      ],
      "metadata": {
        "id": "eKyCe2mWINsz"
      },
      "execution_count": 45,
      "outputs": []
    },
    {
      "cell_type": "markdown",
      "source": [
        "##Smote : NO\n",
        "##Scaling : All Data (Standard)"
      ],
      "metadata": {
        "id": "SIo5zjE7IygQ"
      }
    },
    {
      "cell_type": "code",
      "source": [
        "def tune_2():\n",
        "  X_new = StandardScaleData(X)\n",
        "  y_new = y\n",
        "  return train_test_split(X_new, y_new, test_size = 0.2, random_state = 0)"
      ],
      "metadata": {
        "id": "4mo8T61ZJKCm"
      },
      "execution_count": 46,
      "outputs": []
    },
    {
      "cell_type": "markdown",
      "source": [
        "##Smote : NO\n",
        "##Scaling : All Data (MinMax)"
      ],
      "metadata": {
        "id": "w8nhK0R1I754"
      }
    },
    {
      "cell_type": "code",
      "source": [
        "def tune_3():\n",
        "  X_new = MinMaxScaleData(X)\n",
        "  y_new = y\n",
        "  return train_test_split(X_new, y_new, test_size = 0.2, random_state = 0)"
      ],
      "metadata": {
        "id": "nXhPKzRfJKwL"
      },
      "execution_count": 47,
      "outputs": []
    },
    {
      "cell_type": "markdown",
      "source": [
        "##Smote : NO\n",
        "##Scaling : Train (Stadard)"
      ],
      "metadata": {
        "id": "jENNmiyhJHz5"
      }
    },
    {
      "cell_type": "code",
      "source": [
        "def tune_4():\n",
        "  X_new = X\n",
        "  y_new = y\n",
        "  X_train, X_test, y_train, y_test = train_test_split(X_new, y_new, test_size = 0.2, random_state = 0)\n",
        "  X_train = StandardScaleData(X_train)\n",
        "  return X_train, X_test, y_train, y_test"
      ],
      "metadata": {
        "id": "W-SONiQJJisq"
      },
      "execution_count": 48,
      "outputs": []
    },
    {
      "cell_type": "markdown",
      "source": [
        "##Smote : NO\n",
        "##Scaling : Train (MinMax)"
      ],
      "metadata": {
        "id": "80s0imm4Jlow"
      }
    },
    {
      "cell_type": "code",
      "source": [
        "\n",
        "def tune_5():\n",
        "  X_new = X\n",
        "  y_new = y\n",
        "  X_train, X_test, y_train, y_test = train_test_split(X_new, y_new, test_size = 0.2, random_state = 0)\n",
        "  X_train = MinMaxScaleData(X_train)\n",
        "  return X_train, X_test, y_train, y_test"
      ],
      "metadata": {
        "id": "m994BnU1Jpdz"
      },
      "execution_count": 49,
      "outputs": []
    },
    {
      "cell_type": "markdown",
      "source": [
        "##Smote : ALL\n",
        "##Scaling : NO"
      ],
      "metadata": {
        "id": "AK88Z5f_Jo66"
      }
    },
    {
      "cell_type": "code",
      "source": [
        "\n",
        "def tune_6():\n",
        "  X_new,y_new = Xy_balance(X,y)\n",
        "  return train_test_split(X_new, y_new, test_size = 0.2, random_state = 0)\n"
      ],
      "metadata": {
        "id": "tp9qRMpgKcIc"
      },
      "execution_count": 50,
      "outputs": []
    },
    {
      "cell_type": "markdown",
      "source": [
        "##Smote : Train\n",
        "##Scaling : NO"
      ],
      "metadata": {
        "id": "00MAoDtaKcxo"
      }
    },
    {
      "cell_type": "code",
      "source": [
        "\n",
        "def tune_7():\n",
        "  X_new = X\n",
        "  y_new = y\n",
        "  X_train, X_test, y_train, y_test = train_test_split(X_new, y_new, test_size = 0.2, random_state = 0)\n",
        "  X_train,y_train = Xy_balance(X_train,y_train)\n",
        "  return X_train, X_test, y_train, y_test\n"
      ],
      "metadata": {
        "id": "nIzsgHkSKgrU"
      },
      "execution_count": 52,
      "outputs": []
    },
    {
      "cell_type": "markdown",
      "source": [
        "##Smote : Train\n",
        "##Scaling : Train (Standard)"
      ],
      "metadata": {
        "id": "kojmHdSZKhBy"
      }
    },
    {
      "cell_type": "code",
      "source": [
        "def tune_8():\n",
        "  X_new = X\n",
        "  y_new = y\n",
        "  X_train, X_test, y_train, y_test = train_test_split(X_new, y_new, test_size = 0.2, random_state = 0)\n",
        "  X_train,y_train = Xy_balance(X_train,y_train)\n",
        "  X_train = StandardScaleData(X_train)\n",
        "  return X_train, X_test, y_train, y_test"
      ],
      "metadata": {
        "id": "VrY3vpP-Kvs-"
      },
      "execution_count": 54,
      "outputs": []
    },
    {
      "cell_type": "markdown",
      "source": [
        "##Smote : Train\n",
        "##Scaling : Train (MixMax)"
      ],
      "metadata": {
        "id": "7rX7q69eKwGB"
      }
    },
    {
      "cell_type": "code",
      "source": [
        "def tune_9():\n",
        "  X_new = X\n",
        "  y_new = y\n",
        "  X_train, X_test, y_train, y_test = train_test_split(X_new, y_new, test_size = 0.2, random_state = 0)\n",
        "  X_train,y_train = Xy_balance(X_train,y_train)\n",
        "  X_train = MinMaxScaleData(X_train)\n",
        "  return X_train, X_test, y_train, y_test"
      ],
      "metadata": {
        "id": "p7aoyjE6Qll9"
      },
      "execution_count": 55,
      "outputs": []
    },
    {
      "cell_type": "markdown",
      "source": [
        "##Smote : All\n",
        "##Scaling : Train (Standard)"
      ],
      "metadata": {
        "id": "lSWIB7piKzlI"
      }
    },
    {
      "cell_type": "code",
      "source": [
        "def tune_10():\n",
        "  X_new,y_new = Xy_balance(X,y)\n",
        "  X_train, X_test, y_train, y_test = train_test_split(X_new, y_new, test_size = 0.2, random_state = 0)\n",
        "  X_train = StandardScaleData(X_train)\n",
        "  return X_train, X_test, y_train, y_test "
      ],
      "metadata": {
        "id": "sa8IIKzeLKUj"
      },
      "execution_count": 56,
      "outputs": []
    },
    {
      "cell_type": "markdown",
      "source": [
        "##Smote : All\n",
        "##Scaling : Train (MixMax)"
      ],
      "metadata": {
        "id": "Z_0kWnD7LKzB"
      }
    },
    {
      "cell_type": "code",
      "source": [
        "def tune_11():\n",
        "  X_new,y_new = Xy_balance(X,y)\n",
        "  X_train, X_test, y_train, y_test = train_test_split(X_new, y_new, test_size = 0.2, random_state = 0)\n",
        "  X_train = MinMaxScaleData(X_train)\n",
        "  return X_train, X_test, y_train, y_test "
      ],
      "metadata": {
        "id": "RkauvB9HLN2H"
      },
      "execution_count": 57,
      "outputs": []
    },
    {
      "cell_type": "markdown",
      "source": [
        "##Smote : All\n",
        "##Scaling : All (Standard)"
      ],
      "metadata": {
        "id": "_hIY_DerLOWn"
      }
    },
    {
      "cell_type": "code",
      "source": [
        "def tune_12():\n",
        "  X_new,y_new = Xy_balance(X,y)\n",
        "  X_new = StandardScaleData(X_new)\n",
        "  return train_test_split(X_new, y_new, test_size = 0.2, random_state = 0)"
      ],
      "metadata": {
        "id": "lFrLXHWNLRp1"
      },
      "execution_count": 58,
      "outputs": []
    },
    {
      "cell_type": "markdown",
      "source": [
        "##Smote : All\n",
        "##Scaling : ALL (MinMax)"
      ],
      "metadata": {
        "id": "7HwOO1ijLYvE"
      }
    },
    {
      "cell_type": "code",
      "source": [
        "def tune_13():\n",
        "  X_new,y_new = Xy_balance(X,y)\n",
        "  X_new = MinMaxScaleData(X_new)\n",
        "  return train_test_split(X_new, y_new, test_size = 0.2, random_state = 0)"
      ],
      "metadata": {
        "id": "zpz5l64YLZ00"
      },
      "execution_count": 59,
      "outputs": []
    },
    {
      "cell_type": "markdown",
      "source": [
        "##Tunn Dictionary"
      ],
      "metadata": {
        "id": "tIBhslqzApW8"
      }
    },
    {
      "cell_type": "code",
      "source": [
        "tune_dic={\n",
        "  \"Smote : NO    ; Scaling : NO\"                  : tune_1(),\n",
        "  \"Smote : NO    ; Scaling : All Data(Standard)\"  : tune_2(),\n",
        "  \"Smote : NO    ; Scaling : All Data(MinMax)\"    : tune_3(),\n",
        "  \"Smote : NO    ; Scaling : Train(Standard)\"     : tune_4(),\n",
        "  \"Smote : NO    ; Scaling : Train(MinMax)\"       : tune_5(),\n",
        "  \"Smote : ALL   ; Scaling : NO\"                  : tune_6(),\n",
        "  \"Smote : Train ; Scaling : NO\"                  : tune_7(),\n",
        "  \"Smote : Train ; Scaling : Train(Standard)\"     : tune_8(),\n",
        "  \"Smote : Train ; Scaling : Train(MinMax)\"       : tune_9(),\n",
        "  \"Smote : All   ; Scaling : Train(Standard)\"     : tune_10(),\n",
        "  \"Smote : All   ; Scaling : Train(MinMax)\"       : tune_11(),\n",
        "  \"Smote : All   ; Scaling : All(Standard)\"       : tune_12(),\n",
        "  \"Smote : All   ; Scaling : All(Standard)\"       : tune_13()\n",
        "}"
      ],
      "metadata": {
        "id": "7fPzUhPb7nb9"
      },
      "execution_count": 60,
      "outputs": []
    },
    {
      "cell_type": "code",
      "source": [
        "list(tune_dic.keys())"
      ],
      "metadata": {
        "id": "XJpPgAE4Au22",
        "outputId": "df2dd89c-4574-4ea3-f441-9feee1559baf",
        "colab": {
          "base_uri": "https://localhost:8080/"
        }
      },
      "execution_count": 63,
      "outputs": [
        {
          "output_type": "execute_result",
          "data": {
            "text/plain": [
              "['Smote : NO    ; Scaling : NO',\n",
              " 'Smote : NO    ; Scaling : All Data(Standard)',\n",
              " 'Smote : NO    ; Scaling : All Data(MinMax)',\n",
              " 'Smote : NO    ; Scaling : Train(Standard)',\n",
              " 'Smote : NO    ; Scaling : Train(MinMax)',\n",
              " 'Smote : ALL   ; Scaling : NO',\n",
              " 'Smote : Train ; Scaling : NO',\n",
              " 'Smote : Train ; Scaling : Train(Standard)',\n",
              " 'Smote : Train ; Scaling : Train(MinMax)',\n",
              " 'Smote : All   ; Scaling : Train(Standard)',\n",
              " 'Smote : All   ; Scaling : Train(MinMax)',\n",
              " 'Smote : All   ; Scaling : All(Standard)']"
            ]
          },
          "metadata": {},
          "execution_count": 63
        }
      ]
    },
    {
      "cell_type": "markdown",
      "metadata": {
        "id": "bqYsoblRogp2"
      },
      "source": [
        "\n",
        "\n",
        "---\n",
        "\n"
      ]
    },
    {
      "cell_type": "markdown",
      "metadata": {
        "id": "IqElxazTzXxp"
      },
      "source": [
        "# **Training**"
      ]
    },
    {
      "cell_type": "markdown",
      "metadata": {
        "id": "jEe2R0yAoifa"
      },
      "source": [
        "##ADABOOST"
      ]
    },
    {
      "cell_type": "code",
      "execution_count": null,
      "metadata": {
        "colab": {
          "base_uri": "https://localhost:8080/"
        },
        "id": "Bz_yVJaXod8O",
        "outputId": "3da792b0-d61f-4a0e-d420-508d6581aa36"
      },
      "outputs": [
        {
          "output_type": "stream",
          "name": "stdout",
          "text": [
            "[[ 127  829  102  544  783]\n",
            " [  72 4755 1668  772  603]\n",
            " [  11 1021 3119   16   52]\n",
            " [  86 1412  161 1435  306]\n",
            " [  76  527   74  214 2925]]\n",
            "              precision    recall  f1-score   support\n",
            "\n",
            "           0       0.34      0.05      0.09      2385\n",
            "           1       0.56      0.60      0.58      7870\n",
            "           2       0.61      0.74      0.67      4219\n",
            "           3       0.48      0.42      0.45      3400\n",
            "           4       0.63      0.77      0.69      3816\n",
            "\n",
            "    accuracy                           0.57     21690\n",
            "   macro avg       0.52      0.52      0.50     21690\n",
            "weighted avg       0.54      0.57      0.54     21690\n",
            "\n",
            "Accurecy:  0.5698939603503919\n",
            "CPU times: user 18.9 s, sys: 36 ms, total: 19 s\n",
            "Wall time: 18.9 s\n"
          ]
        }
      ],
      "source": [
        "%%time\n",
        "from sklearn.ensemble import AdaBoostClassifier\n",
        "\n",
        "ada_defult = AdaBoostClassifier(random_state=0)\n",
        "ada_defult.fit(X_train, y_train)\n",
        "y_pred = ada_defult.predict(X_test)\n",
        "\n",
        "from sklearn.metrics import classification_report, confusion_matrix, accuracy_score\n",
        "print(confusion_matrix(y_test, y_pred))\n",
        "print(classification_report(y_test,y_pred))\n",
        "print(\"Accurecy: \",accuracy_score(y_test, y_pred))\n",
        "result[(ada_defult,1,'AdaBoostClassifier')]=accuracy_score(y_test, y_pred)\n"
      ]
    },
    {
      "cell_type": "markdown",
      "metadata": {
        "id": "JQhATacCo1AD"
      },
      "source": [
        "\n",
        "\n",
        "---\n",
        "\n",
        "\n",
        "\n",
        "---\n",
        "\n"
      ]
    },
    {
      "cell_type": "markdown",
      "metadata": {
        "id": "FJybpt_UvCU0"
      },
      "source": [
        "##Graddient Boosting"
      ]
    },
    {
      "cell_type": "code",
      "execution_count": null,
      "metadata": {
        "colab": {
          "base_uri": "https://localhost:8080/"
        },
        "id": "sgmvc8A_o18j",
        "outputId": "5bc4427c-7f59-4399-bff2-c281ac1c173b"
      },
      "outputs": [
        {
          "metadata": {
            "tags": null
          },
          "name": "stdout",
          "output_type": "stream",
          "text": [
            "[[ 369  883   54  415  664]\n",
            " [ 166 5955  852  519  378]\n",
            " [   1 1123 3044   14   37]\n",
            " [ 187 1026   99 1930  158]\n",
            " [ 205  452   33   78 3048]]\n",
            "              precision    recall  f1-score   support\n",
            "\n",
            "           0       0.40      0.15      0.22      2385\n",
            "           1       0.63      0.76      0.69      7870\n",
            "           2       0.75      0.72      0.73      4219\n",
            "           3       0.65      0.57      0.61      3400\n",
            "           4       0.71      0.80      0.75      3816\n",
            "\n",
            "    accuracy                           0.66     21690\n",
            "   macro avg       0.63      0.60      0.60     21690\n",
            "weighted avg       0.65      0.66      0.64     21690\n",
            "\n",
            "Accurecy:  0.6614107883817427\n",
            "CPU times: user 8min 12s, sys: 529 ms, total: 8min 13s\n",
            "Wall time: 8min 11s\n"
          ]
        }
      ],
      "source": [
        "%%time\n",
        "from sklearn.ensemble import GradientBoostingClassifier\n",
        "\n",
        "gradBoost_default = GradientBoostingClassifier(random_state=0)\n",
        "gradBoost_default.fit(X_train, y_train)\n",
        "y_pred = gradBoost_default.predict(X_test)\n",
        "\n",
        "from sklearn.metrics import classification_report, confusion_matrix, accuracy_score\n",
        "print(confusion_matrix(y_test, y_pred))\n",
        "print(classification_report(y_test,y_pred))\n",
        "print(\"Accurecy: \",accuracy_score(y_test, y_pred))\n",
        "result[(gradBoost_default,2,'GradientBoostingClassifier')]=accuracy_score(y_test, y_pred)"
      ]
    },
    {
      "cell_type": "markdown",
      "source": [
        "###Histogram-Based Gradient Boosting"
      ],
      "metadata": {
        "id": "e1Tco70euelI"
      }
    },
    {
      "cell_type": "code",
      "source": [
        "%%time\n",
        "from sklearn.ensemble import HistGradientBoostingClassifier\n",
        "\n",
        "hisgradBoost_default = HistGradientBoostingClassifier(random_state=0)\n",
        "hisgradBoost_default.fit(X_train, y_train)\n",
        "y_pred = hisgradBoost_default.predict(X_test)\n",
        "\n",
        "from sklearn.metrics import classification_report, confusion_matrix, accuracy_score\n",
        "print(confusion_matrix(y_test, y_pred))\n",
        "print(classification_report(y_test,y_pred))\n",
        "print(\"Accurecy: \",accuracy_score(y_test, y_pred))\n",
        "result[(hisgradBoost_default,3,'HistGradientBoostingClassifier')]=accuracy_score(y_test, y_pred)"
      ],
      "metadata": {
        "colab": {
          "base_uri": "https://localhost:8080/"
        },
        "id": "BEpdNycHuifn",
        "outputId": "e1d67507-0680-4425-8648-b9ecd5e814d5"
      },
      "execution_count": null,
      "outputs": [
        {
          "metadata": {
            "tags": null
          },
          "name": "stdout",
          "output_type": "stream",
          "text": [
            "[[ 497  824   38  380  646]\n",
            " [ 200 6229  736  402  303]\n",
            " [   9  940 3241    7   22]\n",
            " [ 165  744   52 2335  104]\n",
            " [ 226  293   19   56 3222]]\n",
            "              precision    recall  f1-score   support\n",
            "\n",
            "           0       0.45      0.21      0.29      2385\n",
            "           1       0.69      0.79      0.74      7870\n",
            "           2       0.79      0.77      0.78      4219\n",
            "           3       0.73      0.69      0.71      3400\n",
            "           4       0.75      0.84      0.79      3816\n",
            "\n",
            "    accuracy                           0.72     21690\n",
            "   macro avg       0.68      0.66      0.66     21690\n",
            "weighted avg       0.70      0.72      0.70     21690\n",
            "\n",
            "Accurecy:  0.71572153065929\n",
            "CPU times: user 33.5 s, sys: 265 ms, total: 33.7 s\n",
            "Wall time: 17.6 s\n"
          ]
        }
      ]
    },
    {
      "cell_type": "markdown",
      "metadata": {
        "id": "ThoTlhc4pRJT"
      },
      "source": [
        "\n",
        "\n",
        "---\n",
        "\n",
        "\n",
        "\n",
        "---\n",
        "\n"
      ]
    },
    {
      "cell_type": "markdown",
      "metadata": {
        "id": "AgMT_U8gvM7F"
      },
      "source": [
        "##Random Forest"
      ]
    },
    {
      "cell_type": "code",
      "execution_count": null,
      "metadata": {
        "colab": {
          "base_uri": "https://localhost:8080/"
        },
        "id": "-4GMunEvtWk2",
        "outputId": "9894fbf5-a522-4a5a-ceef-ba28249c159b"
      },
      "outputs": [
        {
          "metadata": {
            "tags": null
          },
          "name": "stdout",
          "output_type": "stream",
          "text": [
            "[[ 550  817   33  347  638]\n",
            " [ 225 6383  607  378  277]\n",
            " [   5  875 3307    6   26]\n",
            " [ 159  763   42 2316  120]\n",
            " [ 247  320   19   46 3184]]\n",
            "              precision    recall  f1-score   support\n",
            "\n",
            "           0       0.46      0.23      0.31      2385\n",
            "           1       0.70      0.81      0.75      7870\n",
            "           2       0.83      0.78      0.80      4219\n",
            "           3       0.75      0.68      0.71      3400\n",
            "           4       0.75      0.83      0.79      3816\n",
            "\n",
            "    accuracy                           0.73     21690\n",
            "   macro avg       0.70      0.67      0.67     21690\n",
            "weighted avg       0.71      0.73      0.71     21690\n",
            "\n",
            "Accurecy:  0.7256800368833564\n",
            "CPU times: user 1min 31s, sys: 83.9 ms, total: 1min 31s\n",
            "Wall time: 47 s\n"
          ]
        }
      ],
      "source": [
        "%%time\n",
        "from sklearn.ensemble import RandomForestClassifier\n",
        "rf_default = RandomForestClassifier(random_state=0,n_jobs=-1)\n",
        "rf_default.fit(X_train, y_train)\n",
        "y_pred=rf_default.predict(X_test)\n",
        "\n",
        "\n",
        "from sklearn.metrics import classification_report, confusion_matrix, accuracy_score\n",
        "print(confusion_matrix(y_test, y_pred))\n",
        "print(classification_report(y_test,y_pred))\n",
        "print(\"Accurecy: \",accuracy_score(y_test, y_pred))\n",
        "result[(rf_default,4,'RandomForestClassifier')]=accuracy_score(y_test, y_pred)"
      ]
    },
    {
      "cell_type": "markdown",
      "metadata": {
        "id": "G_DChNuquB92"
      },
      "source": [
        "\n",
        "\n",
        "---\n",
        "\n",
        "\n",
        "\n",
        "---\n",
        "\n"
      ]
    },
    {
      "cell_type": "markdown",
      "metadata": {
        "id": "jRG4cBnKvZU2"
      },
      "source": [
        "##XGB"
      ]
    },
    {
      "cell_type": "code",
      "execution_count": null,
      "metadata": {
        "colab": {
          "base_uri": "https://localhost:8080/"
        },
        "id": "sC1lAZeeuCw8",
        "outputId": "91856c5e-073f-4a30-f21b-60c28f12fce4"
      },
      "outputs": [
        {
          "output_type": "stream",
          "name": "stdout",
          "text": [
            "[[ 263  879   64  453  726]\n",
            " [ 130 5833  934  568  405]\n",
            " [   2 1214 2949   11   43]\n",
            " [ 151 1113  116 1835  185]\n",
            " [ 155  464   41   83 3073]]\n",
            "              precision    recall  f1-score   support\n",
            "\n",
            "           0       0.38      0.11      0.17      2385\n",
            "           1       0.61      0.74      0.67      7870\n",
            "           2       0.72      0.70      0.71      4219\n",
            "           3       0.62      0.54      0.58      3400\n",
            "           4       0.69      0.81      0.75      3816\n",
            "\n",
            "    accuracy                           0.64     21690\n",
            "   macro avg       0.60      0.58      0.57     21690\n",
            "weighted avg       0.62      0.64      0.62     21690\n",
            "\n",
            "Accurecy:  0.6432918395573998\n",
            "CPU times: user 1min 53s, sys: 108 ms, total: 1min 53s\n",
            "Wall time: 59.2 s\n"
          ]
        }
      ],
      "source": [
        "%%time\n",
        "import xgboost as xgb\n",
        "xgb_deafult = xgb.XGBClassifier(random_state=0,n_jobs=-1)\n",
        "xgb_deafult.fit(X_train.values,y_train.values)\n",
        "y_pred = xgb_deafult.predict(X_test.values)\n",
        "\n",
        "\n",
        "from sklearn.metrics import classification_report, confusion_matrix, accuracy_score\n",
        "print(confusion_matrix(y_test, y_pred))\n",
        "print(classification_report(y_test,y_pred))\n",
        "print(\"Accurecy: \",accuracy_score(y_test, y_pred))\n",
        "result[(xgb_deafult,5,'xgboost')]=accuracy_score(y_test, y_pred)"
      ]
    },
    {
      "cell_type": "markdown",
      "metadata": {
        "id": "K6_icFWdauSI"
      },
      "source": [
        "##KNN"
      ]
    },
    {
      "cell_type": "code",
      "execution_count": null,
      "metadata": {
        "colab": {
          "base_uri": "https://localhost:8080/"
        },
        "id": "6GALUBYbaz1z",
        "outputId": "aaab165f-dee3-418a-bb53-c60cae4e3e93"
      },
      "outputs": [
        {
          "output_type": "stream",
          "name": "stdout",
          "text": [
            "[[ 567  895  121  346  456]\n",
            " [ 582 5348 1113  621  206]\n",
            " [  41 1281 2820   54   23]\n",
            " [ 412 1548  173 1127  140]\n",
            " [ 529  485  119  190 2493]]\n",
            "              precision    recall  f1-score   support\n",
            "\n",
            "           0       0.27      0.24      0.25      2385\n",
            "           1       0.56      0.68      0.61      7870\n",
            "           2       0.65      0.67      0.66      4219\n",
            "           3       0.48      0.33      0.39      3400\n",
            "           4       0.75      0.65      0.70      3816\n",
            "\n",
            "    accuracy                           0.57     21690\n",
            "   macro avg       0.54      0.51      0.52     21690\n",
            "weighted avg       0.57      0.57      0.56     21690\n",
            "\n",
            "Accurecy:  0.5696173351775011\n",
            "CPU times: user 1min 9s, sys: 3.66 s, total: 1min 13s\n",
            "Wall time: 55.9 s\n"
          ]
        }
      ],
      "source": [
        "%%time\n",
        "from sklearn.neighbors import KNeighborsClassifier\n",
        "knn_default = KNeighborsClassifier(n_jobs = -1)\n",
        "knn_default.fit(X_train, y_train)\n",
        "y_pred=knn_default.predict(X_test)\n",
        "\n",
        "\n",
        "from sklearn.metrics import classification_report, confusion_matrix, accuracy_score\n",
        "print(confusion_matrix(y_test, y_pred))\n",
        "print(classification_report(y_test,y_pred))\n",
        "print(\"Accurecy: \",accuracy_score(y_test, y_pred))\n",
        "result[(knn_default,6,'KNeighborsClassifier')]=accuracy_score(y_test, y_pred)"
      ]
    },
    {
      "cell_type": "markdown",
      "metadata": {
        "id": "_Btki9jRvc1Y"
      },
      "source": [
        "##NB"
      ]
    },
    {
      "cell_type": "code",
      "execution_count": null,
      "metadata": {
        "colab": {
          "base_uri": "https://localhost:8080/"
        },
        "id": "iRmd7ve-ubcd",
        "outputId": "785e463e-2332-4c34-938f-72606a83c17e"
      },
      "outputs": [
        {
          "output_type": "stream",
          "name": "stdout",
          "text": [
            "[[  50 2335    0    0    0]\n",
            " [ 121 7749    0    0    0]\n",
            " [  47 4172    0    0    0]\n",
            " [  28 3372    0    0    0]\n",
            " [  46 3770    0    0    0]]\n",
            "              precision    recall  f1-score   support\n",
            "\n",
            "           0       0.17      0.02      0.04      2385\n",
            "           1       0.36      0.98      0.53      7870\n",
            "           2       0.00      0.00      0.00      4219\n",
            "           3       0.00      0.00      0.00      3400\n",
            "           4       0.00      0.00      0.00      3816\n",
            "\n",
            "    accuracy                           0.36     21690\n",
            "   macro avg       0.11      0.20      0.11     21690\n",
            "weighted avg       0.15      0.36      0.20     21690\n",
            "\n",
            "Accurecy:  0.3595666205624712\n",
            "CPU times: user 161 ms, sys: 20 ms, total: 181 ms\n",
            "Wall time: 178 ms\n"
          ]
        },
        {
          "output_type": "stream",
          "name": "stderr",
          "text": [
            "/usr/local/lib/python3.8/dist-packages/sklearn/metrics/_classification.py:1318: UndefinedMetricWarning: Precision and F-score are ill-defined and being set to 0.0 in labels with no predicted samples. Use `zero_division` parameter to control this behavior.\n",
            "  _warn_prf(average, modifier, msg_start, len(result))\n",
            "/usr/local/lib/python3.8/dist-packages/sklearn/metrics/_classification.py:1318: UndefinedMetricWarning: Precision and F-score are ill-defined and being set to 0.0 in labels with no predicted samples. Use `zero_division` parameter to control this behavior.\n",
            "  _warn_prf(average, modifier, msg_start, len(result))\n",
            "/usr/local/lib/python3.8/dist-packages/sklearn/metrics/_classification.py:1318: UndefinedMetricWarning: Precision and F-score are ill-defined and being set to 0.0 in labels with no predicted samples. Use `zero_division` parameter to control this behavior.\n",
            "  _warn_prf(average, modifier, msg_start, len(result))\n"
          ]
        }
      ],
      "source": [
        "%%time\n",
        "from sklearn.naive_bayes import GaussianNB\n",
        "\n",
        "nb_deafult = GaussianNB()\n",
        "nb_deafult.fit(X_train, y_train)\n",
        "y_pred = nb_deafult.predict(X_test)\n",
        "\n",
        "\n",
        "from sklearn.metrics import classification_report, confusion_matrix, accuracy_score\n",
        "print(confusion_matrix(y_test, y_pred))\n",
        "print(classification_report(y_test,y_pred))\n",
        "print(\"Accurecy: \",accuracy_score(y_test, y_pred))\n",
        "result[(nb_deafult,7,'GaussianNB')]=accuracy_score(y_test, y_pred)"
      ]
    },
    {
      "cell_type": "markdown",
      "source": [
        "##Support Vector Machines"
      ],
      "metadata": {
        "id": "Pt_vcBAayRPD"
      }
    },
    {
      "cell_type": "markdown",
      "source": [
        "####SVM"
      ],
      "metadata": {
        "id": "g21ALhCNyzOi"
      }
    },
    {
      "cell_type": "code",
      "source": [
        "\"\"\"%%time\n",
        "from sklearn import svm\n",
        "\n",
        "svm = svm.SVC(decision_function_shape='ovo')\n",
        "svm.fit(X_train, y_train)\n",
        "y_pred = svm.predict(X_test)\n",
        "\n",
        "\n",
        "from sklearn.metrics import classification_report, confusion_matrix, accuracy_score\n",
        "print(confusion_matrix(y_test, y_pred))\n",
        "print(classification_report(y_test,y_pred))\n",
        "print(\"Accurecy: \",accuracy_score(y_test, y_pred))\n",
        "result[(svm,8,'svm.SVC')]=accuracy_score(y_test, y_pred)\"\"\""
      ],
      "metadata": {
        "colab": {
          "base_uri": "https://localhost:8080/"
        },
        "id": "DLS5oXLVyVxx",
        "outputId": "b3aa61d9-d91f-452a-f8d7-8375681ba77d"
      },
      "execution_count": null,
      "outputs": [
        {
          "output_type": "stream",
          "name": "stdout",
          "text": [
            "[[   0 2385    0    0    0]\n",
            " [   0 7870    0    0    0]\n",
            " [   0 4219    0    0    0]\n",
            " [   0 3400    0    0    0]\n",
            " [   0 3816    0    0    0]]\n",
            "              precision    recall  f1-score   support\n",
            "\n",
            "           0       0.00      0.00      0.00      2385\n",
            "           1       0.36      1.00      0.53      7870\n",
            "           2       0.00      0.00      0.00      4219\n",
            "           3       0.00      0.00      0.00      3400\n",
            "           4       0.00      0.00      0.00      3816\n",
            "\n",
            "    accuracy                           0.36     21690\n",
            "   macro avg       0.07      0.20      0.11     21690\n",
            "weighted avg       0.13      0.36      0.19     21690\n",
            "\n",
            "Accurecy:  0.3628400184416782\n",
            "CPU times: user 19min 55s, sys: 1.23 s, total: 19min 57s\n",
            "Wall time: 19min 51s\n"
          ]
        },
        {
          "output_type": "stream",
          "name": "stderr",
          "text": [
            "/usr/local/lib/python3.8/dist-packages/sklearn/metrics/_classification.py:1318: UndefinedMetricWarning: Precision and F-score are ill-defined and being set to 0.0 in labels with no predicted samples. Use `zero_division` parameter to control this behavior.\n",
            "  _warn_prf(average, modifier, msg_start, len(result))\n",
            "/usr/local/lib/python3.8/dist-packages/sklearn/metrics/_classification.py:1318: UndefinedMetricWarning: Precision and F-score are ill-defined and being set to 0.0 in labels with no predicted samples. Use `zero_division` parameter to control this behavior.\n",
            "  _warn_prf(average, modifier, msg_start, len(result))\n",
            "/usr/local/lib/python3.8/dist-packages/sklearn/metrics/_classification.py:1318: UndefinedMetricWarning: Precision and F-score are ill-defined and being set to 0.0 in labels with no predicted samples. Use `zero_division` parameter to control this behavior.\n",
            "  _warn_prf(average, modifier, msg_start, len(result))\n"
          ]
        }
      ]
    },
    {
      "cell_type": "markdown",
      "source": [
        "####Linear"
      ],
      "metadata": {
        "id": "G0C3fZ9Fy5Hi"
      }
    },
    {
      "cell_type": "code",
      "source": [
        "\"\"\"%%time\n",
        "from sklearn import svm\n",
        "\n",
        "LinearSVC = svm.LinearSVC()\n",
        "LinearSVC.fit(X_train, y_train)\n",
        "y_pred = LinearSVC.predict(X_test)\n",
        "\n",
        "\n",
        "from sklearn.metrics import classification_report, confusion_matrix, accuracy_score\n",
        "print(confusion_matrix(y_test, y_pred))\n",
        "print(classification_report(y_test,y_pred))\n",
        "print(\"Accurecy: \",accuracy_score(y_test, y_pred))\n",
        "result[(LinearSVC,9,'svm.LinearSVC')]=accuracy_score(y_test, y_pred)\"\"\""
      ],
      "metadata": {
        "id": "7MSg2w8Syysp"
      },
      "execution_count": null,
      "outputs": []
    },
    {
      "cell_type": "markdown",
      "source": [
        "##Stochastic Gradient Descent"
      ],
      "metadata": {
        "id": "2px1l5lEzh0M"
      }
    },
    {
      "cell_type": "code",
      "source": [
        "\"\"\"%%time\n",
        "from sklearn.linear_model import SGDClassifier\n",
        "\n",
        "SGDClassifier = SGDClassifier()\n",
        "SGDClassifier.fit(X_train, y_train)\n",
        "y_pred = SGDClassifier.predict(X_test)\n",
        "\n",
        "\n",
        "from sklearn.metrics import classification_report, confusion_matrix, accuracy_score\n",
        "print(confusion_matrix(y_test, y_pred))\n",
        "print(classification_report(y_test,y_pred))\n",
        "print(\"Accurecy: \",accuracy_score(y_test, y_pred))\n",
        "result[(SGDClassifier,10,'SGDClassifier')]=accuracy_score(y_test, y_pred)\"\"\""
      ],
      "metadata": {
        "colab": {
          "base_uri": "https://localhost:8080/"
        },
        "id": "vJag2atpzho8",
        "outputId": "a4a2af9d-3733-4d5a-83e3-08ed28f448e4"
      },
      "execution_count": null,
      "outputs": [
        {
          "output_type": "stream",
          "name": "stdout",
          "text": [
            "[[   0    0    0    0 2385]\n",
            " [   0    0    0    0 7870]\n",
            " [   0    0    0    0 4219]\n",
            " [   0    0    0    0 3400]\n",
            " [   0    0    0    0 3816]]\n",
            "              precision    recall  f1-score   support\n",
            "\n",
            "           0       0.00      0.00      0.00      2385\n",
            "           1       0.00      0.00      0.00      7870\n",
            "           2       0.00      0.00      0.00      4219\n",
            "           3       0.00      0.00      0.00      3400\n",
            "           4       0.18      1.00      0.30      3816\n",
            "\n",
            "    accuracy                           0.18     21690\n",
            "   macro avg       0.04      0.20      0.06     21690\n",
            "weighted avg       0.03      0.18      0.05     21690\n",
            "\n",
            "Accurecy:  0.17593360995850624\n",
            "CPU times: user 13.6 s, sys: 78 ms, total: 13.7 s\n",
            "Wall time: 13.6 s\n"
          ]
        },
        {
          "output_type": "stream",
          "name": "stderr",
          "text": [
            "/usr/local/lib/python3.8/dist-packages/sklearn/metrics/_classification.py:1318: UndefinedMetricWarning: Precision and F-score are ill-defined and being set to 0.0 in labels with no predicted samples. Use `zero_division` parameter to control this behavior.\n",
            "  _warn_prf(average, modifier, msg_start, len(result))\n",
            "/usr/local/lib/python3.8/dist-packages/sklearn/metrics/_classification.py:1318: UndefinedMetricWarning: Precision and F-score are ill-defined and being set to 0.0 in labels with no predicted samples. Use `zero_division` parameter to control this behavior.\n",
            "  _warn_prf(average, modifier, msg_start, len(result))\n",
            "/usr/local/lib/python3.8/dist-packages/sklearn/metrics/_classification.py:1318: UndefinedMetricWarning: Precision and F-score are ill-defined and being set to 0.0 in labels with no predicted samples. Use `zero_division` parameter to control this behavior.\n",
            "  _warn_prf(average, modifier, msg_start, len(result))\n"
          ]
        }
      ]
    },
    {
      "cell_type": "markdown",
      "source": [
        "##Tree algorithms"
      ],
      "metadata": {
        "id": "F5nb6RJK0RYl"
      }
    },
    {
      "cell_type": "markdown",
      "source": [
        "###DecisionTreeRegressor"
      ],
      "metadata": {
        "id": "pInu7aUH0U5l"
      }
    },
    {
      "cell_type": "code",
      "source": [
        "%%time\n",
        "from sklearn.tree import DecisionTreeClassifier\n",
        "\n",
        "dtc = DecisionTreeClassifier()\n",
        "dtc.fit(X_train, y_train)\n",
        "y_pred = dtc.predict(X_test)\n",
        "\n",
        "\n",
        "from sklearn.metrics import classification_report, confusion_matrix, accuracy_score\n",
        "print(confusion_matrix(y_test, y_pred))\n",
        "print(classification_report(y_test,y_pred))\n",
        "print(\"Accurecy: \",accuracy_score(y_test, y_pred))\n",
        "result[(dtc,11,'DecisionTreeClassifier')]=accuracy_score(y_test, y_pred)"
      ],
      "metadata": {
        "colab": {
          "base_uri": "https://localhost:8080/"
        },
        "id": "ab5w_XIS0Ub8",
        "outputId": "1e9712ab-0ad2-49b5-9615-fb2c31ab2bd2"
      },
      "execution_count": null,
      "outputs": [
        {
          "output_type": "stream",
          "name": "stdout",
          "text": [
            "[[ 601  741   77  406  560]\n",
            " [ 721 4960 1016  787  386]\n",
            " [  82 1057 2943   77   60]\n",
            " [ 431  830   82 1895  162]\n",
            " [ 597  440   60  175 2544]]\n",
            "              precision    recall  f1-score   support\n",
            "\n",
            "           0       0.25      0.25      0.25      2385\n",
            "           1       0.62      0.63      0.62      7870\n",
            "           2       0.70      0.70      0.70      4219\n",
            "           3       0.57      0.56      0.56      3400\n",
            "           4       0.69      0.67      0.68      3816\n",
            "\n",
            "    accuracy                           0.60     21690\n",
            "   macro avg       0.56      0.56      0.56     21690\n",
            "weighted avg       0.60      0.60      0.60     21690\n",
            "\n",
            "Accurecy:  0.596726602120793\n",
            "CPU times: user 7.24 s, sys: 8.99 ms, total: 7.25 s\n",
            "Wall time: 7.25 s\n"
          ]
        }
      ]
    },
    {
      "cell_type": "markdown",
      "source": [],
      "metadata": {
        "id": "d2uO0N0M8qn8"
      }
    },
    {
      "cell_type": "markdown",
      "metadata": {
        "id": "qqsWPAB3uv72"
      },
      "source": [
        "\n",
        "\n",
        "---\n",
        "\n",
        "\n",
        "\n",
        "---\n",
        "\n"
      ]
    },
    {
      "cell_type": "markdown",
      "metadata": {
        "id": "6FEsxCdvkg2D"
      },
      "source": [
        "#Result"
      ]
    },
    {
      "cell_type": "code",
      "execution_count": null,
      "metadata": {
        "id": "rx7qCLU14Aim",
        "colab": {
          "base_uri": "https://localhost:8080/"
        },
        "outputId": "92c0ddcf-b318-42f3-c25e-aa61ef69d0de"
      },
      "outputs": [
        {
          "output_type": "stream",
          "name": "stdout",
          "text": [
            "AdaBoostClassifier(random_state=0) 1  :  0.5698939603503919\n",
            "---------------------------------------------------------------\n",
            "\n",
            "GradientBoostingClassifier(random_state=0) 2  :  0.6614107883817427\n",
            "---------------------------------------------------------------\n",
            "\n",
            "HistGradientBoostingClassifier(random_state=0) 2  :  0.71572153065929\n",
            "---------------------------------------------------------------\n",
            "\n",
            "RandomForestClassifier(n_jobs=-1, random_state=0) 3  :  0.7256800368833564\n",
            "---------------------------------------------------------------\n",
            "\n",
            "XGBClassifier(n_jobs=-1, objective='multi:softprob') 4  :  0.6432918395573998\n",
            "---------------------------------------------------------------\n",
            "\n",
            "KNeighborsClassifier(n_jobs=-1) 5  :  0.5696173351775011\n",
            "---------------------------------------------------------------\n",
            "\n",
            "GaussianNB() 6  :  0.3595666205624712\n",
            "---------------------------------------------------------------\n",
            "\n"
          ]
        }
      ],
      "source": [
        "\n",
        "models=[]\n",
        "\n",
        "for i in result:\n",
        "  models.append(i[0])\n",
        "  print(i[0],i[1],\" : \",result[i])\n",
        "  print(\"---------------------------------------------------------------\")\n",
        "  print()\n"
      ]
    }
  ],
  "metadata": {
    "colab": {
      "collapsed_sections": [
        "rrR11h2K-aJn",
        "85wbxGFW-kGZ",
        "YAQ71nBV-p7E",
        "jEe2R0yAoifa",
        "FJybpt_UvCU0",
        "AgMT_U8gvM7F",
        "jRG4cBnKvZU2",
        "K6_icFWdauSI",
        "_Btki9jRvc1Y",
        "znXNx2bgUvtd",
        "zxxWSX26jsGT",
        "XtgWbvJsEwMt"
      ],
      "provenance": [],
      "include_colab_link": true
    },
    "kernelspec": {
      "display_name": "Python 3 (ipykernel)",
      "language": "python",
      "name": "python3"
    },
    "language_info": {
      "codemirror_mode": {
        "name": "ipython",
        "version": 3
      },
      "file_extension": ".py",
      "mimetype": "text/x-python",
      "name": "python",
      "nbconvert_exporter": "python",
      "pygments_lexer": "ipython3",
      "version": "3.9.15"
    }
  },
  "nbformat": 4,
  "nbformat_minor": 0
}