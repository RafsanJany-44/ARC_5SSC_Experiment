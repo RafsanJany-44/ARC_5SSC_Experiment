{
  "cells": [
    {
      "cell_type": "markdown",
      "metadata": {
        "id": "view-in-github",
        "colab_type": "text"
      },
      "source": [
        "<a href=\"https://colab.research.google.com/github/RafsanJany-44/ARC_5SSC_Experiment/blob/main/SleepStage_EEG_EXperiment_2.ipynb\" target=\"_parent\"><img src=\"https://colab.research.google.com/assets/colab-badge.svg\" alt=\"Open In Colab\"/></a>"
      ]
    },
    {
      "cell_type": "code",
      "source": [
        "from google.colab import drive\n",
        "drive.mount('/content/drive')"
      ],
      "metadata": {
        "colab": {
          "base_uri": "https://localhost:8080/"
        },
        "id": "FqpdklIrEJ2u",
        "outputId": "e3e11884-ce04-4058-8f40-2a7166fc093c"
      },
      "execution_count": 25,
      "outputs": [
        {
          "output_type": "stream",
          "name": "stdout",
          "text": [
            "Drive already mounted at /content/drive; to attempt to forcibly remount, call drive.mount(\"/content/drive\", force_remount=True).\n"
          ]
        }
      ]
    },
    {
      "cell_type": "markdown",
      "metadata": {
        "id": "SEsFaHeE2Pss"
      },
      "source": [
        "##Function"
      ]
    },
    {
      "cell_type": "code",
      "execution_count": 26,
      "metadata": {
        "id": "ESoueLt11P_w",
        "colab": {
          "base_uri": "https://localhost:8080/"
        },
        "outputId": "f3f6b4d9-16c7-4a9a-84da-ea57e3626edd"
      },
      "outputs": [
        {
          "output_type": "stream",
          "name": "stdout",
          "text": [
            "Looking in indexes: https://pypi.org/simple, https://us-python.pkg.dev/colab-wheels/public/simple/\n",
            "Requirement already satisfied: imbalanced-learn in /usr/local/lib/python3.8/dist-packages (0.8.1)\n",
            "Requirement already satisfied: numpy>=1.13.3 in /usr/local/lib/python3.8/dist-packages (from imbalanced-learn) (1.21.6)\n",
            "Requirement already satisfied: joblib>=0.11 in /usr/local/lib/python3.8/dist-packages (from imbalanced-learn) (1.2.0)\n",
            "Requirement already satisfied: scikit-learn>=0.24 in /usr/local/lib/python3.8/dist-packages (from imbalanced-learn) (1.0.2)\n",
            "Requirement already satisfied: scipy>=0.19.1 in /usr/local/lib/python3.8/dist-packages (from imbalanced-learn) (1.7.3)\n",
            "Requirement already satisfied: threadpoolctl>=2.0.0 in /usr/local/lib/python3.8/dist-packages (from scikit-learn>=0.24->imbalanced-learn) (3.1.0)\n",
            "Looking in indexes: https://pypi.org/simple, https://us-python.pkg.dev/colab-wheels/public/simple/\n",
            "Requirement already satisfied: ipywidgets in /usr/local/lib/python3.8/dist-packages (7.7.1)\n",
            "Requirement already satisfied: ipykernel>=4.5.1 in /usr/local/lib/python3.8/dist-packages (from ipywidgets) (5.3.4)\n",
            "Requirement already satisfied: widgetsnbextension~=3.6.0 in /usr/local/lib/python3.8/dist-packages (from ipywidgets) (3.6.1)\n",
            "Requirement already satisfied: ipython-genutils~=0.2.0 in /usr/local/lib/python3.8/dist-packages (from ipywidgets) (0.2.0)\n",
            "Requirement already satisfied: ipython>=4.0.0 in /usr/local/lib/python3.8/dist-packages (from ipywidgets) (7.9.0)\n",
            "Requirement already satisfied: jupyterlab-widgets>=1.0.0 in /usr/local/lib/python3.8/dist-packages (from ipywidgets) (3.0.5)\n",
            "Requirement already satisfied: traitlets>=4.3.1 in /usr/local/lib/python3.8/dist-packages (from ipywidgets) (5.7.1)\n",
            "Requirement already satisfied: jupyter-client in /usr/local/lib/python3.8/dist-packages (from ipykernel>=4.5.1->ipywidgets) (6.1.12)\n",
            "Requirement already satisfied: tornado>=4.2 in /usr/local/lib/python3.8/dist-packages (from ipykernel>=4.5.1->ipywidgets) (6.0.4)\n",
            "Requirement already satisfied: prompt-toolkit<2.1.0,>=2.0.0 in /usr/local/lib/python3.8/dist-packages (from ipython>=4.0.0->ipywidgets) (2.0.10)\n",
            "Requirement already satisfied: jedi>=0.10 in /usr/local/lib/python3.8/dist-packages (from ipython>=4.0.0->ipywidgets) (0.18.2)\n",
            "Requirement already satisfied: pickleshare in /usr/local/lib/python3.8/dist-packages (from ipython>=4.0.0->ipywidgets) (0.7.5)\n",
            "Requirement already satisfied: pexpect in /usr/local/lib/python3.8/dist-packages (from ipython>=4.0.0->ipywidgets) (4.8.0)\n",
            "Requirement already satisfied: setuptools>=18.5 in /usr/local/lib/python3.8/dist-packages (from ipython>=4.0.0->ipywidgets) (57.4.0)\n",
            "Requirement already satisfied: decorator in /usr/local/lib/python3.8/dist-packages (from ipython>=4.0.0->ipywidgets) (4.4.2)\n",
            "Requirement already satisfied: backcall in /usr/local/lib/python3.8/dist-packages (from ipython>=4.0.0->ipywidgets) (0.2.0)\n",
            "Requirement already satisfied: pygments in /usr/local/lib/python3.8/dist-packages (from ipython>=4.0.0->ipywidgets) (2.6.1)\n",
            "Requirement already satisfied: notebook>=4.4.1 in /usr/local/lib/python3.8/dist-packages (from widgetsnbextension~=3.6.0->ipywidgets) (5.7.16)\n",
            "Requirement already satisfied: parso<0.9.0,>=0.8.0 in /usr/local/lib/python3.8/dist-packages (from jedi>=0.10->ipython>=4.0.0->ipywidgets) (0.8.3)\n",
            "Requirement already satisfied: pyzmq>=17 in /usr/local/lib/python3.8/dist-packages (from notebook>=4.4.1->widgetsnbextension~=3.6.0->ipywidgets) (23.2.1)\n",
            "Requirement already satisfied: nbconvert<6.0 in /usr/local/lib/python3.8/dist-packages (from notebook>=4.4.1->widgetsnbextension~=3.6.0->ipywidgets) (5.6.1)\n",
            "Requirement already satisfied: nbformat in /usr/local/lib/python3.8/dist-packages (from notebook>=4.4.1->widgetsnbextension~=3.6.0->ipywidgets) (5.7.3)\n",
            "Requirement already satisfied: terminado>=0.8.1 in /usr/local/lib/python3.8/dist-packages (from notebook>=4.4.1->widgetsnbextension~=3.6.0->ipywidgets) (0.13.3)\n",
            "Requirement already satisfied: prometheus-client in /usr/local/lib/python3.8/dist-packages (from notebook>=4.4.1->widgetsnbextension~=3.6.0->ipywidgets) (0.16.0)\n",
            "Requirement already satisfied: jinja2<=3.0.0 in /usr/local/lib/python3.8/dist-packages (from notebook>=4.4.1->widgetsnbextension~=3.6.0->ipywidgets) (2.11.3)\n",
            "Requirement already satisfied: Send2Trash in /usr/local/lib/python3.8/dist-packages (from notebook>=4.4.1->widgetsnbextension~=3.6.0->ipywidgets) (1.8.0)\n",
            "Requirement already satisfied: jupyter-core>=4.4.0 in /usr/local/lib/python3.8/dist-packages (from notebook>=4.4.1->widgetsnbextension~=3.6.0->ipywidgets) (5.2.0)\n",
            "Requirement already satisfied: python-dateutil>=2.1 in /usr/local/lib/python3.8/dist-packages (from jupyter-client->ipykernel>=4.5.1->ipywidgets) (2.8.2)\n",
            "Requirement already satisfied: six>=1.9.0 in /usr/local/lib/python3.8/dist-packages (from prompt-toolkit<2.1.0,>=2.0.0->ipython>=4.0.0->ipywidgets) (1.15.0)\n",
            "Requirement already satisfied: wcwidth in /usr/local/lib/python3.8/dist-packages (from prompt-toolkit<2.1.0,>=2.0.0->ipython>=4.0.0->ipywidgets) (0.2.6)\n",
            "Requirement already satisfied: ptyprocess>=0.5 in /usr/local/lib/python3.8/dist-packages (from pexpect->ipython>=4.0.0->ipywidgets) (0.7.0)\n",
            "Requirement already satisfied: MarkupSafe>=0.23 in /usr/local/lib/python3.8/dist-packages (from jinja2<=3.0.0->notebook>=4.4.1->widgetsnbextension~=3.6.0->ipywidgets) (2.0.1)\n",
            "Requirement already satisfied: platformdirs>=2.5 in /usr/local/lib/python3.8/dist-packages (from jupyter-core>=4.4.0->notebook>=4.4.1->widgetsnbextension~=3.6.0->ipywidgets) (2.6.2)\n",
            "Requirement already satisfied: bleach in /usr/local/lib/python3.8/dist-packages (from nbconvert<6.0->notebook>=4.4.1->widgetsnbextension~=3.6.0->ipywidgets) (6.0.0)\n",
            "Requirement already satisfied: testpath in /usr/local/lib/python3.8/dist-packages (from nbconvert<6.0->notebook>=4.4.1->widgetsnbextension~=3.6.0->ipywidgets) (0.6.0)\n",
            "Requirement already satisfied: pandocfilters>=1.4.1 in /usr/local/lib/python3.8/dist-packages (from nbconvert<6.0->notebook>=4.4.1->widgetsnbextension~=3.6.0->ipywidgets) (1.5.0)\n",
            "Requirement already satisfied: defusedxml in /usr/local/lib/python3.8/dist-packages (from nbconvert<6.0->notebook>=4.4.1->widgetsnbextension~=3.6.0->ipywidgets) (0.7.1)\n",
            "Requirement already satisfied: mistune<2,>=0.8.1 in /usr/local/lib/python3.8/dist-packages (from nbconvert<6.0->notebook>=4.4.1->widgetsnbextension~=3.6.0->ipywidgets) (0.8.4)\n",
            "Requirement already satisfied: entrypoints>=0.2.2 in /usr/local/lib/python3.8/dist-packages (from nbconvert<6.0->notebook>=4.4.1->widgetsnbextension~=3.6.0->ipywidgets) (0.4)\n",
            "Requirement already satisfied: fastjsonschema in /usr/local/lib/python3.8/dist-packages (from nbformat->notebook>=4.4.1->widgetsnbextension~=3.6.0->ipywidgets) (2.16.2)\n",
            "Requirement already satisfied: jsonschema>=2.6 in /usr/local/lib/python3.8/dist-packages (from nbformat->notebook>=4.4.1->widgetsnbextension~=3.6.0->ipywidgets) (4.3.3)\n",
            "Requirement already satisfied: importlib-resources>=1.4.0 in /usr/local/lib/python3.8/dist-packages (from jsonschema>=2.6->nbformat->notebook>=4.4.1->widgetsnbextension~=3.6.0->ipywidgets) (5.10.2)\n",
            "Requirement already satisfied: attrs>=17.4.0 in /usr/local/lib/python3.8/dist-packages (from jsonschema>=2.6->nbformat->notebook>=4.4.1->widgetsnbextension~=3.6.0->ipywidgets) (22.2.0)\n",
            "Requirement already satisfied: pyrsistent!=0.17.0,!=0.17.1,!=0.17.2,>=0.14.0 in /usr/local/lib/python3.8/dist-packages (from jsonschema>=2.6->nbformat->notebook>=4.4.1->widgetsnbextension~=3.6.0->ipywidgets) (0.19.3)\n",
            "Requirement already satisfied: webencodings in /usr/local/lib/python3.8/dist-packages (from bleach->nbconvert<6.0->notebook>=4.4.1->widgetsnbextension~=3.6.0->ipywidgets) (0.5.1)\n",
            "Requirement already satisfied: zipp>=3.1.0 in /usr/local/lib/python3.8/dist-packages (from importlib-resources>=1.4.0->jsonschema>=2.6->nbformat->notebook>=4.4.1->widgetsnbextension~=3.6.0->ipywidgets) (3.12.0)\n"
          ]
        }
      ],
      "source": [
        "!pip install imbalanced-learn\n",
        "!pip install ipywidgets\n",
        "\n",
        "from sklearn.model_selection import train_test_split\n",
        "from sklearn.preprocessing import StandardScaler\n",
        "from sklearn.preprocessing import MinMaxScaler\n",
        "from imblearn.over_sampling import SMOTE\n",
        "import ipywidgets as widgets\n",
        "from joblib import Parallel, delayed\n",
        "from google.colab import files\n",
        "import joblib\n",
        "import numpy as np\n",
        "import pandas as pd\n",
        "from sklearn.metrics import classification_report, confusion_matrix, accuracy_score\n",
        "\n",
        "\n",
        "def dataset_balance(X_temp, y_temp):\n",
        "  smote = SMOTE()\n",
        "  X_temp, y_temp= smote.fit_resample(X_temp, y_temp)\n",
        "  return pd.concat([pd.DataFrame(X_temp), pd.DataFrame(y_temp)], axis=1)\n",
        "\n",
        "\n",
        "def Xy_balance(X_temp, y_temp):\n",
        "  smote = SMOTE()\n",
        "  return smote.fit_resample(X_temp, y_temp)\n",
        "\n",
        "\n",
        "def save_model(model,model_name):\n",
        " joblib.dump(model, model_name)\n",
        "  \n",
        "\n",
        "def load_model(model_name):\n",
        "  return joblib.load(model_name)\n",
        "\n",
        "\n",
        "def Search_Null(dataset):\n",
        "  dic={}\n",
        "  for col in list(dataset.columns):\n",
        "    rows = []\n",
        "    flage = 0\n",
        "    for row in range(dataset.shape[0]):\n",
        "      if str(dataset[col][row]) == \"nan\":\n",
        "        rows.append(row)\n",
        "        flage = 1\n",
        "    if flage ==1:\n",
        "      dic[col] = rows\n",
        "  return dic\n",
        "\n",
        "\n",
        "\n",
        "def divide_dataset(dataset,percentage,random_state = 0):\n",
        "  rows,cols = dataset.shape\n",
        "  if random_state == 0:\n",
        "    return dataset.iloc[:int(rows*(percentage)),:]\n",
        "  else:\n",
        "    import random\n",
        "    l_r = random.sample(range(0, rows), int(rows*(percentage)))\n",
        "    return dataset.iloc[l_r,:]\n",
        "\n",
        "\n",
        "\n",
        "def StandardScaleData(data):\n",
        "  scaler = StandardScaler()\n",
        "  scaler.fit(data)\n",
        "  return  scaler.transform(data)\n",
        "\n",
        "\n",
        "\n",
        "def MinMaxScaleData(data):\n",
        "  scaler = MinMaxScaler()\n",
        "  scaler.fit(data)\n",
        "  return scaler.transform(data)\n",
        "\n",
        "\n",
        "def tune_report_csv(model,dic,feat_selection_method,number_of_feat):\n",
        "\n",
        "  tunning_type = []\n",
        "  accuracy = []\n",
        "  scaled_accuracy = []\n",
        "  model_name = []\n",
        "  feature_selection_method = []\n",
        "  number_of_features = []\n",
        "\n",
        "  li = [\"Smote : NO    ; Scaling : Train(Standard)\",\n",
        "      \"Smote : NO    ; Scaling : Train(MinMax)\",\n",
        "      \"Smote : Train ; Scaling : Train(Standard)\",\n",
        "      \"Smote : Train ; Scaling : Train(MinMax)\",\n",
        "      \"Smote : All   ; Scaling : Train(Standard)\",\n",
        "      \"Smote : All   ; Scaling : Train(MinMax)\"]\n",
        "\n",
        "  for i in list(dic.keys()):\n",
        "    X_train, X_test, y_train, y_test = dic[i]\n",
        "    \n",
        "    if i in li and str(model[:3]) == \"xgb\":\n",
        "      model.fit(X_train,y_train.values)\n",
        "      y_pred = model.predict(X_test.values)\n",
        "    else:\n",
        "      model.fit(X_train,y_train)\n",
        "      y_pred = model.predict(X_test)\n",
        "\n",
        "    accu =accuracy_score(y_test, y_pred)\n",
        "    scaled_accu =  float(\"{:.2f}\".format(accu))\n",
        "    print(i)\n",
        "    print(\"Accurecy: \",scaled_accu)\n",
        "    tunning_type.append(i)\n",
        "    accuracy.append(accu)\n",
        "    scaled_accuracy.append(scaled_accu)\n",
        "    model_name.append(model)\n",
        "    feature_selection_method.append(feat_selection_method)\n",
        "    number_of_features.append(number_of_feat)\n",
        "    \n",
        "    print(\"------------------------------------------------------------------------------\")\n",
        "    print(\"------------------------------------------------------------------------------\")\n",
        "\n",
        "  csv_dic={\n",
        "      \"model_name\"  : model_name,\n",
        "      \"tunning_type\" : tunning_type,\n",
        "      \"accurecy\"    : accuracy, \n",
        "      \"scaled_accuracy\" :scaled_accuracy,\n",
        "      \"feature_selection_method\" : feature_selection_method,\n",
        "      \"number_of_features\" : number_of_features\n",
        "  }\n",
        "\n",
        "\n",
        "  df = pd.DataFrame.from_dict(csv_dic)\n",
        "  df.to_csv(\"/content/drive/MyDrive/Sleep Stage 5 class/Features_selection_result/\"+feat_selection_method+\"_\"+str(number_of_feat)+\"_\"+str(model)+\".csv\",index = False)\n",
        "  return \"Tunning Data Report is Secured for this phase!!!\"\n"
      ]
    },
    {
      "cell_type": "markdown",
      "metadata": {
        "id": "A1B_8Nsw9-1Q"
      },
      "source": [
        "#Starting"
      ]
    },
    {
      "cell_type": "code",
      "execution_count": 27,
      "metadata": {
        "colab": {
          "base_uri": "https://localhost:8080/"
        },
        "id": "Om8npCtFM67e",
        "outputId": "459e6c82-7b81-42b9-babc-8f0f102106b1"
      },
      "outputs": [
        {
          "output_type": "stream",
          "name": "stdout",
          "text": [
            "(108920, 52)\n",
            "(108450, 52)\n"
          ]
        }
      ],
      "source": [
        "dataset = pd.read_csv(\"/content/drive/MyDrive/Sleep Stage 5 class/EEG_HMC_FeatureExtraction_2023.01.19.csv\")\n",
        "print(dataset.shape)\n",
        "dataset.dropna(axis = 0,how='any', inplace = True)\n",
        "dataset = dataset.reset_index(drop = True)\n",
        "\"\"\"df.to_csv(\"New_EEG_NullValueRemoved_HMC.csv\",index = False)\n",
        "dataset = pd.read_csv(\"New_EEG_NullValueRemoved_HMC.csv\")\"\"\"\n",
        "target = \"Sleep Stage\"\n",
        "result = {}\n",
        "print(dataset.shape)\n",
        "\n",
        "#Encoding\n",
        "from sklearn.preprocessing import LabelEncoder\n",
        "encoder=LabelEncoder()\n",
        "dataset[target]=encoder.fit_transform(dataset[target])\n",
        "\n",
        "#dataset = divide_dataset(dataset,0.04611,1)\n",
        "#print(dataset.shape)"
      ]
    },
    {
      "cell_type": "markdown",
      "metadata": {
        "id": "TXMKr8bi2JnW"
      },
      "source": [
        "###Spliting into X and y"
      ]
    },
    {
      "cell_type": "code",
      "execution_count": 28,
      "metadata": {
        "id": "tIf-rcIB11o1",
        "colab": {
          "base_uri": "https://localhost:8080/"
        },
        "outputId": "f18a1d41-ba63-4e4b-cb6b-fad2feb0b141"
      },
      "outputs": [
        {
          "output_type": "stream",
          "name": "stdout",
          "text": [
            "<class 'pandas.core.frame.DataFrame'>\n",
            "RangeIndex: 108450 entries, 0 to 108449\n",
            "Data columns (total 49 columns):\n",
            " #   Column                   Non-Null Count   Dtype  \n",
            "---  ------                   --------------   -----  \n",
            " 0   MeanP_Alpha_F4           108450 non-null  float64\n",
            " 1   MeanP_Beta_F4            108450 non-null  float64\n",
            " 2   MeanP_Theta_F4           108450 non-null  float64\n",
            " 3   MeanP_Delta_F4           108450 non-null  float64\n",
            " 4   MeanP_Gamma_F4           108450 non-null  float64\n",
            " 5   MeanP_Alpha_C4           108450 non-null  float64\n",
            " 6   MeanP_Beta_C4            108450 non-null  float64\n",
            " 7   MeanP_Theta_C4           108450 non-null  float64\n",
            " 8   MeanP_Delta_C4           108450 non-null  float64\n",
            " 9   MeanP_Gamma_C4           108450 non-null  float64\n",
            " 10  MeanP_Alpha_O2           108450 non-null  float64\n",
            " 11  MeanP_Beta_O2            108450 non-null  float64\n",
            " 12  MeanP_Theta_O2           108450 non-null  float64\n",
            " 13  MeanP_Delta_O2           108450 non-null  float64\n",
            " 14  MeanP_Gamma_O2           108450 non-null  float64\n",
            " 15  Total_P_F4               108450 non-null  float64\n",
            " 16  Total_P_C4               108450 non-null  float64\n",
            " 17  Total_P_O2               108450 non-null  float64\n",
            " 18  Relative_MeanP_Alpha_F4  108450 non-null  float64\n",
            " 19  Relative_MeanP_Beta_F4   108450 non-null  float64\n",
            " 20  Relative_MeanP_Theta_F4  108450 non-null  float64\n",
            " 21  Relative_MeanP_Delta_F4  108450 non-null  float64\n",
            " 22  Relative_MeanP_Gamma_F4  108450 non-null  float64\n",
            " 23  Relative_MeanP_Alpha_C4  108450 non-null  float64\n",
            " 24  Relative_MeanP_Beta_C4   108450 non-null  float64\n",
            " 25  Relative_MeanP_Theta_C4  108450 non-null  float64\n",
            " 26  Relative_MeanP_Delta_C4  108450 non-null  float64\n",
            " 27  Relative_MeanP_Gamma_C4  108450 non-null  float64\n",
            " 28  Relative_MeanP_Alpha_O2  108450 non-null  float64\n",
            " 29  Relative_MeanP_Beta_O2   108450 non-null  float64\n",
            " 30  Relative_MeanP_Theta_O2  108450 non-null  float64\n",
            " 31  Relative_MeanP_Delta_O2  108450 non-null  float64\n",
            " 32  Relative_MeanP_Gamma_O2  108450 non-null  float64\n",
            " 33  Relative_MeanP_Alpha_G   108450 non-null  float64\n",
            " 34  Relative_MeanP_Beta_G    108450 non-null  float64\n",
            " 35  Relative_MeanP_Theta_G   108450 non-null  float64\n",
            " 36  Relative_MeanP_Delta_G   108450 non-null  float64\n",
            " 37  Relative_MeanP_Gamma_G   108450 non-null  float64\n",
            " 38  DAR_F4                   108450 non-null  float64\n",
            " 39  DAR_C4                   108450 non-null  float64\n",
            " 40  DAR_O2                   108450 non-null  float64\n",
            " 41  DAR_G                    108450 non-null  float64\n",
            " 42  DTR_F4                   108450 non-null  float64\n",
            " 43  DTR_O2                   108450 non-null  float64\n",
            " 44  DTABR_F4                 108450 non-null  float64\n",
            " 45  DTABR_C4                 108450 non-null  float64\n",
            " 46  DTABR_O2                 108450 non-null  float64\n",
            " 47  DTABR_G                  108450 non-null  float64\n",
            " 48  P_G                      108450 non-null  float64\n",
            "dtypes: float64(49)\n",
            "memory usage: 40.5 MB\n"
          ]
        }
      ],
      "source": [
        "X =  dataset.loc[:,dataset.columns != target]  # removing Sleep Stage\n",
        "X =  X.loc[:,X.columns != \"Subject\"]            # removing Status\n",
        "X =  X.loc[:,X.columns != \"Epoch\"]             # removing Epoch\n",
        "y = dataset[target]\n",
        "X.info()"
      ]
    },
    {
      "cell_type": "markdown",
      "metadata": {
        "id": "FZLedhGD91Cv"
      },
      "source": [
        "#Feature Selection"
      ]
    },
    {
      "cell_type": "code",
      "execution_count": 29,
      "metadata": {
        "id": "V1m6UgTv92XU"
      },
      "outputs": [],
      "source": [
        "number_of_feat = 35"
      ]
    },
    {
      "cell_type": "markdown",
      "metadata": {
        "id": "XkC7pB1v-Gsp"
      },
      "source": [
        "###ANOVA with f classifciation"
      ]
    },
    {
      "cell_type": "code",
      "execution_count": 6,
      "metadata": {
        "id": "Rafbj3rl-GWZ"
      },
      "outputs": [],
      "source": [
        "from sklearn.datasets import make_classification\n",
        "from sklearn.feature_selection import SelectKBest\n",
        "from sklearn.feature_selection import f_classif\n",
        "import pandas as pd\n",
        "\n",
        "\n",
        "\n",
        "fs = SelectKBest(score_func=f_classif, k=5)\n",
        "fit = fs.fit(X,y)\n",
        "dfscores = pd.DataFrame(fit.scores_)\n",
        "dfcolumns = pd.DataFrame(X.columns)\n",
        "\n",
        "featureScores = pd.concat([dfcolumns,dfscores],axis=1)\n",
        "\n",
        "featureScores.columns = ['Best_columns','Score_ANOVA'] \n",
        "\n",
        "lyst = featureScores.nlargest(number_of_feat,'Score_ANOVA')\n",
        "\n",
        "#lyst.to_csv('Filter_Method_ANOVA_with_f_classif.csv')\n",
        "\n",
        "list_of_feat = list(lyst[\"Best_columns\"])\n",
        "selection_method = \"ANOVA\""
      ]
    },
    {
      "cell_type": "markdown",
      "metadata": {
        "id": "xCkHXMQQ-PoJ"
      },
      "source": [
        "###Embedded Method"
      ]
    },
    {
      "cell_type": "code",
      "execution_count": null,
      "metadata": {
        "id": "PZJcRlL7-So6",
        "colab": {
          "base_uri": "https://localhost:8080/"
        },
        "outputId": "a278789a-4e07-472c-ee52-bcc3047975f3"
      },
      "outputs": [
        {
          "output_type": "stream",
          "name": "stdout",
          "text": [
            "Best alpha using built-in LassoCV: 1664496.378245\n",
            "Best score using built-in LassoCV: 0.000418\n",
            "Lasso picked 4 variables and eliminated the other 45 variables\n"
          ]
        }
      ],
      "source": [
        "from sklearn.linear_model import LassoCV\n",
        "reg = LassoCV()\n",
        "reg.fit(X, y)\n",
        "print(\"Best alpha using built-in LassoCV: %f\" % reg.alpha_)\n",
        "print(\"Best score using built-in LassoCV: %f\" %reg.score(X,y))\n",
        "coef = pd.Series(reg.coef_, index = X.columns)\n",
        "\n",
        "print(\"Lasso picked \" + str(sum(coef != 0)) + \" variables and eliminated the other \" +  str(sum(coef == 0)) + \" variables\")\n",
        "\n",
        "imp_coef = coef.sort_values()\n",
        "\n",
        "list_of_feat=[]\n",
        "\n",
        "\n",
        "for i in range(coef.shape[0]):\n",
        "  if coef[i]!=0:\n",
        "    list_of_feat.append(dataset.iloc[:0,i+3].name)\n",
        "    \n",
        "df = pd.DataFrame(list_of_feat, columns=['Best_Features'])\n",
        "\n",
        "#df.to_csv(\"Embedded_Method.csv\")\n",
        "\n",
        "list_of_feat = list(df[\"Best_Features\"])\n",
        "if number_of_feat < len(list_of_feat):\n",
        "  list_of_feat = list_of_feat[:number_of_feat]\n",
        "selection_method = \"Embedded\""
      ]
    },
    {
      "cell_type": "markdown",
      "metadata": {
        "id": "rrR11h2K-aJn"
      },
      "source": [
        "###Pearson's with f regression"
      ]
    },
    {
      "cell_type": "code",
      "execution_count": 30,
      "metadata": {
        "id": "qH6yDZiP-a9K"
      },
      "outputs": [],
      "source": [
        "from sklearn.datasets import make_regression\n",
        "from sklearn.feature_selection import SelectKBest\n",
        "from sklearn.feature_selection import f_regression\n",
        "import pandas as pd\n",
        "\n",
        "\n",
        "fs = SelectKBest(score_func=f_regression, k=5)\n",
        "fit = fs.fit(X,y)\n",
        "\n",
        "dfscores = pd.DataFrame(fit.scores_)\n",
        "dfcolumns = pd.DataFrame(X.columns)\n",
        "featureScores = pd.concat([dfcolumns,dfscores],axis=1)\n",
        "\n",
        "featureScores.columns = ['Best_columns','Score_pearsons'] \n",
        "\n",
        "\n",
        "lyst = featureScores.nlargest(number_of_feat,'Score_pearsons')\n",
        "\n",
        "#lyst.to_csv('Filter_Method_Pearson’s_with_f_regression.csv')\n",
        "\n",
        "list_of_feat = list(lyst[\"Best_columns\"])\n",
        "selection_method = \"Pearson\""
      ]
    },
    {
      "cell_type": "markdown",
      "metadata": {
        "id": "85wbxGFW-kGZ"
      },
      "source": [
        "###Sequential Feature Selection"
      ]
    },
    {
      "cell_type": "code",
      "execution_count": null,
      "metadata": {
        "id": "MtP9AHew-k1i"
      },
      "outputs": [],
      "source": [
        "from sklearn.feature_selection import SequentialFeatureSelector\n",
        "from sklearn.neighbors import KNeighborsClassifier\n",
        "knn = KNeighborsClassifier(n_neighbors=3)\n",
        "sfs = SequentialFeatureSelector(knn, n_features_to_select=number_of_feat)\n",
        "sfs.fit(X, y)\n",
        "list_of_feat=[]\n",
        "list_of_feat=list(sfs.get_feature_names_out(X.columns))\n",
        "\n",
        "df = pd.DataFrame(list_of_feat, columns=['Best_Features'])\n",
        "\n",
        "#df.to_csv(\"Filter_Method_Sequential_feat_Selection_KNN.csv\")\n",
        "\n",
        "list_of_feat = list(df[\"Best_Features\"])\n",
        "if number_of_feat < len(list_of_feat):\n",
        "  list_of_feat = list_of_feat[:number_of_feat]\n",
        "\n",
        "selection_method = \"Sequential\""
      ]
    },
    {
      "cell_type": "markdown",
      "metadata": {
        "id": "YAQ71nBV-p7E"
      },
      "source": [
        "#Feature list"
      ]
    },
    {
      "cell_type": "code",
      "source": [
        "X=dataset[list_of_feat]\n",
        "y=dataset[target]\n",
        "print(X.shape)"
      ],
      "metadata": {
        "colab": {
          "base_uri": "https://localhost:8080/"
        },
        "id": "PllEtT-oHVK5",
        "outputId": "114cb59b-a83e-48d9-f189-a1be28f93027"
      },
      "execution_count": 31,
      "outputs": [
        {
          "output_type": "stream",
          "name": "stdout",
          "text": [
            "(108450, 35)\n"
          ]
        }
      ]
    },
    {
      "cell_type": "code",
      "source": [
        "X.info()"
      ],
      "metadata": {
        "colab": {
          "base_uri": "https://localhost:8080/"
        },
        "id": "E0qi_3g9wKVu",
        "outputId": "0b6a6852-0815-4256-db8b-cdadcbda7ccb"
      },
      "execution_count": 32,
      "outputs": [
        {
          "output_type": "stream",
          "name": "stdout",
          "text": [
            "<class 'pandas.core.frame.DataFrame'>\n",
            "RangeIndex: 108450 entries, 0 to 108449\n",
            "Data columns (total 35 columns):\n",
            " #   Column                   Non-Null Count   Dtype  \n",
            "---  ------                   --------------   -----  \n",
            " 0   Relative_MeanP_Beta_C4   108450 non-null  float64\n",
            " 1   Relative_MeanP_Beta_G    108450 non-null  float64\n",
            " 2   Relative_MeanP_Beta_O2   108450 non-null  float64\n",
            " 3   Relative_MeanP_Beta_F4   108450 non-null  float64\n",
            " 4   Relative_MeanP_Delta_C4  108450 non-null  float64\n",
            " 5   Relative_MeanP_Alpha_O2  108450 non-null  float64\n",
            " 6   Relative_MeanP_Delta_G   108450 non-null  float64\n",
            " 7   Relative_MeanP_Alpha_C4  108450 non-null  float64\n",
            " 8   Relative_MeanP_Alpha_G   108450 non-null  float64\n",
            " 9   Relative_MeanP_Delta_O2  108450 non-null  float64\n",
            " 10  Relative_MeanP_Delta_F4  108450 non-null  float64\n",
            " 11  Relative_MeanP_Alpha_F4  108450 non-null  float64\n",
            " 12  Relative_MeanP_Gamma_F4  108450 non-null  float64\n",
            " 13  MeanP_Delta_O2           108450 non-null  float64\n",
            " 14  MeanP_Beta_F4            108450 non-null  float64\n",
            " 15  Relative_MeanP_Gamma_C4  108450 non-null  float64\n",
            " 16  Relative_MeanP_Gamma_G   108450 non-null  float64\n",
            " 17  Total_P_O2               108450 non-null  float64\n",
            " 18  MeanP_Delta_F4           108450 non-null  float64\n",
            " 19  Total_P_F4               108450 non-null  float64\n",
            " 20  MeanP_Beta_O2            108450 non-null  float64\n",
            " 21  MeanP_Delta_C4           108450 non-null  float64\n",
            " 22  P_G                      108450 non-null  float64\n",
            " 23  MeanP_Alpha_O2           108450 non-null  float64\n",
            " 24  MeanP_Theta_O2           108450 non-null  float64\n",
            " 25  DTR_O2                   108450 non-null  float64\n",
            " 26  Relative_MeanP_Theta_O2  108450 non-null  float64\n",
            " 27  MeanP_Alpha_F4           108450 non-null  float64\n",
            " 28  MeanP_Theta_F4           108450 non-null  float64\n",
            " 29  MeanP_Alpha_C4           108450 non-null  float64\n",
            " 30  DTR_F4                   108450 non-null  float64\n",
            " 31  MeanP_Theta_C4           108450 non-null  float64\n",
            " 32  Relative_MeanP_Gamma_O2  108450 non-null  float64\n",
            " 33  MeanP_Gamma_F4           108450 non-null  float64\n",
            " 34  Total_P_C4               108450 non-null  float64\n",
            "dtypes: float64(35)\n",
            "memory usage: 29.0 MB\n"
          ]
        }
      ]
    },
    {
      "cell_type": "markdown",
      "source": [
        "#Tunning for Scalling and Data Balancing"
      ],
      "metadata": {
        "id": "D_JvHx9vH9uj"
      }
    },
    {
      "cell_type": "markdown",
      "source": [
        "##Smote : NO\n",
        "##Scaling : NO"
      ],
      "metadata": {
        "id": "ZON5Lja3IgmX"
      }
    },
    {
      "cell_type": "code",
      "source": [
        "def tune_1():\n",
        "  X_new = X\n",
        "  y_new = y\n",
        "  return train_test_split(X_new, y_new, test_size = 0.2, random_state = 0)"
      ],
      "metadata": {
        "id": "eKyCe2mWINsz"
      },
      "execution_count": 33,
      "outputs": []
    },
    {
      "cell_type": "markdown",
      "source": [
        "##Smote : NO\n",
        "##Scaling : All Data (Standard)"
      ],
      "metadata": {
        "id": "SIo5zjE7IygQ"
      }
    },
    {
      "cell_type": "code",
      "source": [
        "def tune_2():\n",
        "  X_new = StandardScaleData(X)\n",
        "  y_new = y\n",
        "  return train_test_split(X_new, y_new, test_size = 0.2, random_state = 0)"
      ],
      "metadata": {
        "id": "4mo8T61ZJKCm"
      },
      "execution_count": 34,
      "outputs": []
    },
    {
      "cell_type": "markdown",
      "source": [
        "##Smote : NO\n",
        "##Scaling : All Data (MinMax)"
      ],
      "metadata": {
        "id": "w8nhK0R1I754"
      }
    },
    {
      "cell_type": "code",
      "source": [
        "def tune_3():\n",
        "  X_new = MinMaxScaleData(X)\n",
        "  y_new = y\n",
        "  return train_test_split(X_new, y_new, test_size = 0.2, random_state = 0)"
      ],
      "metadata": {
        "id": "nXhPKzRfJKwL"
      },
      "execution_count": 35,
      "outputs": []
    },
    {
      "cell_type": "markdown",
      "source": [
        "##Smote : NO\n",
        "##Scaling : Train (Stadard)"
      ],
      "metadata": {
        "id": "jENNmiyhJHz5"
      }
    },
    {
      "cell_type": "code",
      "source": [
        "def tune_4():\n",
        "  X_new = X\n",
        "  y_new = y\n",
        "  X_train, X_test, y_train, y_test = train_test_split(X_new, y_new, test_size = 0.2, random_state = 0)\n",
        "  X_train = StandardScaleData(X_train)\n",
        "  return X_train, X_test, y_train, y_test"
      ],
      "metadata": {
        "id": "W-SONiQJJisq"
      },
      "execution_count": 36,
      "outputs": []
    },
    {
      "cell_type": "markdown",
      "source": [
        "##Smote : NO\n",
        "##Scaling : Train (MinMax)"
      ],
      "metadata": {
        "id": "80s0imm4Jlow"
      }
    },
    {
      "cell_type": "code",
      "source": [
        "\n",
        "def tune_5():\n",
        "  X_new = X\n",
        "  y_new = y\n",
        "  X_train, X_test, y_train, y_test = train_test_split(X_new, y_new, test_size = 0.2, random_state = 0)\n",
        "  X_train = MinMaxScaleData(X_train)\n",
        "  return X_train, X_test, y_train, y_test"
      ],
      "metadata": {
        "id": "m994BnU1Jpdz"
      },
      "execution_count": 37,
      "outputs": []
    },
    {
      "cell_type": "markdown",
      "source": [
        "##Smote : ALL\n",
        "##Scaling : NO"
      ],
      "metadata": {
        "id": "AK88Z5f_Jo66"
      }
    },
    {
      "cell_type": "code",
      "source": [
        "\n",
        "def tune_6():\n",
        "  X_new,y_new = Xy_balance(X,y)\n",
        "  return train_test_split(X_new, y_new, test_size = 0.2, random_state = 0)\n"
      ],
      "metadata": {
        "id": "tp9qRMpgKcIc"
      },
      "execution_count": 38,
      "outputs": []
    },
    {
      "cell_type": "markdown",
      "source": [
        "##Smote : Train\n",
        "##Scaling : NO"
      ],
      "metadata": {
        "id": "00MAoDtaKcxo"
      }
    },
    {
      "cell_type": "code",
      "source": [
        "\n",
        "def tune_7():\n",
        "  X_new = X\n",
        "  y_new = y\n",
        "  X_train, X_test, y_train, y_test = train_test_split(X_new, y_new, test_size = 0.2, random_state = 0)\n",
        "  X_train,y_train = Xy_balance(X_train,y_train)\n",
        "  return X_train, X_test, y_train, y_test\n"
      ],
      "metadata": {
        "id": "nIzsgHkSKgrU"
      },
      "execution_count": 39,
      "outputs": []
    },
    {
      "cell_type": "markdown",
      "source": [
        "##Smote : Train\n",
        "##Scaling : Train (Standard)"
      ],
      "metadata": {
        "id": "kojmHdSZKhBy"
      }
    },
    {
      "cell_type": "code",
      "source": [
        "def tune_8():\n",
        "  X_new = X\n",
        "  y_new = y\n",
        "  X_train, X_test, y_train, y_test = train_test_split(X_new, y_new, test_size = 0.2, random_state = 0)\n",
        "  X_train,y_train = Xy_balance(X_train,y_train)\n",
        "  X_train = StandardScaleData(X_train)\n",
        "  return X_train, X_test, y_train, y_test"
      ],
      "metadata": {
        "id": "VrY3vpP-Kvs-"
      },
      "execution_count": 40,
      "outputs": []
    },
    {
      "cell_type": "markdown",
      "source": [
        "##Smote : Train\n",
        "##Scaling : Train (MixMax)"
      ],
      "metadata": {
        "id": "7rX7q69eKwGB"
      }
    },
    {
      "cell_type": "code",
      "source": [
        "def tune_9():\n",
        "  X_new = X\n",
        "  y_new = y\n",
        "  X_train, X_test, y_train, y_test = train_test_split(X_new, y_new, test_size = 0.2, random_state = 0)\n",
        "  X_train,y_train = Xy_balance(X_train,y_train)\n",
        "  X_train = MinMaxScaleData(X_train)\n",
        "  return X_train, X_test, y_train, y_test"
      ],
      "metadata": {
        "id": "p7aoyjE6Qll9"
      },
      "execution_count": 41,
      "outputs": []
    },
    {
      "cell_type": "markdown",
      "source": [
        "##Smote : All\n",
        "##Scaling : Train (Standard)"
      ],
      "metadata": {
        "id": "lSWIB7piKzlI"
      }
    },
    {
      "cell_type": "code",
      "source": [
        "def tune_10():\n",
        "  X_new,y_new = Xy_balance(X,y)\n",
        "  X_train, X_test, y_train, y_test = train_test_split(X_new, y_new, test_size = 0.2, random_state = 0)\n",
        "  X_train = StandardScaleData(X_train)\n",
        "  return X_train, X_test, y_train, y_test "
      ],
      "metadata": {
        "id": "sa8IIKzeLKUj"
      },
      "execution_count": 42,
      "outputs": []
    },
    {
      "cell_type": "markdown",
      "source": [
        "##Smote : All\n",
        "##Scaling : Train (MixMax)"
      ],
      "metadata": {
        "id": "Z_0kWnD7LKzB"
      }
    },
    {
      "cell_type": "code",
      "source": [
        "def tune_11():\n",
        "  X_new,y_new = Xy_balance(X,y)\n",
        "  X_train, X_test, y_train, y_test = train_test_split(X_new, y_new, test_size = 0.2, random_state = 0)\n",
        "  X_train = MinMaxScaleData(X_train)\n",
        "  return X_train, X_test, y_train, y_test "
      ],
      "metadata": {
        "id": "RkauvB9HLN2H"
      },
      "execution_count": 43,
      "outputs": []
    },
    {
      "cell_type": "markdown",
      "source": [
        "##Smote : All\n",
        "##Scaling : All (Standard)"
      ],
      "metadata": {
        "id": "_hIY_DerLOWn"
      }
    },
    {
      "cell_type": "code",
      "source": [
        "def tune_12():\n",
        "  X_new,y_new = Xy_balance(X,y)\n",
        "  X_new = StandardScaleData(X_new)\n",
        "  return train_test_split(X_new, y_new, test_size = 0.2, random_state = 0)"
      ],
      "metadata": {
        "id": "lFrLXHWNLRp1"
      },
      "execution_count": 44,
      "outputs": []
    },
    {
      "cell_type": "markdown",
      "source": [
        "##Smote : All\n",
        "##Scaling : ALL (MinMax)"
      ],
      "metadata": {
        "id": "7HwOO1ijLYvE"
      }
    },
    {
      "cell_type": "code",
      "source": [
        "def tune_13():\n",
        "  X_new,y_new = Xy_balance(X,y)\n",
        "  X_new = MinMaxScaleData(X_new)\n",
        "  return train_test_split(X_new, y_new, test_size = 0.2, random_state = 0)"
      ],
      "metadata": {
        "id": "zpz5l64YLZ00"
      },
      "execution_count": 45,
      "outputs": []
    },
    {
      "cell_type": "markdown",
      "source": [
        "##Tunn Dictionary"
      ],
      "metadata": {
        "id": "tIBhslqzApW8"
      }
    },
    {
      "cell_type": "code",
      "source": [
        "tune_dic={\n",
        "  \"Smote : NO    ; Scaling : NO\"                  : tune_1(),\n",
        "  \"Smote : NO    ; Scaling : All Data(Standard)\"  : tune_2(),\n",
        "  \"Smote : NO    ; Scaling : All Data(MinMax)\"    : tune_3(),\n",
        "  #\"Smote : NO    ; Scaling : Train(Standard)\"     : tune_4(),\n",
        "  #\"Smote : NO    ; Scaling : Train(MinMax)\"       : tune_5(),\n",
        "  \"Smote : ALL   ; Scaling : NO\"                  : tune_6(),\n",
        "  \"Smote : Train ; Scaling : NO\"                  : tune_7(),\n",
        "  #\"Smote : Train ; Scaling : Train(Standard)\"     : tune_8(),\n",
        "  #\"Smote : Train ; Scaling : Train(MinMax)\"       : tune_9(),\n",
        "  #\"Smote : All   ; Scaling : Train(Standard)\"     : tune_10(),\n",
        "  #\"Smote : All   ; Scaling : Train(MinMax)\"       : tune_11(),\n",
        "  \"Smote : All   ; Scaling : All(Standard)\"       : tune_12(),\n",
        "  \"Smote : All   ; Scaling : All(MinMax)\"        : tune_13()\n",
        "}"
      ],
      "metadata": {
        "id": "7fPzUhPb7nb9"
      },
      "execution_count": 46,
      "outputs": []
    },
    {
      "cell_type": "markdown",
      "metadata": {
        "id": "bqYsoblRogp2"
      },
      "source": [
        "\n",
        "\n",
        "---\n",
        "\n"
      ]
    },
    {
      "cell_type": "markdown",
      "metadata": {
        "id": "IqElxazTzXxp"
      },
      "source": [
        "# **Training**"
      ]
    },
    {
      "cell_type": "markdown",
      "metadata": {
        "id": "jEe2R0yAoifa"
      },
      "source": [
        "##ADABOOST"
      ]
    },
    {
      "cell_type": "code",
      "execution_count": 47,
      "metadata": {
        "id": "Bz_yVJaXod8O",
        "colab": {
          "base_uri": "https://localhost:8080/",
          "height": 590
        },
        "outputId": "d0f08be0-5c4c-4b78-c53f-80525e5daebf"
      },
      "outputs": [
        {
          "output_type": "stream",
          "name": "stdout",
          "text": [
            "Smote : NO    ; Scaling : NO\n",
            "Accurecy:  0.57\n",
            "------------------------------------------------------------------------------\n",
            "------------------------------------------------------------------------------\n",
            "Smote : NO    ; Scaling : All Data(Standard)\n",
            "Accurecy:  0.57\n",
            "------------------------------------------------------------------------------\n",
            "------------------------------------------------------------------------------\n",
            "Smote : NO    ; Scaling : All Data(MinMax)\n",
            "Accurecy:  0.57\n",
            "------------------------------------------------------------------------------\n",
            "------------------------------------------------------------------------------\n",
            "Smote : ALL   ; Scaling : NO\n",
            "Accurecy:  0.55\n",
            "------------------------------------------------------------------------------\n",
            "------------------------------------------------------------------------------\n",
            "Smote : Train ; Scaling : NO\n",
            "Accurecy:  0.52\n",
            "------------------------------------------------------------------------------\n",
            "------------------------------------------------------------------------------\n",
            "Smote : All   ; Scaling : All(Standard)\n",
            "Accurecy:  0.54\n",
            "------------------------------------------------------------------------------\n",
            "------------------------------------------------------------------------------\n",
            "Smote : All   ; Scaling : All(MinMax)\n",
            "Accurecy:  0.54\n",
            "------------------------------------------------------------------------------\n",
            "------------------------------------------------------------------------------\n",
            "CPU times: user 3min 42s, sys: 0 ns, total: 3min 42s\n",
            "Wall time: 3min 42s\n"
          ]
        },
        {
          "output_type": "execute_result",
          "data": {
            "text/plain": [
              "'Tunning Data Report is Secured for this phase!!!'"
            ],
            "application/vnd.google.colaboratory.intrinsic+json": {
              "type": "string"
            }
          },
          "metadata": {},
          "execution_count": 47
        }
      ],
      "source": [
        "%%time\n",
        "from sklearn.ensemble import AdaBoostClassifier\n",
        "ada_defult = AdaBoostClassifier(random_state=0)\n",
        "tune_report_csv(ada_defult,tune_dic,selection_method,number_of_feat)\n"
      ]
    },
    {
      "cell_type": "markdown",
      "metadata": {
        "id": "JQhATacCo1AD"
      },
      "source": [
        "\n",
        "\n",
        "---\n",
        "\n",
        "\n",
        "\n",
        "---\n",
        "\n"
      ]
    },
    {
      "cell_type": "markdown",
      "metadata": {
        "id": "FJybpt_UvCU0"
      },
      "source": [
        "##Graddient Boosting"
      ]
    },
    {
      "cell_type": "code",
      "execution_count": null,
      "metadata": {
        "id": "sgmvc8A_o18j"
      },
      "outputs": [],
      "source": [
        "%%time\n",
        "from sklearn.ensemble import GradientBoostingClassifier\n",
        "gradBoost_default = GradientBoostingClassifier(random_state=0)\n",
        "\n",
        "tune_report_csv(gradBoost_default,tune_dic,selection_method,number_of_feat)"
      ]
    },
    {
      "cell_type": "markdown",
      "source": [
        "###Histogram-Based Gradient Boosting"
      ],
      "metadata": {
        "id": "e1Tco70euelI"
      }
    },
    {
      "cell_type": "code",
      "source": [
        "%%time\n",
        "from sklearn.ensemble import HistGradientBoostingClassifier\n",
        "\n",
        "hisgradBoost_default = HistGradientBoostingClassifier(random_state=0)\n",
        "\n",
        "tune_report_csv(hisgradBoost_default,tune_dic,selection_method,number_of_feat)"
      ],
      "metadata": {
        "colab": {
          "base_uri": "https://localhost:8080/",
          "height": 590
        },
        "id": "BEpdNycHuifn",
        "outputId": "18a581bb-fe29-4725-a1d4-cd02f5a1d957"
      },
      "execution_count": 49,
      "outputs": [
        {
          "output_type": "stream",
          "name": "stdout",
          "text": [
            "Smote : NO    ; Scaling : NO\n",
            "Accurecy:  0.71\n",
            "------------------------------------------------------------------------------\n",
            "------------------------------------------------------------------------------\n",
            "Smote : NO    ; Scaling : All Data(Standard)\n",
            "Accurecy:  0.71\n",
            "------------------------------------------------------------------------------\n",
            "------------------------------------------------------------------------------\n",
            "Smote : NO    ; Scaling : All Data(MinMax)\n",
            "Accurecy:  0.71\n",
            "------------------------------------------------------------------------------\n",
            "------------------------------------------------------------------------------\n",
            "Smote : ALL   ; Scaling : NO\n",
            "Accurecy:  0.73\n",
            "------------------------------------------------------------------------------\n",
            "------------------------------------------------------------------------------\n",
            "Smote : Train ; Scaling : NO\n",
            "Accurecy:  0.68\n",
            "------------------------------------------------------------------------------\n",
            "------------------------------------------------------------------------------\n",
            "Smote : All   ; Scaling : All(Standard)\n",
            "Accurecy:  0.73\n",
            "------------------------------------------------------------------------------\n",
            "------------------------------------------------------------------------------\n",
            "Smote : All   ; Scaling : All(MinMax)\n",
            "Accurecy:  0.73\n",
            "------------------------------------------------------------------------------\n",
            "------------------------------------------------------------------------------\n",
            "CPU times: user 4min 36s, sys: 1.67 s, total: 4min 37s\n",
            "Wall time: 2min 38s\n"
          ]
        },
        {
          "output_type": "execute_result",
          "data": {
            "text/plain": [
              "'Tunning Data Report is Secured for this phase!!!'"
            ],
            "application/vnd.google.colaboratory.intrinsic+json": {
              "type": "string"
            }
          },
          "metadata": {},
          "execution_count": 49
        }
      ]
    },
    {
      "cell_type": "markdown",
      "metadata": {
        "id": "ThoTlhc4pRJT"
      },
      "source": [
        "\n",
        "\n",
        "---\n",
        "\n",
        "\n",
        "\n",
        "---\n",
        "\n"
      ]
    },
    {
      "cell_type": "markdown",
      "metadata": {
        "id": "AgMT_U8gvM7F"
      },
      "source": [
        "##Random Forest"
      ]
    },
    {
      "cell_type": "code",
      "execution_count": 50,
      "metadata": {
        "colab": {
          "base_uri": "https://localhost:8080/",
          "height": 590
        },
        "id": "-4GMunEvtWk2",
        "outputId": "7d3ba0f6-f697-489b-84f3-5abd38ea0a39"
      },
      "outputs": [
        {
          "output_type": "stream",
          "name": "stdout",
          "text": [
            "Smote : NO    ; Scaling : NO\n",
            "Accurecy:  0.72\n",
            "------------------------------------------------------------------------------\n",
            "------------------------------------------------------------------------------\n",
            "Smote : NO    ; Scaling : All Data(Standard)\n",
            "Accurecy:  0.72\n",
            "------------------------------------------------------------------------------\n",
            "------------------------------------------------------------------------------\n",
            "Smote : NO    ; Scaling : All Data(MinMax)\n",
            "Accurecy:  0.72\n",
            "------------------------------------------------------------------------------\n",
            "------------------------------------------------------------------------------\n",
            "Smote : ALL   ; Scaling : NO\n",
            "Accurecy:  0.8\n",
            "------------------------------------------------------------------------------\n",
            "------------------------------------------------------------------------------\n",
            "Smote : Train ; Scaling : NO\n",
            "Accurecy:  0.7\n",
            "------------------------------------------------------------------------------\n",
            "------------------------------------------------------------------------------\n",
            "Smote : All   ; Scaling : All(Standard)\n",
            "Accurecy:  0.8\n",
            "------------------------------------------------------------------------------\n",
            "------------------------------------------------------------------------------\n",
            "Smote : All   ; Scaling : All(MinMax)\n",
            "Accurecy:  0.8\n",
            "------------------------------------------------------------------------------\n",
            "------------------------------------------------------------------------------\n",
            "CPU times: user 14min 9s, sys: 1.89 s, total: 14min 11s\n",
            "Wall time: 8min 14s\n"
          ]
        },
        {
          "output_type": "execute_result",
          "data": {
            "text/plain": [
              "'Tunning Data Report is Secured for this phase!!!'"
            ],
            "application/vnd.google.colaboratory.intrinsic+json": {
              "type": "string"
            }
          },
          "metadata": {},
          "execution_count": 50
        }
      ],
      "source": [
        "%%time\n",
        "RanFor={}\n",
        "\n",
        "from sklearn.ensemble import RandomForestClassifier\n",
        "rf_default = RandomForestClassifier(random_state=0,n_jobs=-1)\n",
        "\n",
        "tune_report_csv(rf_default,tune_dic,selection_method,number_of_feat)"
      ]
    },
    {
      "cell_type": "markdown",
      "metadata": {
        "id": "G_DChNuquB92"
      },
      "source": [
        "\n",
        "\n",
        "---\n",
        "\n",
        "\n",
        "\n",
        "---\n",
        "\n"
      ]
    },
    {
      "cell_type": "markdown",
      "metadata": {
        "id": "jRG4cBnKvZU2"
      },
      "source": [
        "##XGB"
      ]
    },
    {
      "cell_type": "code",
      "execution_count": null,
      "metadata": {
        "id": "sC1lAZeeuCw8"
      },
      "outputs": [],
      "source": [
        "%%time\n",
        "import xgboost as xgb\n",
        "xgb_deafult = xgb.XGBClassifier(random_state=0,n_jobs=-1)\n",
        "\n",
        "tune_report_csv(xgb_deafult,tune_dic,selection_method,number_of_feat)"
      ]
    },
    {
      "cell_type": "markdown",
      "metadata": {
        "id": "K6_icFWdauSI"
      },
      "source": [
        "##KNN"
      ]
    },
    {
      "cell_type": "code",
      "execution_count": null,
      "metadata": {
        "id": "6GALUBYbaz1z"
      },
      "outputs": [],
      "source": [
        "%%time\n",
        "from sklearn.neighbors import KNeighborsClassifier\n",
        "knn_default = KNeighborsClassifier(n_jobs = -1)\n",
        "\n",
        "tune_report_csv(knn_default,tune_dic,selection_method,number_of_feat)"
      ]
    },
    {
      "cell_type": "markdown",
      "metadata": {
        "id": "_Btki9jRvc1Y"
      },
      "source": [
        "##NB"
      ]
    },
    {
      "cell_type": "code",
      "execution_count": null,
      "metadata": {
        "id": "iRmd7ve-ubcd"
      },
      "outputs": [],
      "source": [
        "%%time\n",
        "from sklearn.naive_bayes import GaussianNB\n",
        "\n",
        "nb_deafult = GaussianNB()\n",
        "\n",
        "tune_report_csv(nb_deafult,tune_dic,selection_method,number_of_feat)"
      ]
    },
    {
      "cell_type": "markdown",
      "source": [
        "##Tree algorithms"
      ],
      "metadata": {
        "id": "F5nb6RJK0RYl"
      }
    },
    {
      "cell_type": "markdown",
      "source": [
        "###DecisionTreeRegressor"
      ],
      "metadata": {
        "id": "pInu7aUH0U5l"
      }
    },
    {
      "cell_type": "code",
      "source": [
        "%%time\n",
        "from sklearn.tree import DecisionTreeClassifier\n",
        "\n",
        "dtc = DecisionTreeClassifier()\n",
        "tune_report_csv(dtc,tune_dic,selection_method,number_of_feat)"
      ],
      "metadata": {
        "id": "ab5w_XIS0Ub8"
      },
      "execution_count": null,
      "outputs": []
    },
    {
      "cell_type": "code",
      "source": [
        "!pip install catboost\n",
        "\n",
        "from catboost import CatBoostClassifier\n",
        "#cat = CatBoostClassifier(task_type=\"GPU\")\n",
        "cat=CatBoostClassifier()\n",
        "\n",
        "tune_report_csv(cat,tune_dic,selection_method,number_of_feat)"
      ],
      "metadata": {
        "id": "Ft-htE7P-iA3"
      },
      "execution_count": null,
      "outputs": []
    }
  ],
  "metadata": {
    "colab": {
      "collapsed_sections": [
        "rrR11h2K-aJn",
        "85wbxGFW-kGZ",
        "YAQ71nBV-p7E",
        "jEe2R0yAoifa",
        "FJybpt_UvCU0",
        "AgMT_U8gvM7F",
        "jRG4cBnKvZU2",
        "K6_icFWdauSI",
        "_Btki9jRvc1Y",
        "znXNx2bgUvtd",
        "zxxWSX26jsGT",
        "XtgWbvJsEwMt"
      ],
      "provenance": [],
      "include_colab_link": true
    },
    "kernelspec": {
      "display_name": "Python 3 (ipykernel)",
      "language": "python",
      "name": "python3"
    },
    "language_info": {
      "codemirror_mode": {
        "name": "ipython",
        "version": 3
      },
      "file_extension": ".py",
      "mimetype": "text/x-python",
      "name": "python",
      "nbconvert_exporter": "python",
      "pygments_lexer": "ipython3",
      "version": "3.9.15"
    }
  },
  "nbformat": 4,
  "nbformat_minor": 0
}